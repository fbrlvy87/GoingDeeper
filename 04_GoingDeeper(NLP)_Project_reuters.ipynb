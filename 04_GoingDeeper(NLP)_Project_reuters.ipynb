{
 "cells": [
  {
   "cell_type": "code",
   "execution_count": 2,
   "id": "faced-progressive",
   "metadata": {
    "ExecuteTime": {
     "end_time": "2021-04-23T00:24:07.042553Z",
     "start_time": "2021-04-23T00:24:06.617796Z"
    }
   },
   "outputs": [],
   "source": [
    "from tensorflow.keras.datasets import reuters\n",
    "import matplotlib.pyplot as plt\n",
    "import seaborn as sns\n",
    "import numpy as np\n",
    "import pandas as pd"
   ]
  },
  {
   "cell_type": "markdown",
   "id": "living-status",
   "metadata": {},
   "source": [
    "# 모든 단어 사용"
   ]
  },
  {
   "cell_type": "markdown",
   "id": "thick-rapid",
   "metadata": {},
   "source": [
    "## 데이터 확인"
   ]
  },
  {
   "cell_type": "markdown",
   "id": "abandoned-mountain",
   "metadata": {},
   "source": [
    "### 데이터 로드"
   ]
  },
  {
   "cell_type": "code",
   "execution_count": 2,
   "id": "suspended-andorra",
   "metadata": {
    "ExecuteTime": {
     "end_time": "2021-04-22T08:57:03.920582Z",
     "start_time": "2021-04-22T08:57:03.375951Z"
    }
   },
   "outputs": [
    {
     "name": "stderr",
     "output_type": "stream",
     "text": [
      "/home/aiffel-dj24/anaconda3/envs/aiffel/lib/python3.7/site-packages/tensorflow/python/keras/datasets/reuters.py:148: VisibleDeprecationWarning: Creating an ndarray from ragged nested sequences (which is a list-or-tuple of lists-or-tuples-or ndarrays with different lengths or shapes) is deprecated. If you meant to do this, you must specify 'dtype=object' when creating the ndarray\n",
      "  x_train, y_train = np.array(xs[:idx]), np.array(labels[:idx])\n",
      "/home/aiffel-dj24/anaconda3/envs/aiffel/lib/python3.7/site-packages/tensorflow/python/keras/datasets/reuters.py:149: VisibleDeprecationWarning: Creating an ndarray from ragged nested sequences (which is a list-or-tuple of lists-or-tuples-or ndarrays with different lengths or shapes) is deprecated. If you meant to do this, you must specify 'dtype=object' when creating the ndarray\n",
      "  x_test, y_test = np.array(xs[idx:]), np.array(labels[idx:])\n"
     ]
    }
   ],
   "source": [
    "(x_train, y_train), (x_test, y_test) = reuters.load_data(num_words=None, test_split=0.2)"
   ]
  },
  {
   "cell_type": "code",
   "execution_count": 3,
   "id": "subject-iraqi",
   "metadata": {
    "ExecuteTime": {
     "end_time": "2021-04-22T08:57:03.924566Z",
     "start_time": "2021-04-22T08:57:03.921936Z"
    }
   },
   "outputs": [
    {
     "name": "stdout",
     "output_type": "stream",
     "text": [
      "훈련 샘플의 수: 8982\n",
      "테스트 샘플의 수: 2246\n"
     ]
    }
   ],
   "source": [
    "# 데이터 샘플 구성 확인\n",
    "print('훈련 샘플의 수: {}'.format(len(x_train)))\n",
    "print('테스트 샘플의 수: {}'.format(len(x_test)))"
   ]
  },
  {
   "cell_type": "markdown",
   "id": "welcome-execution",
   "metadata": {},
   "source": [
    "### 데이터 출력"
   ]
  },
  {
   "cell_type": "code",
   "execution_count": 4,
   "id": "ceramic-radical",
   "metadata": {
    "ExecuteTime": {
     "end_time": "2021-04-22T08:57:03.928174Z",
     "start_time": "2021-04-22T08:57:03.925739Z"
    }
   },
   "outputs": [
    {
     "name": "stdout",
     "output_type": "stream",
     "text": [
      "[1, 27595, 28842, 8, 43, 10, 447, 5, 25, 207, 270, 5, 3095, 111, 16, 369, 186, 90, 67, 7, 89, 5, 19, 102, 6, 19, 124, 15, 90, 67, 84, 22, 482, 26, 7, 48, 4, 49, 8, 864, 39, 209, 154, 6, 151, 6, 83, 11, 15, 22, 155, 11, 15, 7, 48, 9, 4579, 1005, 504, 6, 258, 6, 272, 11, 15, 22, 134, 44, 11, 15, 16, 8, 197, 1245, 90, 67, 52, 29, 209, 30, 32, 132, 6, 109, 15, 17, 12]\n",
      "[1, 4, 1378, 2025, 9, 697, 4622, 111, 8, 25, 109, 29, 3650, 11, 150, 244, 364, 33, 30, 30, 1398, 333, 6, 18292, 159, 9, 1084, 363, 13, 19231, 71, 9, 16273, 71, 117, 4, 225, 78, 206, 10, 9, 1214, 8, 4, 270, 5, 16273, 7, 748, 48, 9, 19231, 7, 207, 1451, 966, 1864, 793, 97, 133, 336, 7, 4, 493, 98, 273, 104, 284, 25, 39, 338, 22, 905, 220, 3465, 644, 59, 20, 6, 119, 61, 11, 15, 58, 579, 26, 10, 67, 7, 4, 738, 98, 43, 88, 333, 722, 12, 20, 6, 19, 746, 35, 15, 10, 9, 1214, 855, 129, 783, 21, 4, 2280, 244, 364, 51, 16, 299, 452, 16, 515, 4, 99, 29, 5, 4, 364, 281, 48, 10, 9, 1214, 23, 644, 47, 20, 324, 27, 56, 23406, 28185, 5, 192, 510, 17, 12]\n"
     ]
    }
   ],
   "source": [
    "# 첫 번째 훈련용 뉴스와 첫 번째 테스트용 뉴스 출력\n",
    "print(x_train[0])\n",
    "print(x_test[0])"
   ]
  },
  {
   "cell_type": "markdown",
   "id": "involved-access",
   "metadata": {},
   "source": [
    "- __num_words=None 적용시, 숫자 시퀀스에서 10,000 이상의 숫자 등장__"
   ]
  },
  {
   "cell_type": "code",
   "execution_count": 5,
   "id": "sustainable-locking",
   "metadata": {
    "ExecuteTime": {
     "end_time": "2021-04-22T08:57:03.931885Z",
     "start_time": "2021-04-22T08:57:03.929321Z"
    }
   },
   "outputs": [
    {
     "name": "stdout",
     "output_type": "stream",
     "text": [
      "3\n",
      "3\n"
     ]
    }
   ],
   "source": [
    "# 첫 번째 훈련용 뉴스와 테스트용 뉴스의 레이블 출력\n",
    "print(y_train[0])\n",
    "print(y_test[0])"
   ]
  },
  {
   "cell_type": "code",
   "execution_count": 6,
   "id": "intermediate-exhibition",
   "metadata": {
    "ExecuteTime": {
     "end_time": "2021-04-22T08:57:03.936525Z",
     "start_time": "2021-04-22T08:57:03.933132Z"
    }
   },
   "outputs": [
    {
     "name": "stdout",
     "output_type": "stream",
     "text": [
      "클래스의 수 : 46\n"
     ]
    }
   ],
   "source": [
    "# 클래스의 수 확인\n",
    "# 레이블은 숫자 0부터 시작되므로, 모든 레이블 중 최댓값을 구하고 1을 더하여 현재 클래스의 개수 확인\n",
    "num_classes = max(y_train) + 1\n",
    "print('클래스의 수 : {}'.format(num_classes))"
   ]
  },
  {
   "cell_type": "markdown",
   "id": "behavioral-species",
   "metadata": {},
   "source": [
    "### 데이터의 분포 확인"
   ]
  },
  {
   "cell_type": "code",
   "execution_count": 7,
   "id": "worthy-advertiser",
   "metadata": {
    "ExecuteTime": {
     "end_time": "2021-04-22T08:57:04.172196Z",
     "start_time": "2021-04-22T08:57:03.938378Z"
    }
   },
   "outputs": [
    {
     "name": "stdout",
     "output_type": "stream",
     "text": [
      "훈련용 뉴스의 최대 길이 :2376\n",
      "훈련용 뉴스의 평균 길이 :145.5398574927633\n"
     ]
    },
    {
     "data": {
      "image/png": "[encoded data removed]",
      "text/plain": [
       "<Figure size 432x288 with 1 Axes>"
      ]
     },
     "metadata": {
      "needs_background": "light"
     },
     "output_type": "display_data"
    }
   ],
   "source": [
    "# 뉴스 데이터의 길이 분포 시각화\n",
    "print('훈련용 뉴스의 최대 길이 :{}'.format(max(len(l) for l in x_train)))\n",
    "print('훈련용 뉴스의 평균 길이 :{}'.format(sum(map(len, x_train))/len(x_train)))\n",
    "\n",
    "plt.hist([len(s) for s in x_train], bins=50)\n",
    "plt.xlabel('length of samples')\n",
    "plt.ylabel('number of samples')\n",
    "plt.show()"
   ]
  },
  {
   "cell_type": "code",
   "execution_count": 8,
   "id": "liquid-mouse",
   "metadata": {
    "ExecuteTime": {
     "end_time": "2021-04-22T08:57:04.562081Z",
     "start_time": "2021-04-22T08:57:04.173849Z"
    }
   },
   "outputs": [
    {
     "name": "stderr",
     "output_type": "stream",
     "text": [
      "/home/aiffel-dj24/anaconda3/envs/aiffel/lib/python3.7/site-packages/seaborn/_decorators.py:43: FutureWarning: Pass the following variable as a keyword arg: x. From version 0.12, the only valid positional argument will be `data`, and passing other arguments without an explicit keyword will result in an error or misinterpretation.\n",
      "  FutureWarning\n"
     ]
    },
    {
     "data": {
      "text/plain": [
       "<AxesSubplot:ylabel='count'>"
      ]
     },
     "execution_count": 8,
     "metadata": {},
     "output_type": "execute_result"
    },
    {
     "data": {
      "image/png": "[encoded data removed]",
      "text/plain": [
       "<Figure size 864x360 with 1 Axes>"
      ]
     },
     "metadata": {
      "needs_background": "light"
     },
     "output_type": "display_data"
    }
   ],
   "source": [
    "# 클래스 분포 시각화\n",
    "fig, axe = plt.subplots(ncols=1)\n",
    "fig.set_size_inches(12,5)\n",
    "sns.countplot(y_train)"
   ]
  },
  {
   "cell_type": "code",
   "execution_count": 9,
   "id": "introductory-surfing",
   "metadata": {
    "ExecuteTime": {
     "end_time": "2021-04-22T08:57:04.566462Z",
     "start_time": "2021-04-22T08:57:04.563192Z"
    }
   },
   "outputs": [
    {
     "name": "stdout",
     "output_type": "stream",
     "text": [
      "각 클래스 빈도수:\n",
      "[[   0    1    2    3    4    5    6    7    8    9   10   11   12   13\n",
      "    14   15   16   17   18   19   20   21   22   23   24   25   26   27\n",
      "    28   29   30   31   32   33   34   35   36   37   38   39   40   41\n",
      "    42   43   44   45]\n",
      " [  55  432   74 3159 1949   17   48   16  139  101  124  390   49  172\n",
      "    26   20  444   39   66  549  269  100   15   41   62   92   24   15\n",
      "    48   19   45   39   32   11   50   10   49   19   19   24   36   30\n",
      "    13   21   12   18]]\n"
     ]
    }
   ],
   "source": [
    "# 클래스 분포 수치적 확인\n",
    "unique_elements, counts_elements = np.unique(y_train, return_counts=True)\n",
    "print(\"각 클래스 빈도수:\")\n",
    "print(np.asarray((unique_elements, counts_elements)))"
   ]
  },
  {
   "cell_type": "markdown",
   "id": "governing-locking",
   "metadata": {},
   "source": [
    "## 데이터 복원"
   ]
  },
  {
   "cell_type": "markdown",
   "id": "bacterial-compensation",
   "metadata": {},
   "source": [
    "### 원본 뉴스 데이터로 복원"
   ]
  },
  {
   "cell_type": "code",
   "execution_count": 10,
   "id": "convinced-dream",
   "metadata": {
    "ExecuteTime": {
     "end_time": "2021-04-22T08:57:04.578263Z",
     "start_time": "2021-04-22T08:57:04.567583Z"
    }
   },
   "outputs": [],
   "source": [
    "# 데이터의 단어장(Vocabulary) 생성\n",
    "word_index = reuters.get_word_index(path=\"reuters_word_index.json\")"
   ]
  },
  {
   "cell_type": "code",
   "execution_count": 11,
   "id": "registered-brown",
   "metadata": {
    "ExecuteTime": {
     "end_time": "2021-04-22T08:57:04.581438Z",
     "start_time": "2021-04-22T08:57:04.579296Z"
    }
   },
   "outputs": [
    {
     "name": "stdout",
     "output_type": "stream",
     "text": [
      "1\n",
      "13\n"
     ]
    }
   ],
   "source": [
    "# 맵핑 확인\n",
    "print(word_index['the'])\n",
    "print(word_index['it'])"
   ]
  },
  {
   "cell_type": "code",
   "execution_count": 12,
   "id": "macro-convert",
   "metadata": {
    "ExecuteTime": {
     "end_time": "2021-04-22T08:57:04.586754Z",
     "start_time": "2021-04-22T08:57:04.582606Z"
    }
   },
   "outputs": [],
   "source": [
    "# reuters.get_word_index에는 실제 단어에 맵핑한 정수에 -3을 한 정수를 입력\n",
    "# 따라서 word_index에서 index_word를 만들 때, 각 정수에 +3을 해준다.\n",
    "index_to_word = {index + 3 : word for word, index in word_index.items()}"
   ]
  },
  {
   "cell_type": "code",
   "execution_count": 13,
   "id": "fifth-telling",
   "metadata": {
    "ExecuteTime": {
     "end_time": "2021-04-22T08:57:04.590032Z",
     "start_time": "2021-04-22T08:57:04.587808Z"
    }
   },
   "outputs": [
    {
     "name": "stdout",
     "output_type": "stream",
     "text": [
      "the\n",
      "it\n"
     ]
    }
   ],
   "source": [
    "print(index_to_word[4])\n",
    "print(index_to_word[16])"
   ]
  },
  {
   "cell_type": "code",
   "execution_count": 14,
   "id": "inclusive-enforcement",
   "metadata": {
    "ExecuteTime": {
     "end_time": "2021-04-22T08:57:04.593169Z",
     "start_time": "2021-04-22T08:57:04.591228Z"
    }
   },
   "outputs": [],
   "source": [
    "# index_to_word에 0은 <pad>, 1은 <sos>, 2는 <unk>를 넣어줌\n",
    "for index, token in enumerate((\"<pad>\", \"<sos>\", \"<unk>\")):\n",
    "    index_to_word[index]=token"
   ]
  },
  {
   "cell_type": "code",
   "execution_count": 15,
   "id": "basic-chemical",
   "metadata": {
    "ExecuteTime": {
     "end_time": "2021-04-22T08:57:04.596453Z",
     "start_time": "2021-04-22T08:57:04.594154Z"
    }
   },
   "outputs": [
    {
     "name": "stdout",
     "output_type": "stream",
     "text": [
      "<sos> mcgrath rentcorp said as a result of its december acquisition of space co it expects earnings per share in 1987 of 1 15 to 1 30 dlrs per share up from 70 cts in 1986 the company said pretax net should rise to nine to 10 mln dlrs from six mln dlrs in 1986 and rental operation revenues to 19 to 22 mln dlrs from 12 5 mln dlrs it said cash flow per share this year should be 2 50 to three dlrs reuter 3\n"
     ]
    }
   ],
   "source": [
    "# index_to_word를 통해서 첫 번째 훈련용 뉴스 기사를 원래 텍스트로 복원\n",
    "print(' '.join([index_to_word[index] for index in x_train[0]]))"
   ]
  },
  {
   "cell_type": "markdown",
   "id": "featured-milton",
   "metadata": {},
   "source": [
    "- __모든 단어를 사용(num_words=None)했기 때문에 \\<unk>가 생성되지 않음__"
   ]
  },
  {
   "cell_type": "code",
   "execution_count": 16,
   "id": "initial-electricity",
   "metadata": {
    "ExecuteTime": {
     "end_time": "2021-04-22T08:57:04.746310Z",
     "start_time": "2021-04-22T08:57:04.597652Z"
    }
   },
   "outputs": [],
   "source": [
    "# 전체 훈련용 뉴스 데이터를 텍스트 데이터로 변환\n",
    "decoded = []\n",
    "for i in range(len(x_train)):\n",
    "    t = ' '.join([index_to_word[index] for index in x_train[i]])\n",
    "    decoded.append(t)\n",
    "\n",
    "x_train = decoded"
   ]
  },
  {
   "cell_type": "code",
   "execution_count": 17,
   "id": "comprehensive-cinema",
   "metadata": {
    "ExecuteTime": {
     "end_time": "2021-04-22T08:57:04.749945Z",
     "start_time": "2021-04-22T08:57:04.747386Z"
    },
    "scrolled": true
   },
   "outputs": [
    {
     "data": {
      "text/plain": [
       "['<sos> mcgrath rentcorp said as a result of its december acquisition of space co it expects earnings per share in 1987 of 1 15 to 1 30 dlrs per share up from 70 cts in 1986 the company said pretax net should rise to nine to 10 mln dlrs from six mln dlrs in 1986 and rental operation revenues to 19 to 22 mln dlrs from 12 5 mln dlrs it said cash flow per share this year should be 2 50 to three dlrs reuter 3',\n",
       " \"<sos> generale de banque sa lt genb br and lt heller overseas corp of chicago have each taken 50 pct stakes in factoring company sa belgo factors generale de banque said in a statement it gave no financial details of the transaction sa belgo factors' turnover in 1986 was 17 5 billion belgian francs reuter 3\",\n",
       " '<sos> shr 3 28 dlrs vs 22 cts shr diluted 2 99 dlrs vs 22 cts net 46 0 mln vs 3 328 000 avg shrs 14 0 mln vs 15 2 mln year shr 5 41 dlrs vs 1 56 dlrs shr diluted 4 94 dlrs vs 1 50 dlrs net 78 2 mln vs 25 9 mln avg shrs 14 5 mln vs 15 1 mln note earnings per share reflect the two for one split effective january 6 1987 per share amounts are calculated after preferred stock dividends loss continuing operations for the qtr 1986 includes gains of sale of investments in enron corp of 14 mln dlrs and associated companies of 4 189 000 less writedowns of investments in national intergroup inc of 11 8 mln and brae corp of 15 6 mln reuter 3',\n",
       " \"<sos> the farmers home administration the u s agriculture department's farm lending arm could lose about seven billion dlrs in outstanding principal on its severely delinquent borrowers or about one fourth of its farm loan portfolio the general accounting office gao said in remarks prepared for delivery to the senate agriculture committee brian crowley senior associate director of gao also said that a preliminary analysis of proposed changes in fmha's financial eligibility standards indicated as many as one half of fmha borrowers who received new loans from the agency in 1986 would be ineligible under the proposed system the agency has proposed evaluating applicants' credit using a variety of financial ratios instead of relying solely on cashflow ability senate agriculture committee chairman patrick leahy d vt slammed the proposed eligibility changes telling fmha administrator vance clark at a hearing that they would mark a dramatic shift in the agency's purpose away from being farmers' lender of last resort toward becoming a big city bank but clark defended the new regulations saying the agency had a responsibility to administer its 70 billion dlr loan portfolio in a compassionate yet judicious manner crowley of gao congress' investigative arm said the proposed credit scoring system attempted to ensure that fmha would make loans only to borrowers who had a reasonable change of repaying their debt reuter 3\",\n",
       " '<sos> seton co said its board has received a proposal from chairman and chief executive officer philip d kaltenbacher to acquire seton for 15 75 dlrs per share in cash seton said the acquisition bid is subject to kaltenbacher arranging the necessary financing it said he intends to ask other members of senior management to participate the company said kaltenbacher owns 30 pct of seton stock and other management members another 7 5 pct seton said it has formed an independent board committee to consider the offer and has deferred the annual meeting it had scheduled for march 31 reuter 3']"
      ]
     },
     "execution_count": 17,
     "metadata": {},
     "output_type": "execute_result"
    }
   ],
   "source": [
    "# 전체 훈련용 뉴스 데이터를 텍스트 데이터로 변환 후 확인\n",
    "x_train[:5]"
   ]
  },
  {
   "cell_type": "code",
   "execution_count": 18,
   "id": "hawaiian-initial",
   "metadata": {
    "ExecuteTime": {
     "end_time": "2021-04-22T08:57:04.788283Z",
     "start_time": "2021-04-22T08:57:04.751002Z"
    }
   },
   "outputs": [],
   "source": [
    "# 전체 테스트용 뉴스 데이터를 텍스트 데이터로 변환\n",
    "decoded = []\n",
    "for i in range(len(x_test)):\n",
    "    t = ' '.join([index_to_word[index] for index in x_test[i]])\n",
    "    decoded.append(t)\n",
    "\n",
    "x_test = decoded"
   ]
  },
  {
   "cell_type": "code",
   "execution_count": 19,
   "id": "falling-array",
   "metadata": {
    "ExecuteTime": {
     "end_time": "2021-04-22T08:57:04.792191Z",
     "start_time": "2021-04-22T08:57:04.789474Z"
    },
    "scrolled": true
   },
   "outputs": [
    {
     "data": {
      "text/plain": [
       "['<sos> the great atlantic and pacific tea co said its three year 345 mln dlr capital program will be be substantially increased to accommodate growth and expansion plans for waldbaum inc and shopwell inc over the next two years a and p said the acquisition of shopwell in august 1986 and waldbaum in december helped us achieve better than expected results in the fourth quarter ended february 28 its net income from continuing operations jumped 52 6 pct to 20 7 mln dlrs or 55 cts a share in the latest quarter as sales increased 48 3 pct to 1 58 billion dlrs a and p gave no details on the expanded capital program but it did say it completed the first year of the program during 1986 a and p is 52 4 pct owned by lt tengelmann warenhandelsgesellschaft of west germany reuter 3',\n",
       " \"<sos> philippine sugar production in the 1987 88 crop year ending august has been set at 1 6 mln tonnes up from a provisional 1 3 mln tonnes this year sugar regulatory administration sra chairman arsenio yulo said yulo told reuters a survey during the current milling season which ends next month showed the 1986 87 estimate would almost certainly be met he said at least 1 2 mln tonnes of the 1987 88 crop would be earmarked for domestic consumption yulo said about 130 000 tonnes would be set aside for the u s sugar quota 150 000 tonnes for strategic reserves and 50 000 tonnes would be sold on the world market he said if the government approved a long standing sra recommendation to manufacture ethanol the project would take up another 150 000 tonnes slightly raising the target the government for its own reasons has been delaying approval of the project but we expect it to come through by july yulo said ethanol could make up five pct of gasoline cutting the oil import bill by about 300 mln pesos yulo said three major philippine distilleries were ready to start manufacturing ethanol if the project was approved the ethanol project would result in employment for about 100 000 people sharply reducing those thrown out of work by depressed world sugar prices and a moribund domestic industry production quotas set for the first time in 1987 88 had been submitted to president corazon aquino i think the president would rather wait till the new congress convenes after the may elections he said but there is really no need for such quotas we are right now producing just slightly over our own consumption level the producers have never enjoyed such high prices yulo said adding sugar was currently selling locally for 320 pesos per picul up from 190 pesos last august yulo said prices were driven up because of speculation following the sra's bid to control production we are no longer concerned so much with the world market he said adding producers in the negros region had learned from their mistakes and diversified into corn and prawn farming and cloth production he said diversification into products other than ethanol was also possible within the sugar industry the brazilians long ago learnt their lessons yulo said they have 300 sugar mills compared with our 41 but they relocated many of them and diversified production we want to call this a 'sugarcane industry' instead of the sugar industry he said sugarcane could be fed to pigs and livestock used for thatching roofs or used in room panelling when you cut sugarcane you don't even have to produce sugar he said yulo said the philippines was lobbying for a renewal of the international sugar agreement which expired in 1984 as a major sugar producer we are urging them to write a new agreement which would revive world prices yulo said if there is no agreement world prices will always be depressed particularly because the european community is subsidising its producers and dumping sugar on the markets he said current world prices holding steady at about 7 60 cents per pound were uneconomical for the philippines where production costs ranged from 12 to 14 cents a pound if the price holds steady for a while at 7 60 cents i expect the level to rise to about 11 cents a pound by the end of this year he said yulo said economists forecast a bullish sugar market by 1990 with world consumption outstripping production he said sugar markets were holding up despite encroachments from artificial sweeteners and high fructose corn syrup but we are not happy with the reagan administration he said since 1935 we have been regular suppliers of sugar to the u s in 1982 when they restored the quota system they cut ours in half without any justification manila was keenly watching washington's moves to cut domestic support prices to 12 cents a pound from 18 cents the u s agriculture department last december slashed its 12 month 1987 sugar import quota from the philippines to 143 780 short tons from 231 660 short tons in 1986 yulo said despite next year's increased production target some philippine mills were expected to shut down at least four of the 41 mills were not working during the 1986 87 season he said we expect two or three more to follow suit during the next season reuter 3\",\n",
       " \"<sos> the agriculture department's widening of louisiana gulf differentials will affect county posted prices for number two yellow corn in ten states a usda official said all counties in iowa will be affected as will counties which use the gulf to price corn in illinois indiana tennessee kentucky missouri mississippi arkansas alabama and louisiana said ron burgess deputy director of commodity operations division for the usda usda last night notified the grain industry that effective immediately all gulf differentials used to price interior corn would be widened on a sliding scale basis of four to eight cts depending on what the differential is usda's action was taken to lower excessively high posted county prices for corn caused by high gulf prices we've been following this louisiana gulf situation for a month and we don't think it's going to get back in line in any nearby time burgess said burgess said usda will probably narrow back the gulf differentials when and if gulf prices recede if we're off the mark now because we're too high wouldn't we be as much off the mark if we're too low he said while forecasting more adjustments if gulf prices fall burgess said no other changes in usda's price system are being planned right now we don't tinker we don't make changes lightly and we don't make changes often he said reuter 3\",\n",
       " '<sos> graham mccormick oil and gas partnership said it completed the sale of interests in two major oil and gas fields to lt energy assets international corp for 21 mln dlrs the company said it sold about one half of its 50 pct interest in the oak hill and north rucias fields its two largest producing properties it said it used about 20 mln dlrs of the proceeds to prepay principal on its senior secured notes semi annual principal payments on the remaining 40 mln dlrs of notes have been satisfied until december 1988 as a result it said the company said the note agreements were amended to reflect an easing of some financial covenants and an increase of interest to 13 5 pct from 13 0 pct until december 1990 it said the noteholders exercise price for 1 125 000 warrants was also reduced to 50 cts from 1 50 dlrs the company said energy assets agreed to share the costs of increasing production at the oak hill field reuter 3',\n",
       " '<sos> strong south easterly winds were keeping many vessels trapped in the ice off the finnish and swedish coasts in one of the worst icy periods in the baltic for many years the finnish board of navigation said in finland and sweden up to 50 vessels were reported to be stuck in the ice and even the largest of the assisting icebreakers were having difficulties in breaking through to the stranded ships coastguard officials said however icy conditions in the southern baltic at the soviet oil ports of ventspils and klaipeda had eased they said weather officials in neighbouring sweden said the icy conditions in the baltic were the worst for 30 years with ships fighting a losing battle to keep moving in the coastal stretches of the gulf of bothnia which divides finland and sweden the ice is up to one metre thick with drifts and currents packing it into almost impenetrable walls three metres high swedish coastguard officials said weather forecasts say winds may ease during the weekend but a further drop in temperature could bring shipping to a standstill the officials said reuter 3']"
      ]
     },
     "execution_count": 19,
     "metadata": {},
     "output_type": "execute_result"
    }
   ],
   "source": [
    "# 전체 테스트용 뉴스 데이터를 텍스트 데이터로 변환 후 확인\n",
    "x_test[:5]"
   ]
  },
  {
   "cell_type": "markdown",
   "id": "japanese-simple",
   "metadata": {},
   "source": [
    "## 벡터화"
   ]
  },
  {
   "cell_type": "code",
   "execution_count": 20,
   "id": "fuzzy-basics",
   "metadata": {
    "ExecuteTime": {
     "end_time": "2021-04-22T08:57:04.826246Z",
     "start_time": "2021-04-22T08:57:04.793175Z"
    }
   },
   "outputs": [],
   "source": [
    "from sklearn.feature_extraction.text import CountVectorizer\n",
    "from sklearn.feature_extraction.text import TfidfTransformer"
   ]
  },
  {
   "cell_type": "markdown",
   "id": "nominated-professor",
   "metadata": {},
   "source": [
    "### DTM 생성"
   ]
  },
  {
   "cell_type": "code",
   "execution_count": 21,
   "id": "passive-caution",
   "metadata": {
    "ExecuteTime": {
     "end_time": "2021-04-22T08:57:05.750519Z",
     "start_time": "2021-04-22T08:57:04.827404Z"
    }
   },
   "outputs": [
    {
     "name": "stdout",
     "output_type": "stream",
     "text": [
      "(8982, 26506)\n",
      "(2246, 26506)\n"
     ]
    }
   ],
   "source": [
    "# 사이킷런의 CountVectorizer()를 통한 DTM(Document Term Matrix) 생성 및 크기 확인\n",
    "dtmvector = CountVectorizer()\n",
    "x_train_dtm = dtmvector.fit_transform(x_train)\n",
    "x_test_dtm = dtmvector.transform(x_test)\n",
    "\n",
    "print(x_train_dtm.shape)\n",
    "print(x_test_dtm.shape)"
   ]
  },
  {
   "cell_type": "markdown",
   "id": "authorized-pioneer",
   "metadata": {},
   "source": [
    "- __훈련용 뉴스의 개수(DTM의 행의 개수) : 8,982__\n",
    "- __테스트용 뉴스의 개수(DTM의 행의 개수) : 2,246__\n",
    "- __단어의 개수(DTM의 열의 개수) : 26,506__"
   ]
  },
  {
   "cell_type": "markdown",
   "id": "blond-bulgaria",
   "metadata": {},
   "source": [
    "### TF-IDF Matrix 생성"
   ]
  },
  {
   "cell_type": "code",
   "execution_count": 22,
   "id": "endangered-canvas",
   "metadata": {
    "ExecuteTime": {
     "end_time": "2021-04-22T08:57:05.809109Z",
     "start_time": "2021-04-22T08:57:05.753425Z"
    }
   },
   "outputs": [
    {
     "name": "stdout",
     "output_type": "stream",
     "text": [
      "(8982, 26506)\n",
      "(2246, 26506)\n"
     ]
    }
   ],
   "source": [
    "# 사이킷런의 TfidfTransformer()를 통한 TF-IDF Matrix 생성 및 크기 확인\n",
    "tfidf_transformer = TfidfTransformer()\n",
    "tfidfv = tfidf_transformer.fit_transform(x_train_dtm)    # DTM을 TF-IDF 행렬로 변환\n",
    "tfidfv_test = tfidf_transformer.transform(x_test_dtm)\n",
    "\n",
    "print(tfidfv.shape)\n",
    "print(tfidfv_test.shape)"
   ]
  },
  {
   "cell_type": "markdown",
   "id": "soviet-flood",
   "metadata": {},
   "source": [
    "## 나이브 베이즈 분류기"
   ]
  },
  {
   "cell_type": "code",
   "execution_count": 23,
   "id": "eligible-edition",
   "metadata": {
    "ExecuteTime": {
     "end_time": "2021-04-22T08:57:05.933698Z",
     "start_time": "2021-04-22T08:57:05.810916Z"
    }
   },
   "outputs": [],
   "source": [
    "from sklearn.naive_bayes import MultinomialNB #다항분포 나이브 베이즈 모델\n",
    "from sklearn.linear_model import LogisticRegression, SGDClassifier\n",
    "from sklearn.naive_bayes import ComplementNB\n",
    "from sklearn.tree import DecisionTreeClassifier\n",
    "from sklearn.ensemble import RandomForestClassifier\n",
    "from sklearn.ensemble import GradientBoostingClassifier\n",
    "from sklearn.ensemble import VotingClassifier\n",
    "from sklearn.svm import LinearSVC\n",
    "from sklearn.metrics import accuracy_score #정확도 계산\n",
    "from sklearn.metrics import classification_report # \n",
    "from sklearn.metrics import confusion_matrix"
   ]
  },
  {
   "cell_type": "code",
   "execution_count": 24,
   "id": "chinese-sunrise",
   "metadata": {
    "ExecuteTime": {
     "end_time": "2021-04-22T08:57:06.002784Z",
     "start_time": "2021-04-22T08:57:05.935209Z"
    }
   },
   "outputs": [
    {
     "data": {
      "text/plain": [
       "MultinomialNB()"
      ]
     },
     "execution_count": 24,
     "metadata": {},
     "output_type": "execute_result"
    }
   ],
   "source": [
    "# 사이킷런의 MultinomialNB()를 사용해 학습\n",
    "mod = MultinomialNB()\n",
    "mod.fit(tfidfv, y_train)"
   ]
  },
  {
   "cell_type": "code",
   "execution_count": 25,
   "id": "specified-buying",
   "metadata": {
    "ExecuteTime": {
     "end_time": "2021-04-22T08:57:06.016426Z",
     "start_time": "2021-04-22T08:57:06.004107Z"
    }
   },
   "outputs": [
    {
     "name": "stdout",
     "output_type": "stream",
     "text": [
      "정확도: 0.5997328584149599\n"
     ]
    }
   ],
   "source": [
    "predicted = mod.predict(tfidfv_test) #테스트 데이터에 대한 예측\n",
    "print(\"정확도:\", accuracy_score(y_test, predicted)) #예측값과 실제값 비교"
   ]
  },
  {
   "cell_type": "code",
   "execution_count": 26,
   "id": "invalid-journal",
   "metadata": {
    "ExecuteTime": {
     "end_time": "2021-04-22T08:57:06.037198Z",
     "start_time": "2021-04-22T08:57:06.017751Z"
    }
   },
   "outputs": [
    {
     "name": "stdout",
     "output_type": "stream",
     "text": [
      "              precision    recall  f1-score   support\n",
      "\n",
      "           0       0.00      0.00      0.00        12\n",
      "           1       0.79      0.21      0.33       105\n",
      "           2       0.00      0.00      0.00        20\n",
      "           3       0.72      0.92      0.81       813\n",
      "           4       0.45      0.96      0.61       474\n",
      "           5       0.00      0.00      0.00         5\n",
      "           6       0.00      0.00      0.00        14\n",
      "           7       0.00      0.00      0.00         3\n",
      "           8       0.00      0.00      0.00        38\n",
      "           9       0.00      0.00      0.00        25\n",
      "          10       0.00      0.00      0.00        30\n",
      "          11       0.80      0.29      0.42        83\n",
      "          12       0.00      0.00      0.00        13\n",
      "          13       0.00      0.00      0.00        37\n",
      "          14       0.00      0.00      0.00         2\n",
      "          15       0.00      0.00      0.00         9\n",
      "          16       0.75      0.18      0.29        99\n",
      "          17       0.00      0.00      0.00        12\n",
      "          18       0.00      0.00      0.00        20\n",
      "          19       0.73      0.58      0.64       133\n",
      "          20       0.00      0.00      0.00        70\n",
      "          21       0.00      0.00      0.00        27\n",
      "          22       0.00      0.00      0.00         7\n",
      "          23       0.00      0.00      0.00        12\n",
      "          24       0.00      0.00      0.00        19\n",
      "          25       0.00      0.00      0.00        31\n",
      "          26       0.00      0.00      0.00         8\n",
      "          27       0.00      0.00      0.00         4\n",
      "          28       0.00      0.00      0.00        10\n",
      "          29       0.00      0.00      0.00         4\n",
      "          30       0.00      0.00      0.00        12\n",
      "          31       0.00      0.00      0.00        13\n",
      "          32       0.00      0.00      0.00        10\n",
      "          33       0.00      0.00      0.00         5\n",
      "          34       0.00      0.00      0.00         7\n",
      "          35       0.00      0.00      0.00         6\n",
      "          36       0.00      0.00      0.00        11\n",
      "          37       0.00      0.00      0.00         2\n",
      "          38       0.00      0.00      0.00         3\n",
      "          39       0.00      0.00      0.00         5\n",
      "          40       0.00      0.00      0.00        10\n",
      "          41       0.00      0.00      0.00         8\n",
      "          42       0.00      0.00      0.00         3\n",
      "          43       0.00      0.00      0.00         6\n",
      "          44       0.00      0.00      0.00         5\n",
      "          45       0.00      0.00      0.00         1\n",
      "\n",
      "    accuracy                           0.60      2246\n",
      "   macro avg       0.09      0.07      0.07      2246\n",
      "weighted avg       0.50      0.60      0.50      2246\n",
      "\n"
     ]
    },
    {
     "name": "stderr",
     "output_type": "stream",
     "text": [
      "/home/aiffel-dj24/anaconda3/envs/aiffel/lib/python3.7/site-packages/sklearn/metrics/_classification.py:1245: UndefinedMetricWarning: Precision and F-score are ill-defined and being set to 0.0 in labels with no predicted samples. Use `zero_division` parameter to control this behavior.\n",
      "  _warn_prf(average, modifier, msg_start, len(result))\n",
      "/home/aiffel-dj24/anaconda3/envs/aiffel/lib/python3.7/site-packages/sklearn/metrics/_classification.py:1245: UndefinedMetricWarning: Precision and F-score are ill-defined and being set to 0.0 in labels with no predicted samples. Use `zero_division` parameter to control this behavior.\n",
      "  _warn_prf(average, modifier, msg_start, len(result))\n",
      "/home/aiffel-dj24/anaconda3/envs/aiffel/lib/python3.7/site-packages/sklearn/metrics/_classification.py:1245: UndefinedMetricWarning: Precision and F-score are ill-defined and being set to 0.0 in labels with no predicted samples. Use `zero_division` parameter to control this behavior.\n",
      "  _warn_prf(average, modifier, msg_start, len(result))\n"
     ]
    }
   ],
   "source": [
    "print(classification_report(y_test, mod.predict(tfidfv_test)))"
   ]
  },
  {
   "cell_type": "markdown",
   "id": "classical-commissioner",
   "metadata": {},
   "source": [
    "## CNB (Complement Naive Bayes Classifier,  컴플리먼트 나이브 베이즈 분류기)"
   ]
  },
  {
   "cell_type": "code",
   "execution_count": 27,
   "id": "central-junction",
   "metadata": {
    "ExecuteTime": {
     "end_time": "2021-04-22T08:57:06.105734Z",
     "start_time": "2021-04-22T08:57:06.038413Z"
    }
   },
   "outputs": [
    {
     "data": {
      "text/plain": [
       "ComplementNB()"
      ]
     },
     "execution_count": 27,
     "metadata": {},
     "output_type": "execute_result"
    }
   ],
   "source": [
    "# 사이킷런의 ComplementNB()를 사용해 학습\n",
    "cb = ComplementNB()\n",
    "cb.fit(tfidfv, y_train)"
   ]
  },
  {
   "cell_type": "code",
   "execution_count": 28,
   "id": "impossible-construction",
   "metadata": {
    "ExecuteTime": {
     "end_time": "2021-04-22T08:57:06.119280Z",
     "start_time": "2021-04-22T08:57:06.107056Z"
    }
   },
   "outputs": [
    {
     "name": "stdout",
     "output_type": "stream",
     "text": [
      "정확도: 0.7649154051647373\n"
     ]
    }
   ],
   "source": [
    "predicted = cb.predict(tfidfv_test) #테스트 데이터에 대한 예측\n",
    "print(\"정확도:\", accuracy_score(y_test, predicted)) #예측값과 실제값 비교"
   ]
  },
  {
   "cell_type": "code",
   "execution_count": 29,
   "id": "fleet-couple",
   "metadata": {
    "ExecuteTime": {
     "end_time": "2021-04-22T08:57:06.139371Z",
     "start_time": "2021-04-22T08:57:06.120544Z"
    }
   },
   "outputs": [
    {
     "name": "stdout",
     "output_type": "stream",
     "text": [
      "              precision    recall  f1-score   support\n",
      "\n",
      "           0       0.86      0.50      0.63        12\n",
      "           1       0.63      0.88      0.73       105\n",
      "           2       0.91      0.50      0.65        20\n",
      "           3       0.87      0.91      0.89       813\n",
      "           4       0.75      0.93      0.83       474\n",
      "           5       0.00      0.00      0.00         5\n",
      "           6       0.92      0.86      0.89        14\n",
      "           7       1.00      0.67      0.80         3\n",
      "           8       0.43      0.08      0.13        38\n",
      "           9       0.81      0.88      0.85        25\n",
      "          10       0.96      0.73      0.83        30\n",
      "          11       0.55      0.67      0.61        83\n",
      "          12       0.00      0.00      0.00        13\n",
      "          13       0.62      0.54      0.58        37\n",
      "          14       0.00      0.00      0.00         2\n",
      "          15       0.50      0.11      0.18         9\n",
      "          16       0.67      0.77      0.71        99\n",
      "          17       0.00      0.00      0.00        12\n",
      "          18       0.65      0.55      0.59        20\n",
      "          19       0.55      0.80      0.65       133\n",
      "          20       0.89      0.23      0.36        70\n",
      "          21       0.84      0.59      0.70        27\n",
      "          22       0.00      0.00      0.00         7\n",
      "          23       0.71      0.42      0.53        12\n",
      "          24       0.50      0.11      0.17        19\n",
      "          25       0.83      0.61      0.70        31\n",
      "          26       1.00      0.88      0.93         8\n",
      "          27       0.00      0.00      0.00         4\n",
      "          28       0.33      0.10      0.15        10\n",
      "          29       0.00      0.00      0.00         4\n",
      "          30       0.00      0.00      0.00        12\n",
      "          31       1.00      0.31      0.47        13\n",
      "          32       1.00      0.80      0.89        10\n",
      "          33       1.00      0.80      0.89         5\n",
      "          34       1.00      0.71      0.83         7\n",
      "          35       1.00      0.17      0.29         6\n",
      "          36       0.00      0.00      0.00        11\n",
      "          37       0.00      0.00      0.00         2\n",
      "          38       1.00      0.33      0.50         3\n",
      "          39       1.00      0.20      0.33         5\n",
      "          40       0.00      0.00      0.00        10\n",
      "          41       0.67      0.25      0.36         8\n",
      "          42       1.00      0.33      0.50         3\n",
      "          43       1.00      0.17      0.29         6\n",
      "          44       1.00      0.80      0.89         5\n",
      "          45       1.00      1.00      1.00         1\n",
      "\n",
      "    accuracy                           0.76      2246\n",
      "   macro avg       0.62      0.42      0.46      2246\n",
      "weighted avg       0.75      0.76      0.73      2246\n",
      "\n"
     ]
    },
    {
     "name": "stderr",
     "output_type": "stream",
     "text": [
      "/home/aiffel-dj24/anaconda3/envs/aiffel/lib/python3.7/site-packages/sklearn/metrics/_classification.py:1245: UndefinedMetricWarning: Precision and F-score are ill-defined and being set to 0.0 in labels with no predicted samples. Use `zero_division` parameter to control this behavior.\n",
      "  _warn_prf(average, modifier, msg_start, len(result))\n",
      "/home/aiffel-dj24/anaconda3/envs/aiffel/lib/python3.7/site-packages/sklearn/metrics/_classification.py:1245: UndefinedMetricWarning: Precision and F-score are ill-defined and being set to 0.0 in labels with no predicted samples. Use `zero_division` parameter to control this behavior.\n",
      "  _warn_prf(average, modifier, msg_start, len(result))\n",
      "/home/aiffel-dj24/anaconda3/envs/aiffel/lib/python3.7/site-packages/sklearn/metrics/_classification.py:1245: UndefinedMetricWarning: Precision and F-score are ill-defined and being set to 0.0 in labels with no predicted samples. Use `zero_division` parameter to control this behavior.\n",
      "  _warn_prf(average, modifier, msg_start, len(result))\n"
     ]
    }
   ],
   "source": [
    "print(classification_report(y_test, cb.predict(tfidfv_test)))"
   ]
  },
  {
   "cell_type": "markdown",
   "id": "aquatic-lodging",
   "metadata": {},
   "source": [
    "## 로지스틱 회귀(Logistic Regression) = 소프트맥스 회귀(Softmax Regression)"
   ]
  },
  {
   "cell_type": "code",
   "execution_count": 30,
   "id": "pending-broadcasting",
   "metadata": {
    "ExecuteTime": {
     "end_time": "2021-04-22T08:57:26.786580Z",
     "start_time": "2021-04-22T08:57:06.140602Z"
    }
   },
   "outputs": [
    {
     "name": "stderr",
     "output_type": "stream",
     "text": [
      "/home/aiffel-dj24/anaconda3/envs/aiffel/lib/python3.7/site-packages/sklearn/linear_model/_logistic.py:765: ConvergenceWarning: lbfgs failed to converge (status=1):\n",
      "STOP: TOTAL NO. of ITERATIONS REACHED LIMIT.\n",
      "\n",
      "Increase the number of iterations (max_iter) or scale the data as shown in:\n",
      "    https://scikit-learn.org/stable/modules/preprocessing.html\n",
      "Please also refer to the documentation for alternative solver options:\n",
      "    https://scikit-learn.org/stable/modules/linear_model.html#logistic-regression\n",
      "  extra_warning_msg=_LOGISTIC_SOLVER_CONVERGENCE_MSG)\n"
     ]
    },
    {
     "data": {
      "text/plain": [
       "LogisticRegression(C=10000)"
      ]
     },
     "execution_count": 30,
     "metadata": {},
     "output_type": "execute_result"
    }
   ],
   "source": [
    "# 사이킷런의 LogisticRegression()를 사용해 학습\n",
    "lr = LogisticRegression(C=10000, penalty='l2')\n",
    "lr.fit(tfidfv, y_train)"
   ]
  },
  {
   "cell_type": "code",
   "execution_count": 31,
   "id": "expanded-delay",
   "metadata": {
    "ExecuteTime": {
     "end_time": "2021-04-22T08:57:26.799042Z",
     "start_time": "2021-04-22T08:57:26.787636Z"
    }
   },
   "outputs": [
    {
     "name": "stdout",
     "output_type": "stream",
     "text": [
      "정확도: 0.813446126447017\n"
     ]
    }
   ],
   "source": [
    "predicted = lr.predict(tfidfv_test) #테스트 데이터에 대한 예측\n",
    "print(\"정확도:\", accuracy_score(y_test, predicted)) #예측값과 실제값 비교"
   ]
  },
  {
   "cell_type": "code",
   "execution_count": 32,
   "id": "early-parking",
   "metadata": {
    "ExecuteTime": {
     "end_time": "2021-04-22T08:57:26.818167Z",
     "start_time": "2021-04-22T08:57:26.800304Z"
    }
   },
   "outputs": [
    {
     "name": "stdout",
     "output_type": "stream",
     "text": [
      "              precision    recall  f1-score   support\n",
      "\n",
      "           0       0.89      0.67      0.76        12\n",
      "           1       0.75      0.80      0.77       105\n",
      "           2       0.70      0.70      0.70        20\n",
      "           3       0.93      0.93      0.93       813\n",
      "           4       0.81      0.87      0.84       474\n",
      "           5       1.00      0.20      0.33         5\n",
      "           6       0.93      1.00      0.97        14\n",
      "           7       1.00      0.67      0.80         3\n",
      "           8       0.68      0.71      0.69        38\n",
      "           9       0.81      0.88      0.85        25\n",
      "          10       0.93      0.87      0.90        30\n",
      "          11       0.66      0.73      0.70        83\n",
      "          12       0.57      0.31      0.40        13\n",
      "          13       0.61      0.62      0.61        37\n",
      "          14       0.67      1.00      0.80         2\n",
      "          15       0.71      0.56      0.63         9\n",
      "          16       0.71      0.77      0.74        99\n",
      "          17       0.67      0.50      0.57        12\n",
      "          18       0.76      0.65      0.70        20\n",
      "          19       0.69      0.70      0.69       133\n",
      "          20       0.60      0.49      0.54        70\n",
      "          21       0.63      0.81      0.71        27\n",
      "          22       0.00      0.00      0.00         7\n",
      "          23       0.69      0.75      0.72        12\n",
      "          24       0.62      0.53      0.57        19\n",
      "          25       0.92      0.74      0.82        31\n",
      "          26       1.00      0.88      0.93         8\n",
      "          27       1.00      0.25      0.40         4\n",
      "          28       0.75      0.30      0.43        10\n",
      "          29       0.57      1.00      0.73         4\n",
      "          30       0.89      0.67      0.76        12\n",
      "          31       0.75      0.46      0.57        13\n",
      "          32       1.00      0.80      0.89        10\n",
      "          33       0.80      0.80      0.80         5\n",
      "          34       1.00      0.29      0.44         7\n",
      "          35       1.00      0.33      0.50         6\n",
      "          36       0.42      0.45      0.43        11\n",
      "          37       0.50      0.50      0.50         2\n",
      "          38       0.50      0.33      0.40         3\n",
      "          39       0.50      0.40      0.44         5\n",
      "          40       1.00      0.30      0.46        10\n",
      "          41       0.83      0.62      0.71         8\n",
      "          42       1.00      1.00      1.00         3\n",
      "          43       0.86      1.00      0.92         6\n",
      "          44       0.67      0.80      0.73         5\n",
      "          45       1.00      1.00      1.00         1\n",
      "\n",
      "    accuracy                           0.81      2246\n",
      "   macro avg       0.76      0.64      0.67      2246\n",
      "weighted avg       0.81      0.81      0.81      2246\n",
      "\n"
     ]
    },
    {
     "name": "stderr",
     "output_type": "stream",
     "text": [
      "/home/aiffel-dj24/anaconda3/envs/aiffel/lib/python3.7/site-packages/sklearn/metrics/_classification.py:1245: UndefinedMetricWarning: Precision and F-score are ill-defined and being set to 0.0 in labels with no predicted samples. Use `zero_division` parameter to control this behavior.\n",
      "  _warn_prf(average, modifier, msg_start, len(result))\n",
      "/home/aiffel-dj24/anaconda3/envs/aiffel/lib/python3.7/site-packages/sklearn/metrics/_classification.py:1245: UndefinedMetricWarning: Precision and F-score are ill-defined and being set to 0.0 in labels with no predicted samples. Use `zero_division` parameter to control this behavior.\n",
      "  _warn_prf(average, modifier, msg_start, len(result))\n",
      "/home/aiffel-dj24/anaconda3/envs/aiffel/lib/python3.7/site-packages/sklearn/metrics/_classification.py:1245: UndefinedMetricWarning: Precision and F-score are ill-defined and being set to 0.0 in labels with no predicted samples. Use `zero_division` parameter to control this behavior.\n",
      "  _warn_prf(average, modifier, msg_start, len(result))\n"
     ]
    }
   ],
   "source": [
    "print(classification_report(y_test, lr.predict(tfidfv_test)))"
   ]
  },
  {
   "cell_type": "markdown",
   "id": "ecological-oakland",
   "metadata": {},
   "source": [
    "## 선형 서포트 벡터 머신"
   ]
  },
  {
   "cell_type": "code",
   "execution_count": 33,
   "id": "incredible-oasis",
   "metadata": {
    "ExecuteTime": {
     "end_time": "2021-04-22T08:57:48.414696Z",
     "start_time": "2021-04-22T08:57:26.819222Z"
    }
   },
   "outputs": [
    {
     "name": "stderr",
     "output_type": "stream",
     "text": [
      "/home/aiffel-dj24/anaconda3/envs/aiffel/lib/python3.7/site-packages/sklearn/svm/_base.py:986: ConvergenceWarning: Liblinear failed to converge, increase the number of iterations.\n",
      "  \"the number of iterations.\", ConvergenceWarning)\n"
     ]
    },
    {
     "data": {
      "text/plain": [
       "LinearSVC(C=1000, dual=False, max_iter=500, penalty='l1')"
      ]
     },
     "execution_count": 33,
     "metadata": {},
     "output_type": "execute_result"
    }
   ],
   "source": [
    "# 사이킷런의 LinearSVC()를 사용해 학습\n",
    "lsvc = LinearSVC(C=1000, penalty='l1', max_iter=500, dual=False)\n",
    "lsvc.fit(tfidfv, y_train)"
   ]
  },
  {
   "cell_type": "code",
   "execution_count": 34,
   "id": "deluxe-survival",
   "metadata": {
    "ExecuteTime": {
     "end_time": "2021-04-22T08:57:48.425553Z",
     "start_time": "2021-04-22T08:57:48.415925Z"
    },
    "scrolled": true
   },
   "outputs": [
    {
     "name": "stdout",
     "output_type": "stream",
     "text": [
      "정확도: 0.786286731967943\n"
     ]
    }
   ],
   "source": [
    "predicted = lsvc.predict(tfidfv_test) #테스트 데이터에 대한 예측\n",
    "print(\"정확도:\", accuracy_score(y_test, predicted)) #예측값과 실제값 비교"
   ]
  },
  {
   "cell_type": "code",
   "execution_count": 35,
   "id": "honest-omega",
   "metadata": {
    "ExecuteTime": {
     "end_time": "2021-04-22T08:57:48.443173Z",
     "start_time": "2021-04-22T08:57:48.426688Z"
    }
   },
   "outputs": [
    {
     "name": "stdout",
     "output_type": "stream",
     "text": [
      "              precision    recall  f1-score   support\n",
      "\n",
      "           0       0.89      0.67      0.76        12\n",
      "           1       0.75      0.77      0.76       105\n",
      "           2       0.65      0.75      0.70        20\n",
      "           3       0.91      0.91      0.91       813\n",
      "           4       0.81      0.85      0.83       474\n",
      "           5       0.50      0.20      0.29         5\n",
      "           6       0.81      0.93      0.87        14\n",
      "           7       1.00      0.33      0.50         3\n",
      "           8       0.55      0.61      0.57        38\n",
      "           9       0.79      0.92      0.85        25\n",
      "          10       0.80      0.80      0.80        30\n",
      "          11       0.62      0.73      0.67        83\n",
      "          12       0.31      0.31      0.31        13\n",
      "          13       0.62      0.62      0.62        37\n",
      "          14       1.00      0.50      0.67         2\n",
      "          15       0.57      0.44      0.50         9\n",
      "          16       0.69      0.73      0.71        99\n",
      "          17       1.00      0.42      0.59        12\n",
      "          18       0.80      0.60      0.69        20\n",
      "          19       0.60      0.63      0.62       133\n",
      "          20       0.57      0.50      0.53        70\n",
      "          21       0.62      0.74      0.68        27\n",
      "          22       0.00      0.00      0.00         7\n",
      "          23       0.64      0.58      0.61        12\n",
      "          24       0.69      0.58      0.63        19\n",
      "          25       0.85      0.74      0.79        31\n",
      "          26       1.00      0.88      0.93         8\n",
      "          27       1.00      0.25      0.40         4\n",
      "          28       0.67      0.40      0.50        10\n",
      "          29       0.43      0.75      0.55         4\n",
      "          30       0.62      0.42      0.50        12\n",
      "          31       0.78      0.54      0.64        13\n",
      "          32       1.00      0.90      0.95        10\n",
      "          33       0.80      0.80      0.80         5\n",
      "          34       0.50      0.43      0.46         7\n",
      "          35       1.00      0.17      0.29         6\n",
      "          36       0.44      0.36      0.40        11\n",
      "          37       0.50      0.50      0.50         2\n",
      "          38       1.00      0.33      0.50         3\n",
      "          39       1.00      0.20      0.33         5\n",
      "          40       0.30      0.30      0.30        10\n",
      "          41       0.80      0.50      0.62         8\n",
      "          42       0.67      0.67      0.67         3\n",
      "          43       0.75      1.00      0.86         6\n",
      "          44       0.67      0.80      0.73         5\n",
      "          45       1.00      1.00      1.00         1\n",
      "\n",
      "    accuracy                           0.79      2246\n",
      "   macro avg       0.72      0.59      0.62      2246\n",
      "weighted avg       0.79      0.79      0.78      2246\n",
      "\n"
     ]
    },
    {
     "name": "stderr",
     "output_type": "stream",
     "text": [
      "/home/aiffel-dj24/anaconda3/envs/aiffel/lib/python3.7/site-packages/sklearn/metrics/_classification.py:1245: UndefinedMetricWarning: Precision and F-score are ill-defined and being set to 0.0 in labels with no predicted samples. Use `zero_division` parameter to control this behavior.\n",
      "  _warn_prf(average, modifier, msg_start, len(result))\n",
      "/home/aiffel-dj24/anaconda3/envs/aiffel/lib/python3.7/site-packages/sklearn/metrics/_classification.py:1245: UndefinedMetricWarning: Precision and F-score are ill-defined and being set to 0.0 in labels with no predicted samples. Use `zero_division` parameter to control this behavior.\n",
      "  _warn_prf(average, modifier, msg_start, len(result))\n",
      "/home/aiffel-dj24/anaconda3/envs/aiffel/lib/python3.7/site-packages/sklearn/metrics/_classification.py:1245: UndefinedMetricWarning: Precision and F-score are ill-defined and being set to 0.0 in labels with no predicted samples. Use `zero_division` parameter to control this behavior.\n",
      "  _warn_prf(average, modifier, msg_start, len(result))\n"
     ]
    }
   ],
   "source": [
    "print(classification_report(y_test, lsvc.predict(tfidfv_test)))"
   ]
  },
  {
   "cell_type": "markdown",
   "id": "aware-color",
   "metadata": {},
   "source": [
    "## 결정 트리(Decision Tree)"
   ]
  },
  {
   "cell_type": "code",
   "execution_count": 36,
   "id": "noted-baghdad",
   "metadata": {
    "ExecuteTime": {
     "end_time": "2021-04-22T08:57:49.783236Z",
     "start_time": "2021-04-22T08:57:48.444169Z"
    }
   },
   "outputs": [
    {
     "data": {
      "text/plain": [
       "DecisionTreeClassifier(max_depth=10, random_state=0)"
      ]
     },
     "execution_count": 36,
     "metadata": {},
     "output_type": "execute_result"
    }
   ],
   "source": [
    "# 사이킷런의 DecisionTreeClassifier()를 사용해 학습\n",
    "tree = DecisionTreeClassifier(max_depth=10, random_state=0)\n",
    "tree.fit(tfidfv, y_train)"
   ]
  },
  {
   "cell_type": "code",
   "execution_count": 37,
   "id": "sacred-oxide",
   "metadata": {
    "ExecuteTime": {
     "end_time": "2021-04-22T08:57:49.791151Z",
     "start_time": "2021-04-22T08:57:49.784364Z"
    }
   },
   "outputs": [
    {
     "name": "stdout",
     "output_type": "stream",
     "text": [
      "정확도: 0.6211041852181657\n"
     ]
    }
   ],
   "source": [
    "predicted = tree.predict(tfidfv_test) #테스트 데이터에 대한 예측\n",
    "print(\"정확도:\", accuracy_score(y_test, predicted)) #예측값과 실제값 비교"
   ]
  },
  {
   "cell_type": "code",
   "execution_count": 38,
   "id": "lasting-technical",
   "metadata": {
    "ExecuteTime": {
     "end_time": "2021-04-22T08:57:49.806206Z",
     "start_time": "2021-04-22T08:57:49.792184Z"
    }
   },
   "outputs": [
    {
     "name": "stdout",
     "output_type": "stream",
     "text": [
      "              precision    recall  f1-score   support\n",
      "\n",
      "           0       0.00      0.00      0.00        12\n",
      "           1       0.69      0.43      0.53       105\n",
      "           2       0.75      0.45      0.56        20\n",
      "           3       0.94      0.85      0.89       813\n",
      "           4       0.40      0.89      0.55       474\n",
      "           5       0.00      0.00      0.00         5\n",
      "           6       0.00      0.00      0.00        14\n",
      "           7       0.00      0.00      0.00         3\n",
      "           8       0.00      0.00      0.00        38\n",
      "           9       1.00      0.16      0.28        25\n",
      "          10       0.89      0.80      0.84        30\n",
      "          11       0.58      0.60      0.59        83\n",
      "          12       0.00      0.00      0.00        13\n",
      "          13       0.00      0.00      0.00        37\n",
      "          14       0.00      0.00      0.00         2\n",
      "          15       0.00      0.00      0.00         9\n",
      "          16       0.61      0.83      0.70        99\n",
      "          17       0.00      0.00      0.00        12\n",
      "          18       0.00      0.00      0.00        20\n",
      "          19       0.67      0.41      0.50       133\n",
      "          20       0.83      0.07      0.13        70\n",
      "          21       0.00      0.00      0.00        27\n",
      "          22       0.00      0.00      0.00         7\n",
      "          23       0.00      0.00      0.00        12\n",
      "          24       0.67      0.11      0.18        19\n",
      "          25       0.60      0.19      0.29        31\n",
      "          26       0.00      0.00      0.00         8\n",
      "          27       0.00      0.00      0.00         4\n",
      "          28       0.50      0.10      0.17        10\n",
      "          29       0.00      0.00      0.00         4\n",
      "          30       0.00      0.00      0.00        12\n",
      "          31       0.00      0.00      0.00        13\n",
      "          32       0.00      0.00      0.00        10\n",
      "          33       1.00      0.80      0.89         5\n",
      "          34       0.00      0.00      0.00         7\n",
      "          35       0.00      0.00      0.00         6\n",
      "          36       0.00      0.00      0.00        11\n",
      "          37       0.00      0.00      0.00         2\n",
      "          38       0.00      0.00      0.00         3\n",
      "          39       0.00      0.00      0.00         5\n",
      "          40       0.00      0.00      0.00        10\n",
      "          41       0.00      0.00      0.00         8\n",
      "          42       0.00      0.00      0.00         3\n",
      "          43       0.00      0.00      0.00         6\n",
      "          44       0.00      0.00      0.00         5\n",
      "          45       0.00      0.00      0.00         1\n",
      "\n",
      "    accuracy                           0.62      2246\n",
      "   macro avg       0.22      0.15      0.15      2246\n",
      "weighted avg       0.62      0.62      0.58      2246\n",
      "\n"
     ]
    },
    {
     "name": "stderr",
     "output_type": "stream",
     "text": [
      "/home/aiffel-dj24/anaconda3/envs/aiffel/lib/python3.7/site-packages/sklearn/metrics/_classification.py:1245: UndefinedMetricWarning: Precision and F-score are ill-defined and being set to 0.0 in labels with no predicted samples. Use `zero_division` parameter to control this behavior.\n",
      "  _warn_prf(average, modifier, msg_start, len(result))\n",
      "/home/aiffel-dj24/anaconda3/envs/aiffel/lib/python3.7/site-packages/sklearn/metrics/_classification.py:1245: UndefinedMetricWarning: Precision and F-score are ill-defined and being set to 0.0 in labels with no predicted samples. Use `zero_division` parameter to control this behavior.\n",
      "  _warn_prf(average, modifier, msg_start, len(result))\n",
      "/home/aiffel-dj24/anaconda3/envs/aiffel/lib/python3.7/site-packages/sklearn/metrics/_classification.py:1245: UndefinedMetricWarning: Precision and F-score are ill-defined and being set to 0.0 in labels with no predicted samples. Use `zero_division` parameter to control this behavior.\n",
      "  _warn_prf(average, modifier, msg_start, len(result))\n"
     ]
    }
   ],
   "source": [
    "print(classification_report(y_test, tree.predict(tfidfv_test)))"
   ]
  },
  {
   "cell_type": "markdown",
   "id": "valuable-edition",
   "metadata": {},
   "source": [
    "## 랜덤 포레스트(Random Forest)"
   ]
  },
  {
   "cell_type": "code",
   "execution_count": 39,
   "id": "surprising-manchester",
   "metadata": {
    "ExecuteTime": {
     "end_time": "2021-04-22T08:57:51.932156Z",
     "start_time": "2021-04-22T08:57:49.807173Z"
    }
   },
   "outputs": [
    {
     "data": {
      "text/plain": [
       "RandomForestClassifier(n_estimators=5, random_state=0)"
      ]
     },
     "execution_count": 39,
     "metadata": {},
     "output_type": "execute_result"
    }
   ],
   "source": [
    "# 사이킷런의 RandomForestClassifier()를 사용해 학습\n",
    "forest = RandomForestClassifier(n_estimators=5, random_state=0)\n",
    "forest.fit(tfidfv, y_train)"
   ]
  },
  {
   "cell_type": "code",
   "execution_count": 40,
   "id": "italic-bosnia",
   "metadata": {
    "ExecuteTime": {
     "end_time": "2021-04-22T08:57:51.945787Z",
     "start_time": "2021-04-22T08:57:51.933539Z"
    }
   },
   "outputs": [
    {
     "name": "stdout",
     "output_type": "stream",
     "text": [
      "정확도: 0.6544968833481746\n"
     ]
    }
   ],
   "source": [
    "predicted = forest.predict(tfidfv_test) #테스트 데이터에 대한 예측\n",
    "print(\"정확도:\", accuracy_score(y_test, predicted)) #예측값과 실제값 비교"
   ]
  },
  {
   "cell_type": "code",
   "execution_count": 41,
   "id": "responsible-christmas",
   "metadata": {
    "ExecuteTime": {
     "end_time": "2021-04-22T08:57:51.965602Z",
     "start_time": "2021-04-22T08:57:51.947172Z"
    }
   },
   "outputs": [
    {
     "name": "stdout",
     "output_type": "stream",
     "text": [
      "              precision    recall  f1-score   support\n",
      "\n",
      "           0       0.25      0.58      0.35        12\n",
      "           1       0.35      0.60      0.44       105\n",
      "           2       0.32      0.40      0.36        20\n",
      "           3       0.82      0.89      0.85       813\n",
      "           4       0.62      0.84      0.71       474\n",
      "           5       0.00      0.00      0.00         5\n",
      "           6       0.67      0.43      0.52        14\n",
      "           7       0.50      0.33      0.40         3\n",
      "           8       0.51      0.47      0.49        38\n",
      "           9       1.00      0.28      0.44        25\n",
      "          10       0.46      0.20      0.28        30\n",
      "          11       0.56      0.64      0.60        83\n",
      "          12       0.40      0.15      0.22        13\n",
      "          13       0.33      0.16      0.22        37\n",
      "          14       0.00      0.00      0.00         2\n",
      "          15       0.00      0.00      0.00         9\n",
      "          16       0.59      0.46      0.52        99\n",
      "          17       0.00      0.00      0.00        12\n",
      "          18       0.44      0.20      0.28        20\n",
      "          19       0.61      0.50      0.55       133\n",
      "          20       0.51      0.33      0.40        70\n",
      "          21       0.55      0.22      0.32        27\n",
      "          22       0.00      0.00      0.00         7\n",
      "          23       0.33      0.08      0.13        12\n",
      "          24       0.33      0.05      0.09        19\n",
      "          25       1.00      0.23      0.37        31\n",
      "          26       0.00      0.00      0.00         8\n",
      "          27       0.00      0.00      0.00         4\n",
      "          28       0.00      0.00      0.00        10\n",
      "          29       0.00      0.00      0.00         4\n",
      "          30       0.00      0.00      0.00        12\n",
      "          31       0.00      0.00      0.00        13\n",
      "          32       1.00      0.10      0.18        10\n",
      "          33       1.00      0.40      0.57         5\n",
      "          34       0.00      0.00      0.00         7\n",
      "          35       1.00      0.17      0.29         6\n",
      "          36       0.43      0.27      0.33        11\n",
      "          37       0.00      0.00      0.00         2\n",
      "          38       0.00      0.00      0.00         3\n",
      "          39       0.00      0.00      0.00         5\n",
      "          40       1.00      0.30      0.46        10\n",
      "          41       0.00      0.00      0.00         8\n",
      "          42       0.00      0.00      0.00         3\n",
      "          43       0.75      0.50      0.60         6\n",
      "          44       1.00      0.80      0.89         5\n",
      "          45       1.00      1.00      1.00         1\n",
      "\n",
      "    accuracy                           0.65      2246\n",
      "   macro avg       0.40      0.25      0.28      2246\n",
      "weighted avg       0.63      0.65      0.62      2246\n",
      "\n"
     ]
    },
    {
     "name": "stderr",
     "output_type": "stream",
     "text": [
      "/home/aiffel-dj24/anaconda3/envs/aiffel/lib/python3.7/site-packages/sklearn/metrics/_classification.py:1245: UndefinedMetricWarning: Precision and F-score are ill-defined and being set to 0.0 in labels with no predicted samples. Use `zero_division` parameter to control this behavior.\n",
      "  _warn_prf(average, modifier, msg_start, len(result))\n",
      "/home/aiffel-dj24/anaconda3/envs/aiffel/lib/python3.7/site-packages/sklearn/metrics/_classification.py:1245: UndefinedMetricWarning: Precision and F-score are ill-defined and being set to 0.0 in labels with no predicted samples. Use `zero_division` parameter to control this behavior.\n",
      "  _warn_prf(average, modifier, msg_start, len(result))\n",
      "/home/aiffel-dj24/anaconda3/envs/aiffel/lib/python3.7/site-packages/sklearn/metrics/_classification.py:1245: UndefinedMetricWarning: Precision and F-score are ill-defined and being set to 0.0 in labels with no predicted samples. Use `zero_division` parameter to control this behavior.\n",
      "  _warn_prf(average, modifier, msg_start, len(result))\n"
     ]
    }
   ],
   "source": [
    "print(classification_report(y_test, forest.predict(tfidfv_test)))"
   ]
  },
  {
   "cell_type": "markdown",
   "id": "lonely-chance",
   "metadata": {},
   "source": [
    "## 그래디언트 부스팅 트리(GradientBoostingClassifier)"
   ]
  },
  {
   "cell_type": "code",
   "execution_count": 42,
   "id": "further-colombia",
   "metadata": {
    "ExecuteTime": {
     "end_time": "2021-04-22T09:12:04.253447Z",
     "start_time": "2021-04-22T08:57:51.966997Z"
    }
   },
   "outputs": [
    {
     "data": {
      "text/plain": [
       "GradientBoostingClassifier(random_state=0)"
      ]
     },
     "execution_count": 42,
     "metadata": {},
     "output_type": "execute_result"
    }
   ],
   "source": [
    "# 사이킷런의 GradientBoostingClassifier()를 사용해 학습\n",
    "grbt = GradientBoostingClassifier(random_state=0) # verbose=3\n",
    "grbt.fit(tfidfv, y_train)"
   ]
  },
  {
   "cell_type": "code",
   "execution_count": 43,
   "id": "moved-sussex",
   "metadata": {
    "ExecuteTime": {
     "end_time": "2021-04-22T09:12:04.429102Z",
     "start_time": "2021-04-22T09:12:04.254868Z"
    }
   },
   "outputs": [
    {
     "name": "stdout",
     "output_type": "stream",
     "text": [
      "정확도: 0.7702582368655387\n"
     ]
    }
   ],
   "source": [
    "predicted = grbt.predict(tfidfv_test) #테스트 데이터에 대한 예측\n",
    "print(\"정확도:\", accuracy_score(y_test, predicted)) #예측값과 실제값 비교"
   ]
  },
  {
   "cell_type": "code",
   "execution_count": 44,
   "id": "referenced-figure",
   "metadata": {
    "ExecuteTime": {
     "end_time": "2021-04-22T09:12:04.598810Z",
     "start_time": "2021-04-22T09:12:04.430360Z"
    }
   },
   "outputs": [
    {
     "name": "stdout",
     "output_type": "stream",
     "text": [
      "              precision    recall  f1-score   support\n",
      "\n",
      "           0       0.60      0.50      0.55        12\n",
      "           1       0.81      0.71      0.76       105\n",
      "           2       0.58      0.70      0.64        20\n",
      "           3       0.87      0.91      0.89       813\n",
      "           4       0.78      0.86      0.82       474\n",
      "           5       1.00      0.20      0.33         5\n",
      "           6       0.77      0.71      0.74        14\n",
      "           7       1.00      0.33      0.50         3\n",
      "           8       0.60      0.63      0.62        38\n",
      "           9       0.91      0.80      0.85        25\n",
      "          10       0.79      0.77      0.78        30\n",
      "          11       0.61      0.65      0.63        83\n",
      "          12       0.50      0.46      0.48        13\n",
      "          13       0.48      0.32      0.39        37\n",
      "          14       0.00      0.00      0.00         2\n",
      "          15       0.25      0.11      0.15         9\n",
      "          16       0.72      0.71      0.71        99\n",
      "          17       0.83      0.42      0.56        12\n",
      "          18       0.59      0.50      0.54        20\n",
      "          19       0.71      0.64      0.67       133\n",
      "          20       0.64      0.41      0.50        70\n",
      "          21       0.61      0.63      0.62        27\n",
      "          22       0.33      0.14      0.20         7\n",
      "          23       0.62      0.67      0.64        12\n",
      "          24       0.69      0.47      0.56        19\n",
      "          25       0.83      0.65      0.73        31\n",
      "          26       1.00      1.00      1.00         8\n",
      "          27       0.33      0.50      0.40         4\n",
      "          28       0.25      0.20      0.22        10\n",
      "          29       0.43      0.75      0.55         4\n",
      "          30       0.36      0.42      0.38        12\n",
      "          31       0.50      0.54      0.52        13\n",
      "          32       1.00      1.00      1.00        10\n",
      "          33       0.83      1.00      0.91         5\n",
      "          34       0.60      0.43      0.50         7\n",
      "          35       0.33      0.17      0.22         6\n",
      "          36       0.50      0.64      0.56        11\n",
      "          37       0.50      1.00      0.67         2\n",
      "          38       0.33      0.33      0.33         3\n",
      "          39       0.33      0.20      0.25         5\n",
      "          40       0.83      0.50      0.62        10\n",
      "          41       0.62      0.62      0.62         8\n",
      "          42       1.00      0.67      0.80         3\n",
      "          43       0.43      0.50      0.46         6\n",
      "          44       0.80      0.80      0.80         5\n",
      "          45       0.50      1.00      0.67         1\n",
      "\n",
      "    accuracy                           0.77      2246\n",
      "   macro avg       0.62      0.57      0.57      2246\n",
      "weighted avg       0.77      0.77      0.76      2246\n",
      "\n"
     ]
    }
   ],
   "source": [
    "print(classification_report(y_test, grbt.predict(tfidfv_test)))"
   ]
  },
  {
   "cell_type": "markdown",
   "id": "electrical-colorado",
   "metadata": {},
   "source": [
    "##  보팅(Voting)"
   ]
  },
  {
   "cell_type": "code",
   "execution_count": 45,
   "id": "wooden-tractor",
   "metadata": {
    "ExecuteTime": {
     "end_time": "2021-04-22T09:26:59.129645Z",
     "start_time": "2021-04-22T09:12:04.600260Z"
    }
   },
   "outputs": [
    {
     "data": {
      "text/plain": [
       "VotingClassifier(estimators=[('lr', LogisticRegression(C=10000)),\n",
       "                             ('cb', ComplementNB()),\n",
       "                             ('grbt',\n",
       "                              GradientBoostingClassifier(random_state=0))],\n",
       "                 n_jobs=-1, voting='soft')"
      ]
     },
     "execution_count": 45,
     "metadata": {},
     "output_type": "execute_result"
    }
   ],
   "source": [
    "# 로지스틱 회귀, CNB, 그래디언트 부스팅 트리 세 가지를 사용하여 소프트 보팅\n",
    "voting_classifier = VotingClassifier(estimators=[\n",
    "         ('lr', LogisticRegression(C=10000, penalty='l2')),\n",
    "         ('cb', ComplementNB()),\n",
    "         ('grbt', GradientBoostingClassifier(random_state=0))\n",
    "], voting='soft', n_jobs=-1)\n",
    "voting_classifier.fit(tfidfv, y_train)"
   ]
  },
  {
   "cell_type": "code",
   "execution_count": 46,
   "id": "cutting-calculator",
   "metadata": {
    "ExecuteTime": {
     "end_time": "2021-04-22T09:26:59.362053Z",
     "start_time": "2021-04-22T09:26:59.131104Z"
    }
   },
   "outputs": [
    {
     "name": "stdout",
     "output_type": "stream",
     "text": [
      "정확도: 0.8187889581478184\n"
     ]
    }
   ],
   "source": [
    "predicted = voting_classifier.predict(tfidfv_test) #테스트 데이터에 대한 예측\n",
    "print(\"정확도:\", accuracy_score(y_test, predicted)) #예측값과 실제값 비교"
   ]
  },
  {
   "cell_type": "code",
   "execution_count": 47,
   "id": "incoming-phenomenon",
   "metadata": {
    "ExecuteTime": {
     "end_time": "2021-04-22T09:26:59.607993Z",
     "start_time": "2021-04-22T09:26:59.363409Z"
    }
   },
   "outputs": [
    {
     "name": "stdout",
     "output_type": "stream",
     "text": [
      "              precision    recall  f1-score   support\n",
      "\n",
      "           0       0.75      0.75      0.75        12\n",
      "           1       0.80      0.77      0.79       105\n",
      "           2       0.67      0.80      0.73        20\n",
      "           3       0.93      0.94      0.93       813\n",
      "           4       0.82      0.88      0.85       474\n",
      "           5       1.00      0.20      0.33         5\n",
      "           6       0.87      0.93      0.90        14\n",
      "           7       1.00      0.33      0.50         3\n",
      "           8       0.69      0.71      0.70        38\n",
      "           9       0.80      0.80      0.80        25\n",
      "          10       0.90      0.90      0.90        30\n",
      "          11       0.67      0.71      0.69        83\n",
      "          12       0.60      0.46      0.52        13\n",
      "          13       0.69      0.65      0.67        37\n",
      "          14       0.29      1.00      0.44         2\n",
      "          15       0.40      0.22      0.29         9\n",
      "          16       0.73      0.76      0.74        99\n",
      "          17       0.75      0.50      0.60        12\n",
      "          18       0.73      0.55      0.63        20\n",
      "          19       0.71      0.71      0.71       133\n",
      "          20       0.66      0.50      0.57        70\n",
      "          21       0.63      0.81      0.71        27\n",
      "          22       1.00      0.14      0.25         7\n",
      "          23       0.62      0.67      0.64        12\n",
      "          24       0.73      0.58      0.65        19\n",
      "          25       0.92      0.77      0.84        31\n",
      "          26       1.00      1.00      1.00         8\n",
      "          27       0.67      0.50      0.57         4\n",
      "          28       0.33      0.30      0.32        10\n",
      "          29       0.50      1.00      0.67         4\n",
      "          30       0.54      0.58      0.56        12\n",
      "          31       0.82      0.69      0.75        13\n",
      "          32       1.00      1.00      1.00        10\n",
      "          33       0.83      1.00      0.91         5\n",
      "          34       0.80      0.57      0.67         7\n",
      "          35       1.00      0.33      0.50         6\n",
      "          36       0.54      0.64      0.58        11\n",
      "          37       0.50      0.50      0.50         2\n",
      "          38       0.50      0.33      0.40         3\n",
      "          39       0.25      0.20      0.22         5\n",
      "          40       1.00      0.40      0.57        10\n",
      "          41       0.80      0.50      0.62         8\n",
      "          42       1.00      1.00      1.00         3\n",
      "          43       0.83      0.83      0.83         6\n",
      "          44       0.80      0.80      0.80         5\n",
      "          45       0.50      1.00      0.67         1\n",
      "\n",
      "    accuracy                           0.82      2246\n",
      "   macro avg       0.73      0.66      0.66      2246\n",
      "weighted avg       0.82      0.82      0.81      2246\n",
      "\n"
     ]
    }
   ],
   "source": [
    "print(classification_report(y_test, voting_classifier.predict(tfidfv_test)))"
   ]
  },
  {
   "cell_type": "markdown",
   "id": "stable-emphasis",
   "metadata": {},
   "source": [
    "## 정리"
   ]
  },
  {
   "cell_type": "markdown",
   "id": "ecological-classic",
   "metadata": {},
   "source": [
    "##### 모든 단어 사용시 모델별 accuracy / f1-score\n",
    ">- 나이브 베이즈 : 0.60 / 0.50\n",
    ">- CNB : 0.76 / 0.73\n",
    ">- 로지스틱 회귀 : 0.81 / 0.81\n",
    ">- 서포트 벡터 머신 : 0.79 / 0.78\n",
    ">- 결정 트리 : 0.62 / 0.58\n",
    ">- 랜덤 포레스트 : 0.65 / 0.62\n",
    ">- 그래디언트 부스팅 트리 : 0.77 / 0.76\n",
    ">- 보팅 : 0.82 / 0.81\n",
    "- __accuracy는 보팅이 82%로 가장 높고, 나이브베이즈가 60%로 가장 낮았으며,  \n",
    "f1-score는 보팅이 81%로 가장 높고, 나이브베이즈가 60%로 가장 낮았다.__"
   ]
  },
  {
   "cell_type": "markdown",
   "id": "animal-sacramento",
   "metadata": {},
   "source": [
    "---"
   ]
  },
  {
   "cell_type": "markdown",
   "id": "charged-geneva",
   "metadata": {},
   "source": [
    "# 빈도수 상위 5,000개의 단어만 사용"
   ]
  },
  {
   "cell_type": "markdown",
   "id": "returning-grocery",
   "metadata": {},
   "source": [
    "## 데이터 로드"
   ]
  },
  {
   "cell_type": "code",
   "execution_count": 48,
   "id": "frank-heating",
   "metadata": {
    "ExecuteTime": {
     "end_time": "2021-04-22T09:27:00.076715Z",
     "start_time": "2021-04-22T09:26:59.609416Z"
    }
   },
   "outputs": [
    {
     "name": "stderr",
     "output_type": "stream",
     "text": [
      "/home/aiffel-dj24/anaconda3/envs/aiffel/lib/python3.7/site-packages/tensorflow/python/keras/datasets/reuters.py:148: VisibleDeprecationWarning: Creating an ndarray from ragged nested sequences (which is a list-or-tuple of lists-or-tuples-or ndarrays with different lengths or shapes) is deprecated. If you meant to do this, you must specify 'dtype=object' when creating the ndarray\n",
      "  x_train, y_train = np.array(xs[:idx]), np.array(labels[:idx])\n",
      "/home/aiffel-dj24/anaconda3/envs/aiffel/lib/python3.7/site-packages/tensorflow/python/keras/datasets/reuters.py:149: VisibleDeprecationWarning: Creating an ndarray from ragged nested sequences (which is a list-or-tuple of lists-or-tuples-or ndarrays with different lengths or shapes) is deprecated. If you meant to do this, you must specify 'dtype=object' when creating the ndarray\n",
      "  x_test, y_test = np.array(xs[idx:]), np.array(labels[idx:])\n"
     ]
    }
   ],
   "source": [
    "(x_train, y_train), (x_test, y_test) = reuters.load_data(num_words=5000, test_split=0.2)"
   ]
  },
  {
   "cell_type": "markdown",
   "id": "billion-graduate",
   "metadata": {},
   "source": [
    "- __위에서 모든 단어 사용시 데이터를 확인해 보았으므로 데이터 확인 과정 생략__"
   ]
  },
  {
   "cell_type": "markdown",
   "id": "circular-helmet",
   "metadata": {},
   "source": [
    "## 데이터 복원"
   ]
  },
  {
   "cell_type": "markdown",
   "id": "innovative-identifier",
   "metadata": {},
   "source": [
    "### 원본 데이터 복원"
   ]
  },
  {
   "cell_type": "code",
   "execution_count": 49,
   "id": "boolean-projector",
   "metadata": {
    "ExecuteTime": {
     "end_time": "2021-04-22T09:27:00.090843Z",
     "start_time": "2021-04-22T09:27:00.078114Z"
    }
   },
   "outputs": [],
   "source": [
    "word_index = reuters.get_word_index(path=\"reuters_word_index.json\")"
   ]
  },
  {
   "cell_type": "code",
   "execution_count": 50,
   "id": "divine-pearl",
   "metadata": {
    "ExecuteTime": {
     "end_time": "2021-04-22T09:27:00.098447Z",
     "start_time": "2021-04-22T09:27:00.092015Z"
    }
   },
   "outputs": [],
   "source": [
    "index_to_word = {index + 3 : word for word, index in word_index.items()}"
   ]
  },
  {
   "cell_type": "code",
   "execution_count": 51,
   "id": "standing-locator",
   "metadata": {
    "ExecuteTime": {
     "end_time": "2021-04-22T09:27:00.102080Z",
     "start_time": "2021-04-22T09:27:00.099812Z"
    }
   },
   "outputs": [],
   "source": [
    "for index, token in enumerate((\"<pad>\", \"<sos>\", \"<unk>\")):\n",
    "    index_to_word[index]=token"
   ]
  },
  {
   "cell_type": "code",
   "execution_count": 52,
   "id": "acknowledged-malaysia",
   "metadata": {
    "ExecuteTime": {
     "end_time": "2021-04-22T09:27:00.106273Z",
     "start_time": "2021-04-22T09:27:00.103548Z"
    }
   },
   "outputs": [
    {
     "name": "stdout",
     "output_type": "stream",
     "text": [
      "<sos> <unk> <unk> said as a result of its december acquisition of space co it expects earnings per share in 1987 of 1 15 to 1 30 dlrs per share up from 70 cts in 1986 the company said pretax net should rise to nine to 10 mln dlrs from six mln dlrs in 1986 and rental operation revenues to 19 to 22 mln dlrs from 12 5 mln dlrs it said cash flow per share this year should be 2 50 to three dlrs reuter 3\n"
     ]
    }
   ],
   "source": [
    "print(' '.join([index_to_word[index] for index in x_train[0]]))"
   ]
  },
  {
   "cell_type": "code",
   "execution_count": 53,
   "id": "adjusted-transcription",
   "metadata": {
    "ExecuteTime": {
     "end_time": "2021-04-22T09:27:00.271988Z",
     "start_time": "2021-04-22T09:27:00.107549Z"
    }
   },
   "outputs": [],
   "source": [
    "decoded = []\n",
    "for i in range(len(x_train)):\n",
    "    t = ' '.join([index_to_word[index] for index in x_train[i]])\n",
    "    decoded.append(t)\n",
    "\n",
    "x_train = decoded"
   ]
  },
  {
   "cell_type": "code",
   "execution_count": 54,
   "id": "roman-consumer",
   "metadata": {
    "ExecuteTime": {
     "end_time": "2021-04-22T09:27:00.318263Z",
     "start_time": "2021-04-22T09:27:00.273599Z"
    }
   },
   "outputs": [],
   "source": [
    "decoded = []\n",
    "for i in range(len(x_test)):\n",
    "    t = ' '.join([index_to_word[index] for index in x_test[i]])\n",
    "    decoded.append(t)\n",
    "\n",
    "x_test = decoded"
   ]
  },
  {
   "cell_type": "markdown",
   "id": "advised-print",
   "metadata": {},
   "source": [
    "## 벡터화"
   ]
  },
  {
   "cell_type": "markdown",
   "id": "continuing-developer",
   "metadata": {},
   "source": [
    "### DTM 생성"
   ]
  },
  {
   "cell_type": "code",
   "execution_count": 55,
   "id": "suffering-spelling",
   "metadata": {
    "ExecuteTime": {
     "end_time": "2021-04-22T09:27:01.211625Z",
     "start_time": "2021-04-22T09:27:00.319972Z"
    }
   },
   "outputs": [
    {
     "name": "stdout",
     "output_type": "stream",
     "text": [
      "(8982, 4867)\n",
      "(2246, 4867)\n"
     ]
    }
   ],
   "source": [
    "dtmvector = CountVectorizer()\n",
    "x_train_dtm = dtmvector.fit_transform(x_train)\n",
    "x_test_dtm = dtmvector.transform(x_test)\n",
    "\n",
    "print(x_train_dtm.shape)\n",
    "print(x_test_dtm.shape)"
   ]
  },
  {
   "cell_type": "markdown",
   "id": "split-cause",
   "metadata": {},
   "source": [
    "###  TF-IDF Matrix 생성"
   ]
  },
  {
   "cell_type": "code",
   "execution_count": 56,
   "id": "introductory-mandate",
   "metadata": {
    "ExecuteTime": {
     "end_time": "2021-04-22T09:27:01.255560Z",
     "start_time": "2021-04-22T09:27:01.212746Z"
    }
   },
   "outputs": [
    {
     "name": "stdout",
     "output_type": "stream",
     "text": [
      "(8982, 4867)\n",
      "(2246, 4867)\n"
     ]
    }
   ],
   "source": [
    "tfidf_transformer = TfidfTransformer()\n",
    "tfidfv = tfidf_transformer.fit_transform(x_train_dtm)\n",
    "tfidfv_test = tfidf_transformer.transform(x_test_dtm)\n",
    "\n",
    "print(tfidfv.shape)\n",
    "print(tfidfv_test.shape)"
   ]
  },
  {
   "cell_type": "markdown",
   "id": "dirty-journal",
   "metadata": {},
   "source": [
    "## 나이브 베이즈 분류기"
   ]
  },
  {
   "cell_type": "code",
   "execution_count": 57,
   "id": "allied-portuguese",
   "metadata": {
    "ExecuteTime": {
     "end_time": "2021-04-22T09:27:01.283472Z",
     "start_time": "2021-04-22T09:27:01.256739Z"
    }
   },
   "outputs": [
    {
     "data": {
      "text/plain": [
       "MultinomialNB()"
      ]
     },
     "execution_count": 57,
     "metadata": {},
     "output_type": "execute_result"
    }
   ],
   "source": [
    "mod = MultinomialNB()\n",
    "mod.fit(tfidfv, y_train)"
   ]
  },
  {
   "cell_type": "code",
   "execution_count": 58,
   "id": "sophisticated-anime",
   "metadata": {
    "ExecuteTime": {
     "end_time": "2021-04-22T09:27:01.293222Z",
     "start_time": "2021-04-22T09:27:01.284811Z"
    }
   },
   "outputs": [
    {
     "name": "stdout",
     "output_type": "stream",
     "text": [
      "정확도: 0.6731967943009796\n"
     ]
    }
   ],
   "source": [
    "predicted = mod.predict(tfidfv_test)\n",
    "print(\"정확도:\", accuracy_score(y_test, predicted))"
   ]
  },
  {
   "cell_type": "code",
   "execution_count": 59,
   "id": "eleven-philosophy",
   "metadata": {
    "ExecuteTime": {
     "end_time": "2021-04-22T09:27:01.309194Z",
     "start_time": "2021-04-22T09:27:01.294394Z"
    }
   },
   "outputs": [
    {
     "name": "stdout",
     "output_type": "stream",
     "text": [
      "              precision    recall  f1-score   support\n",
      "\n",
      "           0       0.00      0.00      0.00        12\n",
      "           1       0.50      0.80      0.62       105\n",
      "           2       0.00      0.00      0.00        20\n",
      "           3       0.86      0.89      0.87       813\n",
      "           4       0.59      0.95      0.73       474\n",
      "           5       0.00      0.00      0.00         5\n",
      "           6       0.00      0.00      0.00        14\n",
      "           7       0.00      0.00      0.00         3\n",
      "           8       0.00      0.00      0.00        38\n",
      "           9       1.00      0.28      0.44        25\n",
      "          10       0.00      0.00      0.00        30\n",
      "          11       0.48      0.73      0.58        83\n",
      "          12       0.00      0.00      0.00        13\n",
      "          13       1.00      0.14      0.24        37\n",
      "          14       0.00      0.00      0.00         2\n",
      "          15       0.00      0.00      0.00         9\n",
      "          16       0.60      0.66      0.62        99\n",
      "          17       0.00      0.00      0.00        12\n",
      "          18       0.00      0.00      0.00        20\n",
      "          19       0.51      0.81      0.63       133\n",
      "          20       0.90      0.13      0.23        70\n",
      "          21       0.00      0.00      0.00        27\n",
      "          22       0.00      0.00      0.00         7\n",
      "          23       0.00      0.00      0.00        12\n",
      "          24       0.00      0.00      0.00        19\n",
      "          25       1.00      0.06      0.12        31\n",
      "          26       0.00      0.00      0.00         8\n",
      "          27       0.00      0.00      0.00         4\n",
      "          28       0.00      0.00      0.00        10\n",
      "          29       0.00      0.00      0.00         4\n",
      "          30       0.00      0.00      0.00        12\n",
      "          31       0.00      0.00      0.00        13\n",
      "          32       0.00      0.00      0.00        10\n",
      "          33       0.00      0.00      0.00         5\n",
      "          34       0.00      0.00      0.00         7\n",
      "          35       0.00      0.00      0.00         6\n",
      "          36       0.00      0.00      0.00        11\n",
      "          37       0.00      0.00      0.00         2\n",
      "          38       0.00      0.00      0.00         3\n",
      "          39       0.00      0.00      0.00         5\n",
      "          40       0.00      0.00      0.00        10\n",
      "          41       0.00      0.00      0.00         8\n",
      "          42       0.00      0.00      0.00         3\n",
      "          43       0.00      0.00      0.00         6\n",
      "          44       0.00      0.00      0.00         5\n",
      "          45       0.00      0.00      0.00         1\n",
      "\n",
      "    accuracy                           0.67      2246\n",
      "   macro avg       0.16      0.12      0.11      2246\n",
      "weighted avg       0.60      0.67      0.60      2246\n",
      "\n"
     ]
    },
    {
     "name": "stderr",
     "output_type": "stream",
     "text": [
      "/home/aiffel-dj24/anaconda3/envs/aiffel/lib/python3.7/site-packages/sklearn/metrics/_classification.py:1245: UndefinedMetricWarning: Precision and F-score are ill-defined and being set to 0.0 in labels with no predicted samples. Use `zero_division` parameter to control this behavior.\n",
      "  _warn_prf(average, modifier, msg_start, len(result))\n",
      "/home/aiffel-dj24/anaconda3/envs/aiffel/lib/python3.7/site-packages/sklearn/metrics/_classification.py:1245: UndefinedMetricWarning: Precision and F-score are ill-defined and being set to 0.0 in labels with no predicted samples. Use `zero_division` parameter to control this behavior.\n",
      "  _warn_prf(average, modifier, msg_start, len(result))\n",
      "/home/aiffel-dj24/anaconda3/envs/aiffel/lib/python3.7/site-packages/sklearn/metrics/_classification.py:1245: UndefinedMetricWarning: Precision and F-score are ill-defined and being set to 0.0 in labels with no predicted samples. Use `zero_division` parameter to control this behavior.\n",
      "  _warn_prf(average, modifier, msg_start, len(result))\n"
     ]
    }
   ],
   "source": [
    "print(classification_report(y_test, mod.predict(tfidfv_test)))"
   ]
  },
  {
   "cell_type": "markdown",
   "id": "separate-affiliation",
   "metadata": {},
   "source": [
    "## CNB (Complement Naive Bayes Classifier, 컴플리먼트 나이브 베이즈 분류기)"
   ]
  },
  {
   "cell_type": "code",
   "execution_count": 60,
   "id": "mechanical-wholesale",
   "metadata": {
    "ExecuteTime": {
     "end_time": "2021-04-22T09:27:01.338393Z",
     "start_time": "2021-04-22T09:27:01.310315Z"
    }
   },
   "outputs": [
    {
     "data": {
      "text/plain": [
       "ComplementNB()"
      ]
     },
     "execution_count": 60,
     "metadata": {},
     "output_type": "execute_result"
    }
   ],
   "source": [
    "cb = ComplementNB()\n",
    "cb.fit(tfidfv, y_train)"
   ]
  },
  {
   "cell_type": "code",
   "execution_count": 61,
   "id": "owned-truth",
   "metadata": {
    "ExecuteTime": {
     "end_time": "2021-04-22T09:27:01.347715Z",
     "start_time": "2021-04-22T09:27:01.339563Z"
    }
   },
   "outputs": [
    {
     "name": "stdout",
     "output_type": "stream",
     "text": [
      "정확도: 0.7707034728406055\n"
     ]
    }
   ],
   "source": [
    "predicted = cb.predict(tfidfv_test)\n",
    "print(\"정확도:\", accuracy_score(y_test, predicted))"
   ]
  },
  {
   "cell_type": "code",
   "execution_count": 62,
   "id": "needed-treaty",
   "metadata": {
    "ExecuteTime": {
     "end_time": "2021-04-22T09:27:01.363171Z",
     "start_time": "2021-04-22T09:27:01.348845Z"
    }
   },
   "outputs": [
    {
     "name": "stdout",
     "output_type": "stream",
     "text": [
      "              precision    recall  f1-score   support\n",
      "\n",
      "           0       0.88      0.58      0.70        12\n",
      "           1       0.63      0.86      0.73       105\n",
      "           2       0.91      0.50      0.65        20\n",
      "           3       0.91      0.89      0.90       813\n",
      "           4       0.74      0.92      0.82       474\n",
      "           5       0.00      0.00      0.00         5\n",
      "           6       0.86      0.86      0.86        14\n",
      "           7       1.00      0.67      0.80         3\n",
      "           8       0.57      0.21      0.31        38\n",
      "           9       0.82      0.92      0.87        25\n",
      "          10       0.96      0.80      0.87        30\n",
      "          11       0.54      0.76      0.63        83\n",
      "          12       0.00      0.00      0.00        13\n",
      "          13       0.69      0.59      0.64        37\n",
      "          14       0.00      0.00      0.00         2\n",
      "          15       0.00      0.00      0.00         9\n",
      "          16       0.67      0.79      0.72        99\n",
      "          17       0.00      0.00      0.00        12\n",
      "          18       0.55      0.60      0.57        20\n",
      "          19       0.56      0.80      0.66       133\n",
      "          20       0.79      0.33      0.46        70\n",
      "          21       0.78      0.67      0.72        27\n",
      "          22       0.00      0.00      0.00         7\n",
      "          23       0.67      0.33      0.44        12\n",
      "          24       0.67      0.11      0.18        19\n",
      "          25       0.86      0.77      0.81        31\n",
      "          26       0.88      0.88      0.88         8\n",
      "          27       1.00      0.25      0.40         4\n",
      "          28       0.33      0.20      0.25        10\n",
      "          29       0.00      0.00      0.00         4\n",
      "          30       0.00      0.00      0.00        12\n",
      "          31       1.00      0.15      0.27        13\n",
      "          32       1.00      0.70      0.82        10\n",
      "          33       1.00      0.80      0.89         5\n",
      "          34       1.00      0.71      0.83         7\n",
      "          35       1.00      0.17      0.29         6\n",
      "          36       0.00      0.00      0.00        11\n",
      "          37       1.00      0.50      0.67         2\n",
      "          38       1.00      0.33      0.50         3\n",
      "          39       0.00      0.00      0.00         5\n",
      "          40       0.00      0.00      0.00        10\n",
      "          41       0.67      0.25      0.36         8\n",
      "          42       1.00      0.33      0.50         3\n",
      "          43       1.00      0.17      0.29         6\n",
      "          44       1.00      0.80      0.89         5\n",
      "          45       1.00      1.00      1.00         1\n",
      "\n",
      "    accuracy                           0.77      2246\n",
      "   macro avg       0.63      0.44      0.48      2246\n",
      "weighted avg       0.76      0.77      0.75      2246\n",
      "\n"
     ]
    },
    {
     "name": "stderr",
     "output_type": "stream",
     "text": [
      "/home/aiffel-dj24/anaconda3/envs/aiffel/lib/python3.7/site-packages/sklearn/metrics/_classification.py:1245: UndefinedMetricWarning: Precision and F-score are ill-defined and being set to 0.0 in labels with no predicted samples. Use `zero_division` parameter to control this behavior.\n",
      "  _warn_prf(average, modifier, msg_start, len(result))\n",
      "/home/aiffel-dj24/anaconda3/envs/aiffel/lib/python3.7/site-packages/sklearn/metrics/_classification.py:1245: UndefinedMetricWarning: Precision and F-score are ill-defined and being set to 0.0 in labels with no predicted samples. Use `zero_division` parameter to control this behavior.\n",
      "  _warn_prf(average, modifier, msg_start, len(result))\n",
      "/home/aiffel-dj24/anaconda3/envs/aiffel/lib/python3.7/site-packages/sklearn/metrics/_classification.py:1245: UndefinedMetricWarning: Precision and F-score are ill-defined and being set to 0.0 in labels with no predicted samples. Use `zero_division` parameter to control this behavior.\n",
      "  _warn_prf(average, modifier, msg_start, len(result))\n"
     ]
    }
   ],
   "source": [
    "print(classification_report(y_test, cb.predict(tfidfv_test)))"
   ]
  },
  {
   "cell_type": "markdown",
   "id": "compatible-ghana",
   "metadata": {},
   "source": [
    "## 로지스틱 회귀(Logistic Regression) = 소프트맥스 회귀(Softmax Regression)"
   ]
  },
  {
   "cell_type": "code",
   "execution_count": 63,
   "id": "reserved-conducting",
   "metadata": {
    "ExecuteTime": {
     "end_time": "2021-04-22T09:27:09.011290Z",
     "start_time": "2021-04-22T09:27:01.364270Z"
    }
   },
   "outputs": [
    {
     "name": "stderr",
     "output_type": "stream",
     "text": [
      "/home/aiffel-dj24/anaconda3/envs/aiffel/lib/python3.7/site-packages/sklearn/linear_model/_logistic.py:765: ConvergenceWarning: lbfgs failed to converge (status=1):\n",
      "STOP: TOTAL NO. of ITERATIONS REACHED LIMIT.\n",
      "\n",
      "Increase the number of iterations (max_iter) or scale the data as shown in:\n",
      "    https://scikit-learn.org/stable/modules/preprocessing.html\n",
      "Please also refer to the documentation for alternative solver options:\n",
      "    https://scikit-learn.org/stable/modules/linear_model.html#logistic-regression\n",
      "  extra_warning_msg=_LOGISTIC_SOLVER_CONVERGENCE_MSG)\n"
     ]
    },
    {
     "data": {
      "text/plain": [
       "LogisticRegression(C=10000)"
      ]
     },
     "execution_count": 63,
     "metadata": {},
     "output_type": "execute_result"
    }
   ],
   "source": [
    "lr = LogisticRegression(C=10000, penalty='l2')\n",
    "lr.fit(tfidfv, y_train)"
   ]
  },
  {
   "cell_type": "code",
   "execution_count": 64,
   "id": "acquired-victory",
   "metadata": {
    "ExecuteTime": {
     "end_time": "2021-04-22T09:27:09.022208Z",
     "start_time": "2021-04-22T09:27:09.012771Z"
    }
   },
   "outputs": [
    {
     "name": "stdout",
     "output_type": "stream",
     "text": [
      "정확도: 0.8058771148708815\n"
     ]
    }
   ],
   "source": [
    "predicted = lr.predict(tfidfv_test) #테스트 데이터에 대한 예측\n",
    "print(\"정확도:\", accuracy_score(y_test, predicted)) #예측값과 실제값 비교"
   ]
  },
  {
   "cell_type": "code",
   "execution_count": 65,
   "id": "valued-commissioner",
   "metadata": {
    "ExecuteTime": {
     "end_time": "2021-04-22T09:27:09.040514Z",
     "start_time": "2021-04-22T09:27:09.023489Z"
    }
   },
   "outputs": [
    {
     "name": "stdout",
     "output_type": "stream",
     "text": [
      "              precision    recall  f1-score   support\n",
      "\n",
      "           0       0.89      0.67      0.76        12\n",
      "           1       0.77      0.80      0.79       105\n",
      "           2       0.74      0.85      0.79        20\n",
      "           3       0.91      0.93      0.92       813\n",
      "           4       0.81      0.87      0.84       474\n",
      "           5       0.00      0.00      0.00         5\n",
      "           6       0.92      0.86      0.89        14\n",
      "           7       1.00      0.67      0.80         3\n",
      "           8       0.64      0.74      0.68        38\n",
      "           9       0.81      0.88      0.85        25\n",
      "          10       0.93      0.87      0.90        30\n",
      "          11       0.64      0.73      0.68        83\n",
      "          12       0.57      0.31      0.40        13\n",
      "          13       0.64      0.62      0.63        37\n",
      "          14       0.50      0.50      0.50         2\n",
      "          15       0.83      0.56      0.67         9\n",
      "          16       0.67      0.73      0.70        99\n",
      "          17       0.82      0.75      0.78        12\n",
      "          18       0.80      0.60      0.69        20\n",
      "          19       0.66      0.68      0.67       133\n",
      "          20       0.61      0.47      0.53        70\n",
      "          21       0.62      0.78      0.69        27\n",
      "          22       0.00      0.00      0.00         7\n",
      "          23       0.55      0.50      0.52        12\n",
      "          24       0.69      0.58      0.63        19\n",
      "          25       0.91      0.65      0.75        31\n",
      "          26       1.00      0.88      0.93         8\n",
      "          27       1.00      0.25      0.40         4\n",
      "          28       0.67      0.40      0.50        10\n",
      "          29       0.50      0.75      0.60         4\n",
      "          30       1.00      0.42      0.59        12\n",
      "          31       0.70      0.54      0.61        13\n",
      "          32       1.00      0.80      0.89        10\n",
      "          33       0.80      0.80      0.80         5\n",
      "          34       1.00      0.29      0.44         7\n",
      "          35       1.00      0.33      0.50         6\n",
      "          36       0.38      0.27      0.32        11\n",
      "          37       0.50      0.50      0.50         2\n",
      "          38       0.50      0.33      0.40         3\n",
      "          39       0.40      0.40      0.40         5\n",
      "          40       0.75      0.30      0.43        10\n",
      "          41       0.83      0.62      0.71         8\n",
      "          42       1.00      0.67      0.80         3\n",
      "          43       0.67      1.00      0.80         6\n",
      "          44       1.00      0.80      0.89         5\n",
      "          45       1.00      1.00      1.00         1\n",
      "\n",
      "    accuracy                           0.81      2246\n",
      "   macro avg       0.73      0.61      0.64      2246\n",
      "weighted avg       0.80      0.81      0.80      2246\n",
      "\n"
     ]
    },
    {
     "name": "stderr",
     "output_type": "stream",
     "text": [
      "/home/aiffel-dj24/anaconda3/envs/aiffel/lib/python3.7/site-packages/sklearn/metrics/_classification.py:1245: UndefinedMetricWarning: Precision and F-score are ill-defined and being set to 0.0 in labels with no predicted samples. Use `zero_division` parameter to control this behavior.\n",
      "  _warn_prf(average, modifier, msg_start, len(result))\n",
      "/home/aiffel-dj24/anaconda3/envs/aiffel/lib/python3.7/site-packages/sklearn/metrics/_classification.py:1245: UndefinedMetricWarning: Precision and F-score are ill-defined and being set to 0.0 in labels with no predicted samples. Use `zero_division` parameter to control this behavior.\n",
      "  _warn_prf(average, modifier, msg_start, len(result))\n",
      "/home/aiffel-dj24/anaconda3/envs/aiffel/lib/python3.7/site-packages/sklearn/metrics/_classification.py:1245: UndefinedMetricWarning: Precision and F-score are ill-defined and being set to 0.0 in labels with no predicted samples. Use `zero_division` parameter to control this behavior.\n",
      "  _warn_prf(average, modifier, msg_start, len(result))\n"
     ]
    }
   ],
   "source": [
    "print(classification_report(y_test, lr.predict(tfidfv_test)))"
   ]
  },
  {
   "cell_type": "markdown",
   "id": "aboriginal-colonial",
   "metadata": {},
   "source": [
    "## 선형 서포트 벡터 머신"
   ]
  },
  {
   "cell_type": "code",
   "execution_count": 66,
   "id": "valued-response",
   "metadata": {
    "ExecuteTime": {
     "end_time": "2021-04-22T09:27:34.233750Z",
     "start_time": "2021-04-22T09:27:09.041723Z"
    }
   },
   "outputs": [
    {
     "name": "stderr",
     "output_type": "stream",
     "text": [
      "/home/aiffel-dj24/anaconda3/envs/aiffel/lib/python3.7/site-packages/sklearn/svm/_base.py:986: ConvergenceWarning: Liblinear failed to converge, increase the number of iterations.\n",
      "  \"the number of iterations.\", ConvergenceWarning)\n"
     ]
    },
    {
     "data": {
      "text/plain": [
       "LinearSVC(C=1000, dual=False, max_iter=500, penalty='l1')"
      ]
     },
     "execution_count": 66,
     "metadata": {},
     "output_type": "execute_result"
    }
   ],
   "source": [
    "lsvc = LinearSVC(C=1000, penalty='l1', max_iter=500, dual=False)\n",
    "lsvc.fit(tfidfv, y_train)"
   ]
  },
  {
   "cell_type": "code",
   "execution_count": 67,
   "id": "thrown-blind",
   "metadata": {
    "ExecuteTime": {
     "end_time": "2021-04-22T09:27:34.249698Z",
     "start_time": "2021-04-22T09:27:34.240847Z"
    }
   },
   "outputs": [
    {
     "name": "stdout",
     "output_type": "stream",
     "text": [
      "정확도: 0.7666963490650045\n"
     ]
    }
   ],
   "source": [
    "predicted = lsvc.predict(tfidfv_test)\n",
    "print(\"정확도:\", accuracy_score(y_test, predicted))"
   ]
  },
  {
   "cell_type": "code",
   "execution_count": 68,
   "id": "musical-fever",
   "metadata": {
    "ExecuteTime": {
     "end_time": "2021-04-22T09:27:34.268756Z",
     "start_time": "2021-04-22T09:27:34.253058Z"
    }
   },
   "outputs": [
    {
     "name": "stdout",
     "output_type": "stream",
     "text": [
      "              precision    recall  f1-score   support\n",
      "\n",
      "           0       0.70      0.58      0.64        12\n",
      "           1       0.63      0.70      0.67       105\n",
      "           2       0.78      0.70      0.74        20\n",
      "           3       0.90      0.90      0.90       813\n",
      "           4       0.79      0.84      0.82       474\n",
      "           5       0.20      0.20      0.20         5\n",
      "           6       0.81      0.93      0.87        14\n",
      "           7       1.00      0.33      0.50         3\n",
      "           8       0.54      0.68      0.60        38\n",
      "           9       0.78      0.84      0.81        25\n",
      "          10       0.89      0.83      0.86        30\n",
      "          11       0.63      0.72      0.67        83\n",
      "          12       0.43      0.23      0.30        13\n",
      "          13       0.54      0.59      0.56        37\n",
      "          14       0.33      0.50      0.40         2\n",
      "          15       0.75      0.33      0.46         9\n",
      "          16       0.66      0.68      0.67        99\n",
      "          17       0.80      0.33      0.47        12\n",
      "          18       0.75      0.60      0.67        20\n",
      "          19       0.63      0.65      0.64       133\n",
      "          20       0.50      0.41      0.45        70\n",
      "          21       0.62      0.85      0.72        27\n",
      "          22       0.33      0.14      0.20         7\n",
      "          23       0.56      0.42      0.48        12\n",
      "          24       0.60      0.47      0.53        19\n",
      "          25       0.86      0.58      0.69        31\n",
      "          26       0.88      0.88      0.88         8\n",
      "          27       0.50      0.25      0.33         4\n",
      "          28       0.33      0.20      0.25        10\n",
      "          29       0.29      0.50      0.36         4\n",
      "          30       0.56      0.42      0.48        12\n",
      "          31       0.67      0.62      0.64        13\n",
      "          32       1.00      0.70      0.82        10\n",
      "          33       0.80      0.80      0.80         5\n",
      "          34       0.67      0.57      0.62         7\n",
      "          35       0.67      0.33      0.44         6\n",
      "          36       0.67      0.36      0.47        11\n",
      "          37       0.33      0.50      0.40         2\n",
      "          38       1.00      0.33      0.50         3\n",
      "          39       0.33      0.20      0.25         5\n",
      "          40       0.50      0.20      0.29        10\n",
      "          41       0.50      0.38      0.43         8\n",
      "          42       0.25      0.33      0.29         3\n",
      "          43       0.60      1.00      0.75         6\n",
      "          44       1.00      0.80      0.89         5\n",
      "          45       0.50      1.00      0.67         1\n",
      "\n",
      "    accuracy                           0.77      2246\n",
      "   macro avg       0.63      0.55      0.57      2246\n",
      "weighted avg       0.77      0.77      0.76      2246\n",
      "\n"
     ]
    }
   ],
   "source": [
    "print(classification_report(y_test, lsvc.predict(tfidfv_test)))"
   ]
  },
  {
   "cell_type": "markdown",
   "id": "democratic-decision",
   "metadata": {},
   "source": [
    "## 결정 트리(Decision Tree)"
   ]
  },
  {
   "cell_type": "code",
   "execution_count": 69,
   "id": "hearing-gather",
   "metadata": {
    "ExecuteTime": {
     "end_time": "2021-04-22T09:27:35.458813Z",
     "start_time": "2021-04-22T09:27:34.269905Z"
    }
   },
   "outputs": [
    {
     "data": {
      "text/plain": [
       "DecisionTreeClassifier(max_depth=10, random_state=0)"
      ]
     },
     "execution_count": 69,
     "metadata": {},
     "output_type": "execute_result"
    }
   ],
   "source": [
    "tree = DecisionTreeClassifier(max_depth=10, random_state=0)\n",
    "tree.fit(tfidfv, y_train)"
   ]
  },
  {
   "cell_type": "code",
   "execution_count": 70,
   "id": "dedicated-wages",
   "metadata": {
    "ExecuteTime": {
     "end_time": "2021-04-22T09:27:35.466574Z",
     "start_time": "2021-04-22T09:27:35.459963Z"
    }
   },
   "outputs": [
    {
     "name": "stdout",
     "output_type": "stream",
     "text": [
      "정확도: 0.6179875333926982\n"
     ]
    }
   ],
   "source": [
    "predicted = tree.predict(tfidfv_test) #테스트 데이터에 대한 예측\n",
    "print(\"정확도:\", accuracy_score(y_test, predicted)) #예측값과 실제값 비교"
   ]
  },
  {
   "cell_type": "code",
   "execution_count": 71,
   "id": "electrical-mississippi",
   "metadata": {
    "ExecuteTime": {
     "end_time": "2021-04-22T09:27:35.483357Z",
     "start_time": "2021-04-22T09:27:35.467743Z"
    }
   },
   "outputs": [
    {
     "name": "stdout",
     "output_type": "stream",
     "text": [
      "              precision    recall  f1-score   support\n",
      "\n",
      "           0       0.00      0.00      0.00        12\n",
      "           1       0.72      0.40      0.52       105\n",
      "           2       0.60      0.45      0.51        20\n",
      "           3       0.94      0.84      0.89       813\n",
      "           4       0.39      0.91      0.55       474\n",
      "           5       0.00      0.00      0.00         5\n",
      "           6       1.00      0.57      0.73        14\n",
      "           7       0.00      0.00      0.00         3\n",
      "           8       0.00      0.00      0.00        38\n",
      "           9       0.88      0.88      0.88        25\n",
      "          10       0.87      0.87      0.87        30\n",
      "          11       0.62      0.48      0.54        83\n",
      "          12       0.17      0.08      0.11        13\n",
      "          13       0.00      0.00      0.00        37\n",
      "          14       0.00      0.00      0.00         2\n",
      "          15       0.00      0.00      0.00         9\n",
      "          16       0.60      0.82      0.69        99\n",
      "          17       0.00      0.00      0.00        12\n",
      "          18       0.00      0.00      0.00        20\n",
      "          19       0.62      0.26      0.37       133\n",
      "          20       0.33      0.03      0.05        70\n",
      "          21       0.00      0.00      0.00        27\n",
      "          22       0.00      0.00      0.00         7\n",
      "          23       0.00      0.00      0.00        12\n",
      "          24       1.00      0.05      0.10        19\n",
      "          25       0.86      0.19      0.32        31\n",
      "          26       0.00      0.00      0.00         8\n",
      "          27       0.00      0.00      0.00         4\n",
      "          28       0.50      0.10      0.17        10\n",
      "          29       0.00      0.00      0.00         4\n",
      "          30       0.00      0.00      0.00        12\n",
      "          31       0.00      0.00      0.00        13\n",
      "          32       0.00      0.00      0.00        10\n",
      "          33       0.83      1.00      0.91         5\n",
      "          34       0.00      0.00      0.00         7\n",
      "          35       0.00      0.00      0.00         6\n",
      "          36       0.00      0.00      0.00        11\n",
      "          37       0.00      0.00      0.00         2\n",
      "          38       0.00      0.00      0.00         3\n",
      "          39       0.00      0.00      0.00         5\n",
      "          40       0.00      0.00      0.00        10\n",
      "          41       0.00      0.00      0.00         8\n",
      "          42       0.00      0.00      0.00         3\n",
      "          43       0.00      0.00      0.00         6\n",
      "          44       0.00      0.00      0.00         5\n",
      "          45       0.00      0.00      0.00         1\n",
      "\n",
      "    accuracy                           0.62      2246\n",
      "   macro avg       0.24      0.17      0.18      2246\n",
      "weighted avg       0.61      0.62      0.57      2246\n",
      "\n"
     ]
    },
    {
     "name": "stderr",
     "output_type": "stream",
     "text": [
      "/home/aiffel-dj24/anaconda3/envs/aiffel/lib/python3.7/site-packages/sklearn/metrics/_classification.py:1245: UndefinedMetricWarning: Precision and F-score are ill-defined and being set to 0.0 in labels with no predicted samples. Use `zero_division` parameter to control this behavior.\n",
      "  _warn_prf(average, modifier, msg_start, len(result))\n",
      "/home/aiffel-dj24/anaconda3/envs/aiffel/lib/python3.7/site-packages/sklearn/metrics/_classification.py:1245: UndefinedMetricWarning: Precision and F-score are ill-defined and being set to 0.0 in labels with no predicted samples. Use `zero_division` parameter to control this behavior.\n",
      "  _warn_prf(average, modifier, msg_start, len(result))\n",
      "/home/aiffel-dj24/anaconda3/envs/aiffel/lib/python3.7/site-packages/sklearn/metrics/_classification.py:1245: UndefinedMetricWarning: Precision and F-score are ill-defined and being set to 0.0 in labels with no predicted samples. Use `zero_division` parameter to control this behavior.\n",
      "  _warn_prf(average, modifier, msg_start, len(result))\n"
     ]
    }
   ],
   "source": [
    "print(classification_report(y_test, tree.predict(tfidfv_test)))"
   ]
  },
  {
   "cell_type": "markdown",
   "id": "exterior-technician",
   "metadata": {},
   "source": [
    "## 랜덤 포레스트(Random Forest)"
   ]
  },
  {
   "cell_type": "code",
   "execution_count": 72,
   "id": "entertaining-foster",
   "metadata": {
    "ExecuteTime": {
     "end_time": "2021-04-22T09:27:36.638558Z",
     "start_time": "2021-04-22T09:27:35.484742Z"
    }
   },
   "outputs": [
    {
     "data": {
      "text/plain": [
       "RandomForestClassifier(n_estimators=5, random_state=0)"
      ]
     },
     "execution_count": 72,
     "metadata": {},
     "output_type": "execute_result"
    }
   ],
   "source": [
    "forest = RandomForestClassifier(n_estimators=5, random_state=0)\n",
    "forest.fit(tfidfv, y_train)"
   ]
  },
  {
   "cell_type": "code",
   "execution_count": 73,
   "id": "analyzed-chinese",
   "metadata": {
    "ExecuteTime": {
     "end_time": "2021-04-22T09:27:36.650125Z",
     "start_time": "2021-04-22T09:27:36.639685Z"
    }
   },
   "outputs": [
    {
     "name": "stdout",
     "output_type": "stream",
     "text": [
      "정확도: 0.701246660730187\n"
     ]
    }
   ],
   "source": [
    "predicted = forest.predict(tfidfv_test)\n",
    "print(\"정확도:\", accuracy_score(y_test, predicted))"
   ]
  },
  {
   "cell_type": "code",
   "execution_count": 74,
   "id": "eleven-decimal",
   "metadata": {
    "ExecuteTime": {
     "end_time": "2021-04-22T09:27:36.669014Z",
     "start_time": "2021-04-22T09:27:36.651202Z"
    }
   },
   "outputs": [
    {
     "name": "stdout",
     "output_type": "stream",
     "text": [
      "              precision    recall  f1-score   support\n",
      "\n",
      "           0       0.28      0.42      0.33        12\n",
      "           1       0.42      0.78      0.55       105\n",
      "           2       0.44      0.35      0.39        20\n",
      "           3       0.84      0.90      0.87       813\n",
      "           4       0.68      0.84      0.75       474\n",
      "           5       0.00      0.00      0.00         5\n",
      "           6       0.86      0.43      0.57        14\n",
      "           7       1.00      0.33      0.50         3\n",
      "           8       0.59      0.53      0.56        38\n",
      "           9       0.71      0.40      0.51        25\n",
      "          10       0.89      0.53      0.67        30\n",
      "          11       0.57      0.69      0.62        83\n",
      "          12       0.33      0.15      0.21        13\n",
      "          13       0.46      0.32      0.38        37\n",
      "          14       0.00      0.00      0.00         2\n",
      "          15       1.00      0.11      0.20         9\n",
      "          16       0.70      0.67      0.68        99\n",
      "          17       0.00      0.00      0.00        12\n",
      "          18       0.60      0.45      0.51        20\n",
      "          19       0.62      0.64      0.63       133\n",
      "          20       0.46      0.33      0.38        70\n",
      "          21       0.65      0.41      0.50        27\n",
      "          22       0.00      0.00      0.00         7\n",
      "          23       0.75      0.25      0.38        12\n",
      "          24       0.33      0.05      0.09        19\n",
      "          25       0.87      0.42      0.57        31\n",
      "          26       1.00      0.12      0.22         8\n",
      "          27       1.00      0.25      0.40         4\n",
      "          28       0.00      0.00      0.00        10\n",
      "          29       0.33      0.25      0.29         4\n",
      "          30       0.00      0.00      0.00        12\n",
      "          31       0.00      0.00      0.00        13\n",
      "          32       1.00      0.30      0.46        10\n",
      "          33       1.00      0.20      0.33         5\n",
      "          34       0.00      0.00      0.00         7\n",
      "          35       1.00      0.17      0.29         6\n",
      "          36       0.33      0.09      0.14        11\n",
      "          37       1.00      0.50      0.67         2\n",
      "          38       0.00      0.00      0.00         3\n",
      "          39       0.00      0.00      0.00         5\n",
      "          40       1.00      0.20      0.33        10\n",
      "          41       0.25      0.12      0.17         8\n",
      "          42       0.00      0.00      0.00         3\n",
      "          43       1.00      0.33      0.50         6\n",
      "          44       1.00      0.80      0.89         5\n",
      "          45       1.00      1.00      1.00         1\n",
      "\n",
      "    accuracy                           0.70      2246\n",
      "   macro avg       0.54      0.31      0.36      2246\n",
      "weighted avg       0.69      0.70      0.68      2246\n",
      "\n"
     ]
    },
    {
     "name": "stderr",
     "output_type": "stream",
     "text": [
      "/home/aiffel-dj24/anaconda3/envs/aiffel/lib/python3.7/site-packages/sklearn/metrics/_classification.py:1245: UndefinedMetricWarning: Precision and F-score are ill-defined and being set to 0.0 in labels with no predicted samples. Use `zero_division` parameter to control this behavior.\n",
      "  _warn_prf(average, modifier, msg_start, len(result))\n",
      "/home/aiffel-dj24/anaconda3/envs/aiffel/lib/python3.7/site-packages/sklearn/metrics/_classification.py:1245: UndefinedMetricWarning: Precision and F-score are ill-defined and being set to 0.0 in labels with no predicted samples. Use `zero_division` parameter to control this behavior.\n",
      "  _warn_prf(average, modifier, msg_start, len(result))\n",
      "/home/aiffel-dj24/anaconda3/envs/aiffel/lib/python3.7/site-packages/sklearn/metrics/_classification.py:1245: UndefinedMetricWarning: Precision and F-score are ill-defined and being set to 0.0 in labels with no predicted samples. Use `zero_division` parameter to control this behavior.\n",
      "  _warn_prf(average, modifier, msg_start, len(result))\n"
     ]
    }
   ],
   "source": [
    "print(classification_report(y_test, forest.predict(tfidfv_test)))"
   ]
  },
  {
   "cell_type": "markdown",
   "id": "bizarre-academy",
   "metadata": {},
   "source": [
    "## 그래디언트 부스팅 트리(GradientBoostingClassifier)"
   ]
  },
  {
   "cell_type": "code",
   "execution_count": 75,
   "id": "extra-indian",
   "metadata": {
    "ExecuteTime": {
     "end_time": "2021-04-22T09:40:18.284636Z",
     "start_time": "2021-04-22T09:27:36.670100Z"
    }
   },
   "outputs": [
    {
     "data": {
      "text/plain": [
       "GradientBoostingClassifier(random_state=0)"
      ]
     },
     "execution_count": 75,
     "metadata": {},
     "output_type": "execute_result"
    }
   ],
   "source": [
    "grbt = GradientBoostingClassifier(random_state=0) # verbose=3\n",
    "grbt.fit(tfidfv, y_train)"
   ]
  },
  {
   "cell_type": "code",
   "execution_count": 76,
   "id": "ruled-oakland",
   "metadata": {
    "ExecuteTime": {
     "end_time": "2021-04-22T09:40:18.443638Z",
     "start_time": "2021-04-22T09:40:18.285784Z"
    }
   },
   "outputs": [
    {
     "name": "stdout",
     "output_type": "stream",
     "text": [
      "정확도: 0.767586821015138\n"
     ]
    }
   ],
   "source": [
    "predicted = grbt.predict(tfidfv_test) #테스트 데이터에 대한 예측\n",
    "print(\"정확도:\", accuracy_score(y_test, predicted)) #예측값과 실제값 비교"
   ]
  },
  {
   "cell_type": "code",
   "execution_count": 77,
   "id": "configured-pressure",
   "metadata": {
    "ExecuteTime": {
     "end_time": "2021-04-22T09:40:18.619783Z",
     "start_time": "2021-04-22T09:40:18.444965Z"
    }
   },
   "outputs": [
    {
     "name": "stdout",
     "output_type": "stream",
     "text": [
      "              precision    recall  f1-score   support\n",
      "\n",
      "           0       0.89      0.67      0.76        12\n",
      "           1       0.80      0.68      0.73       105\n",
      "           2       0.70      0.70      0.70        20\n",
      "           3       0.90      0.90      0.90       813\n",
      "           4       0.76      0.83      0.79       474\n",
      "           5       0.14      0.20      0.17         5\n",
      "           6       0.93      0.93      0.93        14\n",
      "           7       0.50      0.33      0.40         3\n",
      "           8       0.64      0.66      0.65        38\n",
      "           9       0.91      0.84      0.87        25\n",
      "          10       0.87      0.87      0.87        30\n",
      "          11       0.62      0.66      0.64        83\n",
      "          12       0.46      0.46      0.46        13\n",
      "          13       0.55      0.43      0.48        37\n",
      "          14       0.08      0.50      0.14         2\n",
      "          15       0.33      0.22      0.27         9\n",
      "          16       0.72      0.77      0.75        99\n",
      "          17       0.33      0.33      0.33        12\n",
      "          18       0.61      0.55      0.58        20\n",
      "          19       0.71      0.65      0.68       133\n",
      "          20       0.56      0.44      0.50        70\n",
      "          21       0.67      0.67      0.67        27\n",
      "          22       0.50      0.14      0.22         7\n",
      "          23       0.36      0.42      0.38        12\n",
      "          24       0.71      0.63      0.67        19\n",
      "          25       0.91      0.65      0.75        31\n",
      "          26       0.75      0.75      0.75         8\n",
      "          27       0.40      0.50      0.44         4\n",
      "          28       0.38      0.30      0.33        10\n",
      "          29       0.22      0.50      0.31         4\n",
      "          30       0.38      0.42      0.40        12\n",
      "          31       0.60      0.46      0.52        13\n",
      "          32       0.88      0.70      0.78        10\n",
      "          33       0.71      1.00      0.83         5\n",
      "          34       0.50      0.29      0.36         7\n",
      "          35       1.00      0.50      0.67         6\n",
      "          36       0.67      0.55      0.60        11\n",
      "          37       0.67      1.00      0.80         2\n",
      "          38       0.25      0.33      0.29         3\n",
      "          39       0.25      0.20      0.22         5\n",
      "          40       0.71      0.50      0.59        10\n",
      "          41       0.44      0.50      0.47         8\n",
      "          42       0.75      1.00      0.86         3\n",
      "          43       0.50      0.67      0.57         6\n",
      "          44       1.00      0.80      0.89         5\n",
      "          45       0.50      1.00      0.67         1\n",
      "\n",
      "    accuracy                           0.77      2246\n",
      "   macro avg       0.60      0.59      0.58      2246\n",
      "weighted avg       0.77      0.77      0.77      2246\n",
      "\n"
     ]
    }
   ],
   "source": [
    "print(classification_report(y_test, grbt.predict(tfidfv_test)))"
   ]
  },
  {
   "cell_type": "markdown",
   "id": "discrete-wiring",
   "metadata": {},
   "source": [
    "## 보팅(Voting)"
   ]
  },
  {
   "cell_type": "code",
   "execution_count": 78,
   "id": "living-antarctica",
   "metadata": {
    "ExecuteTime": {
     "end_time": "2021-04-22T09:52:51.619432Z",
     "start_time": "2021-04-22T09:40:18.620964Z"
    }
   },
   "outputs": [
    {
     "data": {
      "text/plain": [
       "VotingClassifier(estimators=[('lr', LogisticRegression(C=10000)),\n",
       "                             ('cb', ComplementNB()),\n",
       "                             ('grbt',\n",
       "                              GradientBoostingClassifier(random_state=0))],\n",
       "                 n_jobs=-1, voting='soft')"
      ]
     },
     "execution_count": 78,
     "metadata": {},
     "output_type": "execute_result"
    }
   ],
   "source": [
    "voting_classifier = VotingClassifier(estimators=[\n",
    "         ('lr', LogisticRegression(C=10000, penalty='l2')),\n",
    "         ('cb', ComplementNB()),\n",
    "         ('grbt', GradientBoostingClassifier(random_state=0))\n",
    "], voting='soft', n_jobs=-1)\n",
    "voting_classifier.fit(tfidfv, y_train)"
   ]
  },
  {
   "cell_type": "code",
   "execution_count": 79,
   "id": "worthy-ultimate",
   "metadata": {
    "ExecuteTime": {
     "end_time": "2021-04-22T09:52:51.831862Z",
     "start_time": "2021-04-22T09:52:51.621286Z"
    }
   },
   "outputs": [
    {
     "name": "stdout",
     "output_type": "stream",
     "text": [
      "정확도: 0.8161175422974176\n"
     ]
    }
   ],
   "source": [
    "predicted = voting_classifier.predict(tfidfv_test) #테스트 데이터에 대한 예측\n",
    "print(\"정확도:\", accuracy_score(y_test, predicted)) #예측값과 실제값 비교"
   ]
  },
  {
   "cell_type": "code",
   "execution_count": 80,
   "id": "designed-council",
   "metadata": {
    "ExecuteTime": {
     "end_time": "2021-04-22T09:52:52.042767Z",
     "start_time": "2021-04-22T09:52:51.833045Z"
    }
   },
   "outputs": [
    {
     "name": "stdout",
     "output_type": "stream",
     "text": [
      "              precision    recall  f1-score   support\n",
      "\n",
      "           0       0.90      0.75      0.82        12\n",
      "           1       0.80      0.77      0.79       105\n",
      "           2       0.71      0.85      0.77        20\n",
      "           3       0.92      0.94      0.93       813\n",
      "           4       0.82      0.88      0.85       474\n",
      "           5       0.33      0.20      0.25         5\n",
      "           6       0.93      0.93      0.93        14\n",
      "           7       0.67      0.67      0.67         3\n",
      "           8       0.72      0.68      0.70        38\n",
      "           9       0.81      0.84      0.82        25\n",
      "          10       0.93      0.90      0.92        30\n",
      "          11       0.67      0.70      0.68        83\n",
      "          12       0.60      0.46      0.52        13\n",
      "          13       0.68      0.62      0.65        37\n",
      "          14       0.12      0.50      0.20         2\n",
      "          15       0.67      0.44      0.53         9\n",
      "          16       0.74      0.74      0.74        99\n",
      "          17       0.57      0.67      0.62        12\n",
      "          18       0.72      0.65      0.68        20\n",
      "          19       0.73      0.68      0.71       133\n",
      "          20       0.61      0.49      0.54        70\n",
      "          21       0.66      0.78      0.71        27\n",
      "          22       0.50      0.14      0.22         7\n",
      "          23       0.57      0.67      0.62        12\n",
      "          24       0.75      0.63      0.69        19\n",
      "          25       0.96      0.74      0.84        31\n",
      "          26       0.88      0.88      0.88         8\n",
      "          27       0.67      0.50      0.57         4\n",
      "          28       0.44      0.40      0.42        10\n",
      "          29       0.50      0.75      0.60         4\n",
      "          30       0.62      0.42      0.50        12\n",
      "          31       0.75      0.69      0.72        13\n",
      "          32       1.00      0.80      0.89        10\n",
      "          33       0.71      1.00      0.83         5\n",
      "          34       1.00      0.43      0.60         7\n",
      "          35       1.00      0.50      0.67         6\n",
      "          36       0.45      0.45      0.45        11\n",
      "          37       0.67      1.00      0.80         2\n",
      "          38       0.50      0.33      0.40         3\n",
      "          39       0.25      0.20      0.22         5\n",
      "          40       0.80      0.40      0.53        10\n",
      "          41       0.67      0.50      0.57         8\n",
      "          42       0.75      1.00      0.86         3\n",
      "          43       0.71      0.83      0.77         6\n",
      "          44       1.00      0.80      0.89         5\n",
      "          45       1.00      1.00      1.00         1\n",
      "\n",
      "    accuracy                           0.82      2246\n",
      "   macro avg       0.71      0.66      0.66      2246\n",
      "weighted avg       0.82      0.82      0.81      2246\n",
      "\n"
     ]
    }
   ],
   "source": [
    "print(classification_report(y_test, voting_classifier.predict(tfidfv_test)))"
   ]
  },
  {
   "cell_type": "markdown",
   "id": "indirect-scoop",
   "metadata": {},
   "source": [
    "## 정리"
   ]
  },
  {
   "cell_type": "markdown",
   "id": "universal-husband",
   "metadata": {},
   "source": [
    "##### 빈도수 상위  5,000 단어 사용시 accuracy / f1-score\n",
    "\n",
    ">- 나이브 베이즈 : 0.67 / 0.60\n",
    ">- CNB : 0.77 / 0.75\n",
    ">- 로지스틱 회귀 : 0.81 / 0.80\n",
    ">- 서포트 벡터 머신 : 0.77 / 0.76\n",
    ">- 결정 트리 : 0.62 / 0.57\n",
    ">- 랜덤 포레스트 : 0.70 / 0.68\n",
    ">- 그래디언트 부스팅 트리 : 0.77 / 0.77\n",
    ">- 보팅 : 0.82 / 0.81\n",
    "\n",
    "- __accuracy는 보팅이 82%로 가장 높고, 결정트리가 62%로 가장 낮았으며,  \n",
    "f1-score는 보팅이 81%로 가장 높고, 결정트리가 57%로 가장 낮았다.__"
   ]
  },
  {
   "cell_type": "markdown",
   "id": "separated-change",
   "metadata": {},
   "source": [
    "---"
   ]
  },
  {
   "cell_type": "markdown",
   "id": "addressed-interest",
   "metadata": {},
   "source": [
    "# 직접 단어 갯수를 설정해서 사용 : 빈도수 상위 1,000개 단어만 사용"
   ]
  },
  {
   "cell_type": "markdown",
   "id": "elder-salon",
   "metadata": {},
   "source": [
    "- __모든 단어를 사용했을 때와 빈도수 상위 5,000 단어를 사용했을 때 그 차이를 보이지 않으므로, 단어수를 더 줄여서 비교__\n",
    "- __빈도수 상위 1,000개 단어만 사용__"
   ]
  },
  {
   "cell_type": "markdown",
   "id": "strategic-birthday",
   "metadata": {},
   "source": [
    "## 데이터 로드"
   ]
  },
  {
   "cell_type": "code",
   "execution_count": 81,
   "id": "surrounded-spirituality",
   "metadata": {
    "ExecuteTime": {
     "end_time": "2021-04-22T09:52:52.534549Z",
     "start_time": "2021-04-22T09:52:52.043967Z"
    }
   },
   "outputs": [
    {
     "name": "stderr",
     "output_type": "stream",
     "text": [
      "/home/aiffel-dj24/anaconda3/envs/aiffel/lib/python3.7/site-packages/tensorflow/python/keras/datasets/reuters.py:148: VisibleDeprecationWarning: Creating an ndarray from ragged nested sequences (which is a list-or-tuple of lists-or-tuples-or ndarrays with different lengths or shapes) is deprecated. If you meant to do this, you must specify 'dtype=object' when creating the ndarray\n",
      "  x_train, y_train = np.array(xs[:idx]), np.array(labels[:idx])\n",
      "/home/aiffel-dj24/anaconda3/envs/aiffel/lib/python3.7/site-packages/tensorflow/python/keras/datasets/reuters.py:149: VisibleDeprecationWarning: Creating an ndarray from ragged nested sequences (which is a list-or-tuple of lists-or-tuples-or ndarrays with different lengths or shapes) is deprecated. If you meant to do this, you must specify 'dtype=object' when creating the ndarray\n",
      "  x_test, y_test = np.array(xs[idx:]), np.array(labels[idx:])\n"
     ]
    }
   ],
   "source": [
    "(x_train, y_train), (x_test, y_test) = reuters.load_data(num_words=1000, test_split=0.2)"
   ]
  },
  {
   "cell_type": "markdown",
   "id": "practical-former",
   "metadata": {},
   "source": [
    "- __위에서 모든 단어 사용시 데이터를 확인해 보았으므로 데이터 확인 과정 생략__"
   ]
  },
  {
   "cell_type": "markdown",
   "id": "fatty-trunk",
   "metadata": {},
   "source": [
    "## 데이터 복원"
   ]
  },
  {
   "cell_type": "markdown",
   "id": "foreign-lease",
   "metadata": {},
   "source": [
    "### 원본 데이터 복원"
   ]
  },
  {
   "cell_type": "code",
   "execution_count": 82,
   "id": "gothic-vintage",
   "metadata": {
    "ExecuteTime": {
     "end_time": "2021-04-22T09:59:17.739691Z",
     "start_time": "2021-04-22T09:59:17.728175Z"
    }
   },
   "outputs": [],
   "source": [
    "word_index = reuters.get_word_index(path=\"reuters_word_index.json\")"
   ]
  },
  {
   "cell_type": "code",
   "execution_count": 83,
   "id": "floral-profile",
   "metadata": {
    "ExecuteTime": {
     "end_time": "2021-04-22T09:59:17.746851Z",
     "start_time": "2021-04-22T09:59:17.740883Z"
    }
   },
   "outputs": [],
   "source": [
    "index_to_word = {index + 3 : word for word, index in word_index.items()}"
   ]
  },
  {
   "cell_type": "code",
   "execution_count": 84,
   "id": "selected-plant",
   "metadata": {
    "ExecuteTime": {
     "end_time": "2021-04-22T09:59:17.750355Z",
     "start_time": "2021-04-22T09:59:17.748143Z"
    }
   },
   "outputs": [],
   "source": [
    "for index, token in enumerate((\"<pad>\", \"<sos>\", \"<unk>\")):\n",
    "    index_to_word[index]=token"
   ]
  },
  {
   "cell_type": "code",
   "execution_count": 85,
   "id": "rough-supplier",
   "metadata": {
    "ExecuteTime": {
     "end_time": "2021-04-22T09:59:17.754126Z",
     "start_time": "2021-04-22T09:59:17.751611Z"
    }
   },
   "outputs": [
    {
     "name": "stdout",
     "output_type": "stream",
     "text": [
      "<sos> <unk> <unk> said as a result of its december acquisition of <unk> co it expects earnings per share in 1987 of 1 15 to 1 30 dlrs per share up from 70 cts in 1986 the company said pretax net should rise to nine to 10 mln dlrs from six mln dlrs in 1986 and <unk> <unk> revenues to 19 to 22 mln dlrs from 12 5 mln dlrs it said cash <unk> per share this year should be 2 50 to three dlrs reuter 3\n"
     ]
    }
   ],
   "source": [
    "print(' '.join([index_to_word[index] for index in x_train[0]]))"
   ]
  },
  {
   "cell_type": "code",
   "execution_count": 86,
   "id": "following-thirty",
   "metadata": {
    "ExecuteTime": {
     "end_time": "2021-04-22T09:59:17.874106Z",
     "start_time": "2021-04-22T09:59:17.755636Z"
    }
   },
   "outputs": [],
   "source": [
    "decoded = []\n",
    "for i in range(len(x_train)):\n",
    "    t = ' '.join([index_to_word[index] for index in x_train[i]])\n",
    "    decoded.append(t)\n",
    "\n",
    "x_train = decoded"
   ]
  },
  {
   "cell_type": "code",
   "execution_count": 87,
   "id": "civic-staff",
   "metadata": {
    "ExecuteTime": {
     "end_time": "2021-04-22T09:59:17.903203Z",
     "start_time": "2021-04-22T09:59:17.875808Z"
    }
   },
   "outputs": [],
   "source": [
    "decoded = []\n",
    "for i in range(len(x_test)):\n",
    "    t = ' '.join([index_to_word[index] for index in x_test[i]])\n",
    "    decoded.append(t)\n",
    "\n",
    "x_test = decoded"
   ]
  },
  {
   "cell_type": "markdown",
   "id": "touched-strike",
   "metadata": {},
   "source": [
    "## 벡터화"
   ]
  },
  {
   "cell_type": "markdown",
   "id": "academic-venezuela",
   "metadata": {},
   "source": [
    "### DTM 생성"
   ]
  },
  {
   "cell_type": "code",
   "execution_count": 88,
   "id": "geographic-aluminum",
   "metadata": {
    "ExecuteTime": {
     "end_time": "2021-04-22T09:59:18.723850Z",
     "start_time": "2021-04-22T09:59:17.904660Z"
    }
   },
   "outputs": [
    {
     "name": "stdout",
     "output_type": "stream",
     "text": [
      "(8982, 969)\n",
      "(2246, 969)\n"
     ]
    }
   ],
   "source": [
    "dtmvector = CountVectorizer()\n",
    "x_train_dtm = dtmvector.fit_transform(x_train)\n",
    "x_test_dtm = dtmvector.transform(x_test)\n",
    "\n",
    "print(x_train_dtm.shape)\n",
    "print(x_test_dtm.shape)"
   ]
  },
  {
   "cell_type": "markdown",
   "id": "understanding-habitat",
   "metadata": {},
   "source": [
    "###  TF-IDF Matrix 생성"
   ]
  },
  {
   "cell_type": "code",
   "execution_count": 89,
   "id": "proprietary-mason",
   "metadata": {
    "ExecuteTime": {
     "end_time": "2021-04-22T09:59:18.755606Z",
     "start_time": "2021-04-22T09:59:18.724991Z"
    }
   },
   "outputs": [
    {
     "name": "stdout",
     "output_type": "stream",
     "text": [
      "(8982, 969)\n",
      "(2246, 969)\n"
     ]
    }
   ],
   "source": [
    "tfidf_transformer = TfidfTransformer()\n",
    "tfidfv = tfidf_transformer.fit_transform(x_train_dtm)\n",
    "tfidfv_test = tfidf_transformer.transform(x_test_dtm)\n",
    "\n",
    "print(tfidfv.shape)\n",
    "print(tfidfv_test.shape)"
   ]
  },
  {
   "cell_type": "markdown",
   "id": "united-bangkok",
   "metadata": {},
   "source": [
    "## 나이브 베이즈 분류기"
   ]
  },
  {
   "cell_type": "code",
   "execution_count": 90,
   "id": "convenient-charm",
   "metadata": {
    "ExecuteTime": {
     "end_time": "2021-04-22T09:59:18.774079Z",
     "start_time": "2021-04-22T09:59:18.756772Z"
    }
   },
   "outputs": [
    {
     "data": {
      "text/plain": [
       "MultinomialNB()"
      ]
     },
     "execution_count": 90,
     "metadata": {},
     "output_type": "execute_result"
    }
   ],
   "source": [
    "mod = MultinomialNB()\n",
    "mod.fit(tfidfv, y_train)"
   ]
  },
  {
   "cell_type": "code",
   "execution_count": 91,
   "id": "abroad-madrid",
   "metadata": {
    "ExecuteTime": {
     "end_time": "2021-04-22T09:59:18.780974Z",
     "start_time": "2021-04-22T09:59:18.775090Z"
    }
   },
   "outputs": [
    {
     "name": "stdout",
     "output_type": "stream",
     "text": [
      "정확도: 0.6856634016028496\n"
     ]
    }
   ],
   "source": [
    "predicted = mod.predict(tfidfv_test)\n",
    "print(\"정확도:\", accuracy_score(y_test, predicted))"
   ]
  },
  {
   "cell_type": "code",
   "execution_count": 92,
   "id": "conditional-probability",
   "metadata": {
    "ExecuteTime": {
     "end_time": "2021-04-22T09:59:18.795493Z",
     "start_time": "2021-04-22T09:59:18.782811Z"
    }
   },
   "outputs": [
    {
     "name": "stdout",
     "output_type": "stream",
     "text": [
      "              precision    recall  f1-score   support\n",
      "\n",
      "           0       1.00      0.25      0.40        12\n",
      "           1       0.46      0.76      0.58       105\n",
      "           2       0.00      0.00      0.00        20\n",
      "           3       0.92      0.86      0.89       813\n",
      "           4       0.60      0.95      0.73       474\n",
      "           5       0.00      0.00      0.00         5\n",
      "           6       0.00      0.00      0.00        14\n",
      "           7       0.00      0.00      0.00         3\n",
      "           8       0.78      0.37      0.50        38\n",
      "           9       0.91      0.40      0.56        25\n",
      "          10       1.00      0.20      0.33        30\n",
      "          11       0.44      0.81      0.57        83\n",
      "          12       0.00      0.00      0.00        13\n",
      "          13       1.00      0.11      0.20        37\n",
      "          14       0.00      0.00      0.00         2\n",
      "          15       0.00      0.00      0.00         9\n",
      "          16       0.53      0.70      0.60        99\n",
      "          17       0.00      0.00      0.00        12\n",
      "          18       0.64      0.35      0.45        20\n",
      "          19       0.54      0.77      0.64       133\n",
      "          20       0.83      0.27      0.41        70\n",
      "          21       1.00      0.41      0.58        27\n",
      "          22       0.00      0.00      0.00         7\n",
      "          23       0.00      0.00      0.00        12\n",
      "          24       0.00      0.00      0.00        19\n",
      "          25       0.00      0.00      0.00        31\n",
      "          26       0.00      0.00      0.00         8\n",
      "          27       0.00      0.00      0.00         4\n",
      "          28       0.00      0.00      0.00        10\n",
      "          29       0.00      0.00      0.00         4\n",
      "          30       0.00      0.00      0.00        12\n",
      "          31       0.00      0.00      0.00        13\n",
      "          32       0.00      0.00      0.00        10\n",
      "          33       0.00      0.00      0.00         5\n",
      "          34       1.00      0.14      0.25         7\n",
      "          35       0.00      0.00      0.00         6\n",
      "          36       0.00      0.00      0.00        11\n",
      "          37       0.00      0.00      0.00         2\n",
      "          38       0.00      0.00      0.00         3\n",
      "          39       0.00      0.00      0.00         5\n",
      "          40       0.00      0.00      0.00        10\n",
      "          41       0.00      0.00      0.00         8\n",
      "          42       0.00      0.00      0.00         3\n",
      "          43       0.00      0.00      0.00         6\n",
      "          44       0.00      0.00      0.00         5\n",
      "          45       0.00      0.00      0.00         1\n",
      "\n",
      "    accuracy                           0.69      2246\n",
      "   macro avg       0.25      0.16      0.17      2246\n",
      "weighted avg       0.66      0.69      0.64      2246\n",
      "\n"
     ]
    },
    {
     "name": "stderr",
     "output_type": "stream",
     "text": [
      "/home/aiffel-dj24/anaconda3/envs/aiffel/lib/python3.7/site-packages/sklearn/metrics/_classification.py:1245: UndefinedMetricWarning: Precision and F-score are ill-defined and being set to 0.0 in labels with no predicted samples. Use `zero_division` parameter to control this behavior.\n",
      "  _warn_prf(average, modifier, msg_start, len(result))\n",
      "/home/aiffel-dj24/anaconda3/envs/aiffel/lib/python3.7/site-packages/sklearn/metrics/_classification.py:1245: UndefinedMetricWarning: Precision and F-score are ill-defined and being set to 0.0 in labels with no predicted samples. Use `zero_division` parameter to control this behavior.\n",
      "  _warn_prf(average, modifier, msg_start, len(result))\n",
      "/home/aiffel-dj24/anaconda3/envs/aiffel/lib/python3.7/site-packages/sklearn/metrics/_classification.py:1245: UndefinedMetricWarning: Precision and F-score are ill-defined and being set to 0.0 in labels with no predicted samples. Use `zero_division` parameter to control this behavior.\n",
      "  _warn_prf(average, modifier, msg_start, len(result))\n"
     ]
    }
   ],
   "source": [
    "print(classification_report(y_test, mod.predict(tfidfv_test)))"
   ]
  },
  {
   "cell_type": "markdown",
   "id": "integrated-dance",
   "metadata": {},
   "source": [
    "## CNB (Complement Naive Bayes Classifier, 컴플리먼트 나이브 베이즈 분류기)"
   ]
  },
  {
   "cell_type": "code",
   "execution_count": 93,
   "id": "packed-jefferson",
   "metadata": {
    "ExecuteTime": {
     "end_time": "2021-04-22T09:59:18.814535Z",
     "start_time": "2021-04-22T09:59:18.796804Z"
    }
   },
   "outputs": [
    {
     "data": {
      "text/plain": [
       "ComplementNB()"
      ]
     },
     "execution_count": 93,
     "metadata": {},
     "output_type": "execute_result"
    }
   ],
   "source": [
    "cb = ComplementNB()\n",
    "cb.fit(tfidfv, y_train)"
   ]
  },
  {
   "cell_type": "code",
   "execution_count": 94,
   "id": "editorial-lotus",
   "metadata": {
    "ExecuteTime": {
     "end_time": "2021-04-22T09:59:18.821860Z",
     "start_time": "2021-04-22T09:59:18.815978Z"
    }
   },
   "outputs": [
    {
     "name": "stdout",
     "output_type": "stream",
     "text": [
      "정확도: 0.7346393588601959\n"
     ]
    }
   ],
   "source": [
    "predicted = cb.predict(tfidfv_test)\n",
    "print(\"정확도:\", accuracy_score(y_test, predicted))"
   ]
  },
  {
   "cell_type": "code",
   "execution_count": 95,
   "id": "normal-falls",
   "metadata": {
    "ExecuteTime": {
     "end_time": "2021-04-22T09:59:18.836607Z",
     "start_time": "2021-04-22T09:59:18.822967Z"
    }
   },
   "outputs": [
    {
     "name": "stdout",
     "output_type": "stream",
     "text": [
      "              precision    recall  f1-score   support\n",
      "\n",
      "           0       0.55      0.50      0.52        12\n",
      "           1       0.53      0.78      0.63       105\n",
      "           2       0.00      0.00      0.00        20\n",
      "           3       0.93      0.88      0.90       813\n",
      "           4       0.69      0.93      0.79       474\n",
      "           5       0.00      0.00      0.00         5\n",
      "           6       0.82      0.64      0.72        14\n",
      "           7       1.00      0.33      0.50         3\n",
      "           8       0.69      0.24      0.35        38\n",
      "           9       0.83      0.96      0.89        25\n",
      "          10       0.88      0.73      0.80        30\n",
      "          11       0.50      0.78      0.61        83\n",
      "          12       0.00      0.00      0.00        13\n",
      "          13       0.64      0.38      0.47        37\n",
      "          14       1.00      0.50      0.67         2\n",
      "          15       0.00      0.00      0.00         9\n",
      "          16       0.60      0.75      0.67        99\n",
      "          17       0.00      0.00      0.00        12\n",
      "          18       0.46      0.60      0.52        20\n",
      "          19       0.53      0.82      0.65       133\n",
      "          20       0.81      0.30      0.44        70\n",
      "          21       0.92      0.41      0.56        27\n",
      "          22       0.00      0.00      0.00         7\n",
      "          23       0.00      0.00      0.00        12\n",
      "          24       0.00      0.00      0.00        19\n",
      "          25       0.75      0.58      0.65        31\n",
      "          26       0.00      0.00      0.00         8\n",
      "          27       0.00      0.00      0.00         4\n",
      "          28       1.00      0.10      0.18        10\n",
      "          29       0.00      0.00      0.00         4\n",
      "          30       1.00      0.08      0.15        12\n",
      "          31       0.00      0.00      0.00        13\n",
      "          32       0.00      0.00      0.00        10\n",
      "          33       0.00      0.00      0.00         5\n",
      "          34       1.00      0.86      0.92         7\n",
      "          35       0.00      0.00      0.00         6\n",
      "          36       0.00      0.00      0.00        11\n",
      "          37       0.00      0.00      0.00         2\n",
      "          38       0.00      0.00      0.00         3\n",
      "          39       0.00      0.00      0.00         5\n",
      "          40       0.00      0.00      0.00        10\n",
      "          41       0.00      0.00      0.00         8\n",
      "          42       0.00      0.00      0.00         3\n",
      "          43       0.00      0.00      0.00         6\n",
      "          44       1.00      0.80      0.89         5\n",
      "          45       0.00      0.00      0.00         1\n",
      "\n",
      "    accuracy                           0.73      2246\n",
      "   macro avg       0.37      0.28      0.29      2246\n",
      "weighted avg       0.70      0.73      0.70      2246\n",
      "\n"
     ]
    },
    {
     "name": "stderr",
     "output_type": "stream",
     "text": [
      "/home/aiffel-dj24/anaconda3/envs/aiffel/lib/python3.7/site-packages/sklearn/metrics/_classification.py:1245: UndefinedMetricWarning: Precision and F-score are ill-defined and being set to 0.0 in labels with no predicted samples. Use `zero_division` parameter to control this behavior.\n",
      "  _warn_prf(average, modifier, msg_start, len(result))\n",
      "/home/aiffel-dj24/anaconda3/envs/aiffel/lib/python3.7/site-packages/sklearn/metrics/_classification.py:1245: UndefinedMetricWarning: Precision and F-score are ill-defined and being set to 0.0 in labels with no predicted samples. Use `zero_division` parameter to control this behavior.\n",
      "  _warn_prf(average, modifier, msg_start, len(result))\n",
      "/home/aiffel-dj24/anaconda3/envs/aiffel/lib/python3.7/site-packages/sklearn/metrics/_classification.py:1245: UndefinedMetricWarning: Precision and F-score are ill-defined and being set to 0.0 in labels with no predicted samples. Use `zero_division` parameter to control this behavior.\n",
      "  _warn_prf(average, modifier, msg_start, len(result))\n"
     ]
    }
   ],
   "source": [
    "print(classification_report(y_test, cb.predict(tfidfv_test)))"
   ]
  },
  {
   "cell_type": "markdown",
   "id": "composite-french",
   "metadata": {},
   "source": [
    "## 로지스틱 회귀(Logistic Regression) = 소프트맥스 회귀(Softmax Regression)"
   ]
  },
  {
   "cell_type": "code",
   "execution_count": 96,
   "id": "natural-vulnerability",
   "metadata": {
    "ExecuteTime": {
     "end_time": "2021-04-22T09:59:23.692320Z",
     "start_time": "2021-04-22T09:59:18.837684Z"
    }
   },
   "outputs": [
    {
     "name": "stderr",
     "output_type": "stream",
     "text": [
      "/home/aiffel-dj24/anaconda3/envs/aiffel/lib/python3.7/site-packages/sklearn/linear_model/_logistic.py:765: ConvergenceWarning: lbfgs failed to converge (status=1):\n",
      "STOP: TOTAL NO. of ITERATIONS REACHED LIMIT.\n",
      "\n",
      "Increase the number of iterations (max_iter) or scale the data as shown in:\n",
      "    https://scikit-learn.org/stable/modules/preprocessing.html\n",
      "Please also refer to the documentation for alternative solver options:\n",
      "    https://scikit-learn.org/stable/modules/linear_model.html#logistic-regression\n",
      "  extra_warning_msg=_LOGISTIC_SOLVER_CONVERGENCE_MSG)\n"
     ]
    },
    {
     "data": {
      "text/plain": [
       "LogisticRegression(C=10000)"
      ]
     },
     "execution_count": 96,
     "metadata": {},
     "output_type": "execute_result"
    }
   ],
   "source": [
    "lr = LogisticRegression(C=10000, penalty='l2')\n",
    "lr.fit(tfidfv, y_train)"
   ]
  },
  {
   "cell_type": "code",
   "execution_count": 97,
   "id": "lasting-blair",
   "metadata": {
    "ExecuteTime": {
     "end_time": "2021-04-22T09:59:23.701685Z",
     "start_time": "2021-04-22T09:59:23.693458Z"
    }
   },
   "outputs": [
    {
     "name": "stdout",
     "output_type": "stream",
     "text": [
      "정확도: 0.780053428317008\n"
     ]
    }
   ],
   "source": [
    "predicted = lr.predict(tfidfv_test) #테스트 데이터에 대한 예측\n",
    "print(\"정확도:\", accuracy_score(y_test, predicted)) #예측값과 실제값 비교"
   ]
  },
  {
   "cell_type": "code",
   "execution_count": 98,
   "id": "assisted-bacteria",
   "metadata": {
    "ExecuteTime": {
     "end_time": "2021-04-22T09:59:23.719077Z",
     "start_time": "2021-04-22T09:59:23.703025Z"
    }
   },
   "outputs": [
    {
     "name": "stdout",
     "output_type": "stream",
     "text": [
      "              precision    recall  f1-score   support\n",
      "\n",
      "           0       0.88      0.58      0.70        12\n",
      "           1       0.74      0.75      0.75       105\n",
      "           2       0.65      0.65      0.65        20\n",
      "           3       0.90      0.93      0.91       813\n",
      "           4       0.80      0.85      0.82       474\n",
      "           5       1.00      0.20      0.33         5\n",
      "           6       0.93      0.93      0.93        14\n",
      "           7       1.00      0.33      0.50         3\n",
      "           8       0.60      0.68      0.64        38\n",
      "           9       0.80      0.80      0.80        25\n",
      "          10       0.86      0.80      0.83        30\n",
      "          11       0.64      0.69      0.66        83\n",
      "          12       0.86      0.46      0.60        13\n",
      "          13       0.50      0.62      0.55        37\n",
      "          14       0.20      0.50      0.29         2\n",
      "          15       0.80      0.44      0.57         9\n",
      "          16       0.65      0.72      0.68        99\n",
      "          17       0.64      0.75      0.69        12\n",
      "          18       0.80      0.60      0.69        20\n",
      "          19       0.69      0.62      0.66       133\n",
      "          20       0.44      0.43      0.43        70\n",
      "          21       0.61      0.81      0.70        27\n",
      "          22       1.00      0.14      0.25         7\n",
      "          23       0.22      0.17      0.19        12\n",
      "          24       0.67      0.42      0.52        19\n",
      "          25       0.92      0.71      0.80        31\n",
      "          26       0.80      0.50      0.62         8\n",
      "          27       1.00      0.25      0.40         4\n",
      "          28       0.80      0.40      0.53        10\n",
      "          29       0.40      1.00      0.57         4\n",
      "          30       0.86      0.50      0.63        12\n",
      "          31       0.56      0.38      0.45        13\n",
      "          32       1.00      0.60      0.75        10\n",
      "          33       0.80      0.80      0.80         5\n",
      "          34       0.67      0.29      0.40         7\n",
      "          35       1.00      0.50      0.67         6\n",
      "          36       0.36      0.36      0.36        11\n",
      "          37       0.00      0.00      0.00         2\n",
      "          38       0.00      0.00      0.00         3\n",
      "          39       0.50      0.60      0.55         5\n",
      "          40       0.40      0.20      0.27        10\n",
      "          41       0.50      0.12      0.20         8\n",
      "          42       0.00      0.00      0.00         3\n",
      "          43       0.80      0.67      0.73         6\n",
      "          44       1.00      0.80      0.89         5\n",
      "          45       1.00      1.00      1.00         1\n",
      "\n",
      "    accuracy                           0.78      2246\n",
      "   macro avg       0.68      0.53      0.56      2246\n",
      "weighted avg       0.78      0.78      0.77      2246\n",
      "\n"
     ]
    },
    {
     "name": "stderr",
     "output_type": "stream",
     "text": [
      "/home/aiffel-dj24/anaconda3/envs/aiffel/lib/python3.7/site-packages/sklearn/metrics/_classification.py:1245: UndefinedMetricWarning: Precision and F-score are ill-defined and being set to 0.0 in labels with no predicted samples. Use `zero_division` parameter to control this behavior.\n",
      "  _warn_prf(average, modifier, msg_start, len(result))\n",
      "/home/aiffel-dj24/anaconda3/envs/aiffel/lib/python3.7/site-packages/sklearn/metrics/_classification.py:1245: UndefinedMetricWarning: Precision and F-score are ill-defined and being set to 0.0 in labels with no predicted samples. Use `zero_division` parameter to control this behavior.\n",
      "  _warn_prf(average, modifier, msg_start, len(result))\n",
      "/home/aiffel-dj24/anaconda3/envs/aiffel/lib/python3.7/site-packages/sklearn/metrics/_classification.py:1245: UndefinedMetricWarning: Precision and F-score are ill-defined and being set to 0.0 in labels with no predicted samples. Use `zero_division` parameter to control this behavior.\n",
      "  _warn_prf(average, modifier, msg_start, len(result))\n"
     ]
    }
   ],
   "source": [
    "print(classification_report(y_test, lr.predict(tfidfv_test)))"
   ]
  },
  {
   "cell_type": "markdown",
   "id": "optional-patrol",
   "metadata": {},
   "source": [
    "## 선형 서포트 벡터 머신"
   ]
  },
  {
   "cell_type": "code",
   "execution_count": 99,
   "id": "traditional-friend",
   "metadata": {
    "ExecuteTime": {
     "end_time": "2021-04-22T09:59:51.743972Z",
     "start_time": "2021-04-22T09:59:23.720335Z"
    }
   },
   "outputs": [
    {
     "name": "stderr",
     "output_type": "stream",
     "text": [
      "/home/aiffel-dj24/anaconda3/envs/aiffel/lib/python3.7/site-packages/sklearn/svm/_base.py:986: ConvergenceWarning: Liblinear failed to converge, increase the number of iterations.\n",
      "  \"the number of iterations.\", ConvergenceWarning)\n"
     ]
    },
    {
     "data": {
      "text/plain": [
       "LinearSVC(C=1000, dual=False, max_iter=500, penalty='l1')"
      ]
     },
     "execution_count": 99,
     "metadata": {},
     "output_type": "execute_result"
    }
   ],
   "source": [
    "lsvc = LinearSVC(C=1000, penalty='l1', max_iter=500, dual=False)\n",
    "lsvc.fit(tfidfv, y_train)"
   ]
  },
  {
   "cell_type": "code",
   "execution_count": 100,
   "id": "interesting-pepper",
   "metadata": {
    "ExecuteTime": {
     "end_time": "2021-04-22T09:59:51.751108Z",
     "start_time": "2021-04-22T09:59:51.745100Z"
    }
   },
   "outputs": [
    {
     "name": "stdout",
     "output_type": "stream",
     "text": [
      "정확도: 0.7221727515583259\n"
     ]
    }
   ],
   "source": [
    "predicted = lsvc.predict(tfidfv_test)\n",
    "print(\"정확도:\", accuracy_score(y_test, predicted))"
   ]
  },
  {
   "cell_type": "code",
   "execution_count": 101,
   "id": "static-tours",
   "metadata": {
    "ExecuteTime": {
     "end_time": "2021-04-22T09:59:51.769159Z",
     "start_time": "2021-04-22T09:59:51.752181Z"
    }
   },
   "outputs": [
    {
     "name": "stdout",
     "output_type": "stream",
     "text": [
      "              precision    recall  f1-score   support\n",
      "\n",
      "           0       0.80      0.67      0.73        12\n",
      "           1       0.67      0.70      0.69       105\n",
      "           2       0.48      0.50      0.49        20\n",
      "           3       0.90      0.91      0.90       813\n",
      "           4       0.74      0.79      0.77       474\n",
      "           5       0.00      0.00      0.00         5\n",
      "           6       0.72      0.93      0.81        14\n",
      "           7       1.00      0.33      0.50         3\n",
      "           8       0.56      0.58      0.57        38\n",
      "           9       0.85      0.68      0.76        25\n",
      "          10       0.72      0.70      0.71        30\n",
      "          11       0.59      0.61      0.60        83\n",
      "          12       0.56      0.38      0.45        13\n",
      "          13       0.41      0.54      0.47        37\n",
      "          14       1.00      0.50      0.67         2\n",
      "          15       0.33      0.22      0.27         9\n",
      "          16       0.65      0.61      0.63        99\n",
      "          17       0.67      0.50      0.57        12\n",
      "          18       0.82      0.45      0.58        20\n",
      "          19       0.55      0.53      0.54       133\n",
      "          20       0.37      0.40      0.38        70\n",
      "          21       0.53      0.63      0.58        27\n",
      "          22       0.00      0.00      0.00         7\n",
      "          23       0.20      0.17      0.18        12\n",
      "          24       0.42      0.26      0.32        19\n",
      "          25       0.91      0.68      0.78        31\n",
      "          26       0.57      0.50      0.53         8\n",
      "          27       0.33      0.25      0.29         4\n",
      "          28       0.67      0.20      0.31        10\n",
      "          29       0.25      0.50      0.33         4\n",
      "          30       1.00      0.17      0.29        12\n",
      "          31       0.38      0.23      0.29        13\n",
      "          32       0.60      0.60      0.60        10\n",
      "          33       0.67      0.80      0.73         5\n",
      "          34       0.50      0.57      0.53         7\n",
      "          35       0.50      0.17      0.25         6\n",
      "          36       0.27      0.36      0.31        11\n",
      "          37       0.00      0.00      0.00         2\n",
      "          38       0.25      0.33      0.29         3\n",
      "          39       0.00      0.00      0.00         5\n",
      "          40       0.30      0.30      0.30        10\n",
      "          41       0.11      0.12      0.12         8\n",
      "          42       0.00      0.00      0.00         3\n",
      "          43       0.33      0.67      0.44         6\n",
      "          44       0.57      0.80      0.67         5\n",
      "          45       0.50      1.00      0.67         1\n",
      "\n",
      "    accuracy                           0.72      2246\n",
      "   macro avg       0.51      0.45      0.45      2246\n",
      "weighted avg       0.72      0.72      0.72      2246\n",
      "\n"
     ]
    }
   ],
   "source": [
    "print(classification_report(y_test, lsvc.predict(tfidfv_test)))"
   ]
  },
  {
   "cell_type": "markdown",
   "id": "legendary-lyric",
   "metadata": {},
   "source": [
    "## 결정 트리(Decision Tree)"
   ]
  },
  {
   "cell_type": "code",
   "execution_count": 102,
   "id": "reasonable-demonstration",
   "metadata": {
    "ExecuteTime": {
     "end_time": "2021-04-22T09:59:52.656633Z",
     "start_time": "2021-04-22T09:59:51.770265Z"
    }
   },
   "outputs": [
    {
     "data": {
      "text/plain": [
       "DecisionTreeClassifier(max_depth=10, random_state=0)"
      ]
     },
     "execution_count": 102,
     "metadata": {},
     "output_type": "execute_result"
    }
   ],
   "source": [
    "tree = DecisionTreeClassifier(max_depth=10, random_state=0)\n",
    "tree.fit(tfidfv, y_train)"
   ]
  },
  {
   "cell_type": "code",
   "execution_count": 103,
   "id": "constitutional-first",
   "metadata": {
    "ExecuteTime": {
     "end_time": "2021-04-22T09:59:52.663175Z",
     "start_time": "2021-04-22T09:59:52.657735Z"
    }
   },
   "outputs": [
    {
     "name": "stdout",
     "output_type": "stream",
     "text": [
      "정확도: 0.6179875333926982\n"
     ]
    }
   ],
   "source": [
    "predicted = tree.predict(tfidfv_test) #테스트 데이터에 대한 예측\n",
    "print(\"정확도:\", accuracy_score(y_test, predicted)) #예측값과 실제값 비교"
   ]
  },
  {
   "cell_type": "code",
   "execution_count": 104,
   "id": "canadian-withdrawal",
   "metadata": {
    "ExecuteTime": {
     "end_time": "2021-04-22T09:59:52.674251Z",
     "start_time": "2021-04-22T09:59:52.664207Z"
    }
   },
   "outputs": [
    {
     "name": "stdout",
     "output_type": "stream",
     "text": [
      "              precision    recall  f1-score   support\n",
      "\n",
      "           0       0.00      0.00      0.00        12\n",
      "           1       0.73      0.42      0.53       105\n",
      "           2       0.67      0.30      0.41        20\n",
      "           3       0.58      0.90      0.70       813\n",
      "           4       0.69      0.81      0.75       474\n",
      "           5       0.00      0.00      0.00         5\n",
      "           6       1.00      0.64      0.78        14\n",
      "           7       0.00      0.00      0.00         3\n",
      "           8       0.00      0.00      0.00        38\n",
      "           9       0.00      0.00      0.00        25\n",
      "          10       0.93      0.87      0.90        30\n",
      "          11       0.57      0.59      0.58        83\n",
      "          12       0.00      0.00      0.00        13\n",
      "          13       0.00      0.00      0.00        37\n",
      "          14       0.00      0.00      0.00         2\n",
      "          15       0.00      0.00      0.00         9\n",
      "          16       0.57      0.76      0.65        99\n",
      "          17       0.00      0.00      0.00        12\n",
      "          18       0.00      0.00      0.00        20\n",
      "          19       0.67      0.43      0.52       133\n",
      "          20       0.67      0.03      0.05        70\n",
      "          21       0.00      0.00      0.00        27\n",
      "          22       0.00      0.00      0.00         7\n",
      "          23       0.00      0.00      0.00        12\n",
      "          24       0.43      0.16      0.23        19\n",
      "          25       0.50      0.03      0.06        31\n",
      "          26       0.00      0.00      0.00         8\n",
      "          27       0.00      0.00      0.00         4\n",
      "          28       0.50      0.10      0.17        10\n",
      "          29       0.00      0.00      0.00         4\n",
      "          30       0.00      0.00      0.00        12\n",
      "          31       0.00      0.00      0.00        13\n",
      "          32       0.00      0.00      0.00        10\n",
      "          33       0.00      0.00      0.00         5\n",
      "          34       0.00      0.00      0.00         7\n",
      "          35       0.00      0.00      0.00         6\n",
      "          36       0.00      0.00      0.00        11\n",
      "          37       0.00      0.00      0.00         2\n",
      "          38       0.00      0.00      0.00         3\n",
      "          39       0.00      0.00      0.00         5\n",
      "          40       1.00      0.10      0.18        10\n",
      "          41       0.00      0.00      0.00         8\n",
      "          42       0.00      0.00      0.00         3\n",
      "          43       0.00      0.00      0.00         6\n",
      "          44       0.00      0.00      0.00         5\n",
      "          45       0.00      0.00      0.00         1\n",
      "\n",
      "    accuracy                           0.62      2246\n",
      "   macro avg       0.21      0.13      0.14      2246\n",
      "weighted avg       0.54      0.62      0.55      2246\n",
      "\n"
     ]
    },
    {
     "name": "stderr",
     "output_type": "stream",
     "text": [
      "/home/aiffel-dj24/anaconda3/envs/aiffel/lib/python3.7/site-packages/sklearn/metrics/_classification.py:1245: UndefinedMetricWarning: Precision and F-score are ill-defined and being set to 0.0 in labels with no predicted samples. Use `zero_division` parameter to control this behavior.\n",
      "  _warn_prf(average, modifier, msg_start, len(result))\n",
      "/home/aiffel-dj24/anaconda3/envs/aiffel/lib/python3.7/site-packages/sklearn/metrics/_classification.py:1245: UndefinedMetricWarning: Precision and F-score are ill-defined and being set to 0.0 in labels with no predicted samples. Use `zero_division` parameter to control this behavior.\n",
      "  _warn_prf(average, modifier, msg_start, len(result))\n",
      "/home/aiffel-dj24/anaconda3/envs/aiffel/lib/python3.7/site-packages/sklearn/metrics/_classification.py:1245: UndefinedMetricWarning: Precision and F-score are ill-defined and being set to 0.0 in labels with no predicted samples. Use `zero_division` parameter to control this behavior.\n",
      "  _warn_prf(average, modifier, msg_start, len(result))\n"
     ]
    }
   ],
   "source": [
    "print(classification_report(y_test, tree.predict(tfidfv_test)))"
   ]
  },
  {
   "cell_type": "markdown",
   "id": "undefined-theorem",
   "metadata": {},
   "source": [
    "## 랜덤 포레스트(Random Forest)"
   ]
  },
  {
   "cell_type": "code",
   "execution_count": 105,
   "id": "accepting-series",
   "metadata": {
    "ExecuteTime": {
     "end_time": "2021-04-22T09:59:53.428612Z",
     "start_time": "2021-04-22T09:59:52.675425Z"
    }
   },
   "outputs": [
    {
     "data": {
      "text/plain": [
       "RandomForestClassifier(n_estimators=5, random_state=0)"
      ]
     },
     "execution_count": 105,
     "metadata": {},
     "output_type": "execute_result"
    }
   ],
   "source": [
    "forest = RandomForestClassifier(n_estimators=5, random_state=0)\n",
    "forest.fit(tfidfv, y_train)"
   ]
  },
  {
   "cell_type": "code",
   "execution_count": 106,
   "id": "piano-listening",
   "metadata": {
    "ExecuteTime": {
     "end_time": "2021-04-22T09:59:53.438358Z",
     "start_time": "2021-04-22T09:59:53.429772Z"
    }
   },
   "outputs": [
    {
     "name": "stdout",
     "output_type": "stream",
     "text": [
      "정확도: 0.707479964381122\n"
     ]
    }
   ],
   "source": [
    "predicted = forest.predict(tfidfv_test)\n",
    "print(\"정확도:\", accuracy_score(y_test, predicted))"
   ]
  },
  {
   "cell_type": "code",
   "execution_count": 107,
   "id": "defined-abortion",
   "metadata": {
    "ExecuteTime": {
     "end_time": "2021-04-22T09:59:53.460936Z",
     "start_time": "2021-04-22T09:59:53.441447Z"
    }
   },
   "outputs": [
    {
     "name": "stdout",
     "output_type": "stream",
     "text": [
      "              precision    recall  f1-score   support\n",
      "\n",
      "           0       0.35      0.58      0.44        12\n",
      "           1       0.47      0.79      0.59       105\n",
      "           2       0.27      0.20      0.23        20\n",
      "           3       0.85      0.91      0.88       813\n",
      "           4       0.69      0.86      0.76       474\n",
      "           5       0.00      0.00      0.00         5\n",
      "           6       0.73      0.57      0.64        14\n",
      "           7       0.20      0.33      0.25         3\n",
      "           8       0.46      0.50      0.48        38\n",
      "           9       0.82      0.72      0.77        25\n",
      "          10       0.73      0.53      0.62        30\n",
      "          11       0.62      0.63      0.62        83\n",
      "          12       0.40      0.15      0.22        13\n",
      "          13       0.48      0.35      0.41        37\n",
      "          14       0.00      0.00      0.00         2\n",
      "          15       0.50      0.11      0.18         9\n",
      "          16       0.61      0.55      0.57        99\n",
      "          17       1.00      0.08      0.15        12\n",
      "          18       0.71      0.50      0.59        20\n",
      "          19       0.57      0.58      0.58       133\n",
      "          20       0.58      0.30      0.40        70\n",
      "          21       0.74      0.52      0.61        27\n",
      "          22       0.00      0.00      0.00         7\n",
      "          23       0.25      0.08      0.12        12\n",
      "          24       0.20      0.05      0.08        19\n",
      "          25       1.00      0.52      0.68        31\n",
      "          26       0.00      0.00      0.00         8\n",
      "          27       0.00      0.00      0.00         4\n",
      "          28       1.00      0.10      0.18        10\n",
      "          29       0.50      0.50      0.50         4\n",
      "          30       0.60      0.25      0.35        12\n",
      "          31       0.00      0.00      0.00        13\n",
      "          32       0.50      0.10      0.17        10\n",
      "          33       1.00      0.40      0.57         5\n",
      "          34       0.00      0.00      0.00         7\n",
      "          35       0.50      0.17      0.25         6\n",
      "          36       0.62      0.45      0.53        11\n",
      "          37       0.00      0.00      0.00         2\n",
      "          38       0.00      0.00      0.00         3\n",
      "          39       0.00      0.00      0.00         5\n",
      "          40       1.00      0.20      0.33        10\n",
      "          41       0.00      0.00      0.00         8\n",
      "          42       0.00      0.00      0.00         3\n",
      "          43       1.00      0.33      0.50         6\n",
      "          44       1.00      0.80      0.89         5\n",
      "          45       1.00      1.00      1.00         1\n",
      "\n",
      "    accuracy                           0.71      2246\n",
      "   macro avg       0.48      0.32      0.35      2246\n",
      "weighted avg       0.69      0.71      0.68      2246\n",
      "\n"
     ]
    },
    {
     "name": "stderr",
     "output_type": "stream",
     "text": [
      "/home/aiffel-dj24/anaconda3/envs/aiffel/lib/python3.7/site-packages/sklearn/metrics/_classification.py:1245: UndefinedMetricWarning: Precision and F-score are ill-defined and being set to 0.0 in labels with no predicted samples. Use `zero_division` parameter to control this behavior.\n",
      "  _warn_prf(average, modifier, msg_start, len(result))\n",
      "/home/aiffel-dj24/anaconda3/envs/aiffel/lib/python3.7/site-packages/sklearn/metrics/_classification.py:1245: UndefinedMetricWarning: Precision and F-score are ill-defined and being set to 0.0 in labels with no predicted samples. Use `zero_division` parameter to control this behavior.\n",
      "  _warn_prf(average, modifier, msg_start, len(result))\n",
      "/home/aiffel-dj24/anaconda3/envs/aiffel/lib/python3.7/site-packages/sklearn/metrics/_classification.py:1245: UndefinedMetricWarning: Precision and F-score are ill-defined and being set to 0.0 in labels with no predicted samples. Use `zero_division` parameter to control this behavior.\n",
      "  _warn_prf(average, modifier, msg_start, len(result))\n"
     ]
    }
   ],
   "source": [
    "print(classification_report(y_test, forest.predict(tfidfv_test)))"
   ]
  },
  {
   "cell_type": "markdown",
   "id": "reserved-working",
   "metadata": {},
   "source": [
    "## 그래디언트 부스팅 트리(GradientBoostingClassifier)"
   ]
  },
  {
   "cell_type": "code",
   "execution_count": 108,
   "id": "tender-decimal",
   "metadata": {
    "ExecuteTime": {
     "end_time": "2021-04-22T10:09:52.730000Z",
     "start_time": "2021-04-22T09:59:53.463401Z"
    }
   },
   "outputs": [
    {
     "data": {
      "text/plain": [
       "GradientBoostingClassifier(random_state=0)"
      ]
     },
     "execution_count": 108,
     "metadata": {},
     "output_type": "execute_result"
    }
   ],
   "source": [
    "grbt = GradientBoostingClassifier(random_state=0) # verbose=3\n",
    "grbt.fit(tfidfv, y_train)"
   ]
  },
  {
   "cell_type": "code",
   "execution_count": 109,
   "id": "vulnerable-calendar",
   "metadata": {
    "ExecuteTime": {
     "end_time": "2021-04-22T10:09:52.890808Z",
     "start_time": "2021-04-22T10:09:52.731080Z"
    }
   },
   "outputs": [
    {
     "name": "stdout",
     "output_type": "stream",
     "text": [
      "정확도: 0.7457702582368655\n"
     ]
    }
   ],
   "source": [
    "predicted = grbt.predict(tfidfv_test) #테스트 데이터에 대한 예측\n",
    "print(\"정확도:\", accuracy_score(y_test, predicted)) #예측값과 실제값 비교"
   ]
  },
  {
   "cell_type": "code",
   "execution_count": 110,
   "id": "brazilian-computer",
   "metadata": {
    "ExecuteTime": {
     "end_time": "2021-04-22T10:09:53.060056Z",
     "start_time": "2021-04-22T10:09:52.892148Z"
    }
   },
   "outputs": [
    {
     "name": "stdout",
     "output_type": "stream",
     "text": [
      "              precision    recall  f1-score   support\n",
      "\n",
      "           0       0.88      0.58      0.70        12\n",
      "           1       0.75      0.66      0.70       105\n",
      "           2       0.73      0.55      0.63        20\n",
      "           3       0.89      0.91      0.90       813\n",
      "           4       0.73      0.85      0.78       474\n",
      "           5       0.20      0.20      0.20         5\n",
      "           6       0.93      0.93      0.93        14\n",
      "           7       0.25      0.33      0.29         3\n",
      "           8       0.51      0.58      0.54        38\n",
      "           9       0.79      0.76      0.78        25\n",
      "          10       0.87      0.87      0.87        30\n",
      "          11       0.65      0.67      0.66        83\n",
      "          12       0.36      0.38      0.37        13\n",
      "          13       0.51      0.51      0.51        37\n",
      "          14       0.17      0.50      0.25         2\n",
      "          15       0.40      0.22      0.29         9\n",
      "          16       0.65      0.72      0.68        99\n",
      "          17       0.50      0.58      0.54        12\n",
      "          18       0.56      0.45      0.50        20\n",
      "          19       0.71      0.68      0.70       133\n",
      "          20       0.65      0.44      0.53        70\n",
      "          21       0.61      0.63      0.62        27\n",
      "          22       0.00      0.00      0.00         7\n",
      "          23       0.00      0.00      0.00        12\n",
      "          24       0.46      0.32      0.37        19\n",
      "          25       0.90      0.58      0.71        31\n",
      "          26       0.67      0.25      0.36         8\n",
      "          27       0.25      0.25      0.25         4\n",
      "          28       0.12      0.10      0.11        10\n",
      "          29       0.14      0.25      0.18         4\n",
      "          30       0.23      0.25      0.24        12\n",
      "          31       0.33      0.31      0.32        13\n",
      "          32       0.83      0.50      0.62        10\n",
      "          33       0.40      0.40      0.40         5\n",
      "          34       1.00      0.29      0.44         7\n",
      "          35       0.50      0.17      0.25         6\n",
      "          36       0.31      0.36      0.33        11\n",
      "          37       0.00      0.00      0.00         2\n",
      "          38       0.00      0.00      0.00         3\n",
      "          39       0.00      0.00      0.00         5\n",
      "          40       0.67      0.20      0.31        10\n",
      "          41       0.00      0.00      0.00         8\n",
      "          42       0.00      0.00      0.00         3\n",
      "          43       0.43      0.50      0.46         6\n",
      "          44       1.00      0.80      0.89         5\n",
      "          45       0.00      0.00      0.00         1\n",
      "\n",
      "    accuracy                           0.75      2246\n",
      "   macro avg       0.47      0.40      0.42      2246\n",
      "weighted avg       0.74      0.75      0.74      2246\n",
      "\n"
     ]
    },
    {
     "name": "stderr",
     "output_type": "stream",
     "text": [
      "/home/aiffel-dj24/anaconda3/envs/aiffel/lib/python3.7/site-packages/sklearn/metrics/_classification.py:1245: UndefinedMetricWarning: Precision and F-score are ill-defined and being set to 0.0 in labels with no predicted samples. Use `zero_division` parameter to control this behavior.\n",
      "  _warn_prf(average, modifier, msg_start, len(result))\n",
      "/home/aiffel-dj24/anaconda3/envs/aiffel/lib/python3.7/site-packages/sklearn/metrics/_classification.py:1245: UndefinedMetricWarning: Precision and F-score are ill-defined and being set to 0.0 in labels with no predicted samples. Use `zero_division` parameter to control this behavior.\n",
      "  _warn_prf(average, modifier, msg_start, len(result))\n",
      "/home/aiffel-dj24/anaconda3/envs/aiffel/lib/python3.7/site-packages/sklearn/metrics/_classification.py:1245: UndefinedMetricWarning: Precision and F-score are ill-defined and being set to 0.0 in labels with no predicted samples. Use `zero_division` parameter to control this behavior.\n",
      "  _warn_prf(average, modifier, msg_start, len(result))\n"
     ]
    }
   ],
   "source": [
    "print(classification_report(y_test, grbt.predict(tfidfv_test)))"
   ]
  },
  {
   "cell_type": "markdown",
   "id": "interracial-munich",
   "metadata": {},
   "source": [
    "## 보팅(Voting)"
   ]
  },
  {
   "cell_type": "code",
   "execution_count": 111,
   "id": "wired-contributor",
   "metadata": {
    "ExecuteTime": {
     "end_time": "2021-04-22T10:19:49.213052Z",
     "start_time": "2021-04-22T10:09:53.061165Z"
    }
   },
   "outputs": [
    {
     "data": {
      "text/plain": [
       "VotingClassifier(estimators=[('lr', LogisticRegression(C=10000)),\n",
       "                             ('cb', ComplementNB()),\n",
       "                             ('grbt',\n",
       "                              GradientBoostingClassifier(random_state=0))],\n",
       "                 n_jobs=-1, voting='soft')"
      ]
     },
     "execution_count": 111,
     "metadata": {},
     "output_type": "execute_result"
    }
   ],
   "source": [
    "voting_classifier = VotingClassifier(estimators=[\n",
    "         ('lr', LogisticRegression(C=10000, penalty='l2')),\n",
    "         ('cb', ComplementNB()),\n",
    "         ('grbt', GradientBoostingClassifier(random_state=0))\n",
    "], voting='soft', n_jobs=-1)\n",
    "voting_classifier.fit(tfidfv, y_train)"
   ]
  },
  {
   "cell_type": "code",
   "execution_count": 112,
   "id": "fuzzy-desert",
   "metadata": {
    "ExecuteTime": {
     "end_time": "2021-04-22T10:19:49.450061Z",
     "start_time": "2021-04-22T10:19:49.214302Z"
    }
   },
   "outputs": [
    {
     "name": "stdout",
     "output_type": "stream",
     "text": [
      "정확도: 0.7845057880676759\n"
     ]
    }
   ],
   "source": [
    "predicted = voting_classifier.predict(tfidfv_test) #테스트 데이터에 대한 예측\n",
    "print(\"정확도:\", accuracy_score(y_test, predicted)) #예측값과 실제값 비교"
   ]
  },
  {
   "cell_type": "code",
   "execution_count": 113,
   "id": "embedded-metadata",
   "metadata": {
    "ExecuteTime": {
     "end_time": "2021-04-22T10:19:49.685637Z",
     "start_time": "2021-04-22T10:19:49.451336Z"
    }
   },
   "outputs": [
    {
     "name": "stdout",
     "output_type": "stream",
     "text": [
      "              precision    recall  f1-score   support\n",
      "\n",
      "           0       0.88      0.58      0.70        12\n",
      "           1       0.77      0.76      0.77       105\n",
      "           2       0.76      0.65      0.70        20\n",
      "           3       0.91      0.94      0.93       813\n",
      "           4       0.78      0.86      0.82       474\n",
      "           5       0.33      0.20      0.25         5\n",
      "           6       0.93      1.00      0.97        14\n",
      "           7       0.33      0.33      0.33         3\n",
      "           8       0.62      0.63      0.62        38\n",
      "           9       0.80      0.80      0.80        25\n",
      "          10       0.86      0.83      0.85        30\n",
      "          11       0.63      0.66      0.65        83\n",
      "          12       0.43      0.46      0.44        13\n",
      "          13       0.55      0.59      0.57        37\n",
      "          14       0.20      0.50      0.29         2\n",
      "          15       0.50      0.33      0.40         9\n",
      "          16       0.69      0.74      0.71        99\n",
      "          17       0.64      0.58      0.61        12\n",
      "          18       0.65      0.55      0.59        20\n",
      "          19       0.72      0.65      0.69       133\n",
      "          20       0.59      0.49      0.53        70\n",
      "          21       0.66      0.78      0.71        27\n",
      "          22       0.00      0.00      0.00         7\n",
      "          23       0.09      0.08      0.09        12\n",
      "          24       0.69      0.47      0.56        19\n",
      "          25       0.89      0.77      0.83        31\n",
      "          26       0.75      0.38      0.50         8\n",
      "          27       0.50      0.25      0.33         4\n",
      "          28       0.14      0.10      0.12        10\n",
      "          29       0.40      1.00      0.57         4\n",
      "          30       0.50      0.33      0.40        12\n",
      "          31       0.64      0.54      0.58        13\n",
      "          32       1.00      0.50      0.67        10\n",
      "          33       0.60      0.60      0.60         5\n",
      "          34       0.75      0.43      0.55         7\n",
      "          35       1.00      0.33      0.50         6\n",
      "          36       0.43      0.55      0.48        11\n",
      "          37       0.00      0.00      0.00         2\n",
      "          38       0.00      0.00      0.00         3\n",
      "          39       0.40      0.40      0.40         5\n",
      "          40       0.67      0.20      0.31        10\n",
      "          41       0.25      0.12      0.17         8\n",
      "          42       0.00      0.00      0.00         3\n",
      "          43       0.43      0.50      0.46         6\n",
      "          44       1.00      0.80      0.89         5\n",
      "          45       0.00      0.00      0.00         1\n",
      "\n",
      "    accuracy                           0.78      2246\n",
      "   macro avg       0.55      0.48      0.50      2246\n",
      "weighted avg       0.78      0.78      0.78      2246\n",
      "\n"
     ]
    },
    {
     "name": "stderr",
     "output_type": "stream",
     "text": [
      "/home/aiffel-dj24/anaconda3/envs/aiffel/lib/python3.7/site-packages/sklearn/metrics/_classification.py:1245: UndefinedMetricWarning: Precision and F-score are ill-defined and being set to 0.0 in labels with no predicted samples. Use `zero_division` parameter to control this behavior.\n",
      "  _warn_prf(average, modifier, msg_start, len(result))\n",
      "/home/aiffel-dj24/anaconda3/envs/aiffel/lib/python3.7/site-packages/sklearn/metrics/_classification.py:1245: UndefinedMetricWarning: Precision and F-score are ill-defined and being set to 0.0 in labels with no predicted samples. Use `zero_division` parameter to control this behavior.\n",
      "  _warn_prf(average, modifier, msg_start, len(result))\n",
      "/home/aiffel-dj24/anaconda3/envs/aiffel/lib/python3.7/site-packages/sklearn/metrics/_classification.py:1245: UndefinedMetricWarning: Precision and F-score are ill-defined and being set to 0.0 in labels with no predicted samples. Use `zero_division` parameter to control this behavior.\n",
      "  _warn_prf(average, modifier, msg_start, len(result))\n"
     ]
    }
   ],
   "source": [
    "print(classification_report(y_test, voting_classifier.predict(tfidfv_test)))"
   ]
  },
  {
   "cell_type": "markdown",
   "id": "trained-rubber",
   "metadata": {},
   "source": [
    "## 정리"
   ]
  },
  {
   "cell_type": "markdown",
   "id": "stable-guarantee",
   "metadata": {},
   "source": [
    "##### 빈도수 상위  1,000 단어 사용시 accuracy / f1-score\n",
    "\n",
    ">- 나이브 베이즈 : 0.69 / 0.64\n",
    ">- CNB : 0.73 / 0.70\n",
    ">- 로지스틱 회귀 : 0.78 / 0.77\n",
    ">- 서포트 벡터 머신 : 0.72 / 0.72\n",
    ">- 결정 트리 : 0.62 / 0.55\n",
    ">- 랜덤 포레스트 : 0.71 / 0.68\n",
    ">- 그래디언트 부스팅 트리 : 0.75 / 0.74\n",
    ">- 보팅 : 0.78 / 0.78\n",
    "\n",
    "- __accuracy는 보팅이 82%로 가장 높고, 결정트리가 62%로 가장 낮았으며,  \n",
    "f1-score는 보팅이 81%로 가장 높고, 결정트리가 57%로 가장 낮았다.__"
   ]
  },
  {
   "cell_type": "markdown",
   "id": "afraid-server",
   "metadata": {},
   "source": [
    "---"
   ]
  },
  {
   "cell_type": "markdown",
   "id": "radio-encoding",
   "metadata": {},
   "source": [
    "# 정리 모음"
   ]
  },
  {
   "cell_type": "markdown",
   "id": "surprising-solid",
   "metadata": {},
   "source": [
    "##### Vocabulary Size 따른 머신 러닝 모델별 accuracy / f1-score"
   ]
  },
  {
   "cell_type": "markdown",
   "id": "sticky-observation",
   "metadata": {},
   "source": [
    "- __머신 러닝 모델별 accuracy__(모든 단어 / 5,000개 / 1,000개)\n",
    "    - 나이브 베이즈 :          0.60 / 0.67 / __0.69__\n",
    "    - CNB :                 0.76 / __0.77__ / 0.73\n",
    "    - 로지스틱 회귀 :          __0.81__ / 0.81 / 0.78\n",
    "    - 서포트 벡터 머신 :        __0.79__ / 0.77 / 0.72\n",
    "    - 결정 트리 :             __0.62__ / 0.62 / 0.62\n",
    "    - 랜덤 포레스트 :          0.65 / __0.70__ / 0.71\n",
    "    - 그래디언트 부스팅 트리 :   __0.77__ / 0.77 / 0.75\n",
    "    - 보팅 :                 __0.82__ / 0.82 / 0.78\n",
    "\n",
    "\n",
    "- __머신 러닝 모델별 f1-score__(모든 단어 / 5,000개 / 1,000개)\n",
    "    - 나이브 베이즈 :          0.60 / 0.50 / __0.64__\n",
    "    - CNB :                 __0.75__ / 0.73 / 0.70\n",
    "    - 로지스틱 회귀 :          0.80 / __0.81__ / 0.77\n",
    "    - 서포트 벡터 머신 :        0.76 / __0.78__ / 0.72\n",
    "    - 결정 트리 :             0.57 / __0.58__ / 0.55\n",
    "    - 랜덤 포레스트 :          __0.68__ / 0.62 / __0.68__\n",
    "    - 그래디언트 부스팅 트리 :   __0.77__ / 0.76 / 0.74\n",
    "    - 보팅 :                 __0.81__ / __0.81__ / 0.78"
   ]
  },
  {
   "cell_type": "markdown",
   "id": "understanding-guidance",
   "metadata": {},
   "source": [
    ">- __accuracy는 모든 단어를 사용했을 때 머신 러닝 모델들이 대체적으로 높을 결과가 도출됐다.__\n",
    ">- __f1-score는 모든 단어를 사용했을 때 CNB, 랜덤포레스트, 그래디언부스팅트리, 보팅이 높른 결과가 도출됐고, 빈도수 상위 5,000단어를 사용했을 때 로지스틱회귀, 서프트벡터머신, 결정트리, 보팅이 높은 결과가 도출됐다.__\n",
    ">- __보팅이 대체적으로 성능이 좋았지만 그래디언트부스팅트리와 함께 학습에 소요되는 시간이 매우 길었다.__\n",
    ">- __로지스틱회귀의 경우 시간 소모가 적고, 성능 또한 보팅과 크게 차이나지 않았다.__"
   ]
  },
  {
   "cell_type": "markdown",
   "id": "formed-siemens",
   "metadata": {},
   "source": [
    "---"
   ]
  },
  {
   "cell_type": "markdown",
   "id": "final-cycling",
   "metadata": {},
   "source": [
    "# 딥러닝 모델과 비교해 보기"
   ]
  },
  {
   "cell_type": "markdown",
   "id": "bulgarian-richmond",
   "metadata": {},
   "source": [
    "위 과정을 통해 나온 최적의 모델과 단어 수 조건에서, 본인이 선택한 다른 모델을 적용한 결과와 비교해 봅시다. 감정분석 등에 사용했던 RNN이나 1-D CNN 등의 딥러닝 모델 중 하나를 선택해서 오늘 사용했던 데이터셋을 학습해 보고 나오는 결과를 비교해 봅시다. 단, 공정한 비교를 위해 이때 Word2Vec 등의 pretrained model은 사용하지 않도록 합니다."
   ]
  },
  {
   "cell_type": "markdown",
   "id": "polar-authority",
   "metadata": {},
   "source": [
    "## 데이터 로드"
   ]
  },
  {
   "cell_type": "code",
   "execution_count": 48,
   "id": "moved-treatment",
   "metadata": {
    "ExecuteTime": {
     "end_time": "2021-04-23T01:18:38.828707Z",
     "start_time": "2021-04-23T01:18:38.825462Z"
    }
   },
   "outputs": [],
   "source": [
    "import tensorflow as tf\n",
    "from tensorflow import keras\n",
    "from tensorflow.keras.preprocessing.sequence import pad_sequences\n",
    "from tensorflow.keras.utils import to_categorical\n",
    "from tensorflow.keras.callbacks import EarlyStopping\n",
    "import numpy as np"
   ]
  },
  {
   "cell_type": "code",
   "execution_count": 49,
   "id": "finite-constraint",
   "metadata": {
    "ExecuteTime": {
     "end_time": "2021-04-23T01:18:39.858734Z",
     "start_time": "2021-04-23T01:18:39.430370Z"
    },
    "scrolled": true
   },
   "outputs": [
    {
     "name": "stderr",
     "output_type": "stream",
     "text": [
      "/home/aiffel-dj24/anaconda3/envs/aiffel/lib/python3.7/site-packages/tensorflow/python/keras/datasets/reuters.py:148: VisibleDeprecationWarning: Creating an ndarray from ragged nested sequences (which is a list-or-tuple of lists-or-tuples-or ndarrays with different lengths or shapes) is deprecated. If you meant to do this, you must specify 'dtype=object' when creating the ndarray\n",
      "  x_train, y_train = np.array(xs[:idx]), np.array(labels[:idx])\n",
      "/home/aiffel-dj24/anaconda3/envs/aiffel/lib/python3.7/site-packages/tensorflow/python/keras/datasets/reuters.py:149: VisibleDeprecationWarning: Creating an ndarray from ragged nested sequences (which is a list-or-tuple of lists-or-tuples-or ndarrays with different lengths or shapes) is deprecated. If you meant to do this, you must specify 'dtype=object' when creating the ndarray\n",
      "  x_test, y_test = np.array(xs[idx:]), np.array(labels[idx:])\n"
     ]
    }
   ],
   "source": [
    "(x_train, y_train), (x_test, y_test) = reuters.load_data(num_words=10000, test_split=0.2)"
   ]
  },
  {
   "cell_type": "markdown",
   "id": "verified-bacon",
   "metadata": {},
   "source": [
    "## 데이터 확인"
   ]
  },
  {
   "cell_type": "code",
   "execution_count": 50,
   "id": "injured-budapest",
   "metadata": {
    "ExecuteTime": {
     "end_time": "2021-04-23T01:18:41.973671Z",
     "start_time": "2021-04-23T01:18:41.753877Z"
    }
   },
   "outputs": [
    {
     "name": "stdout",
     "output_type": "stream",
     "text": [
      "훈련용 뉴스의 최대 길이: 2376\n",
      "훈련용 뉴스의 평균 길이: 145.5398574927633\n"
     ]
    },
    {
     "data": {
      "image/png": "[encoded data removed]",
      "text/plain": [
       "<Figure size 432x288 with 1 Axes>"
      ]
     },
     "metadata": {
      "needs_background": "light"
     },
     "output_type": "display_data"
    }
   ],
   "source": [
    "print(\"훈련용 뉴스의 최대 길이: {}\".format(max(len(l) for l in x_train)))\n",
    "print(\"훈련용 뉴스의 평균 길이: {}\".format(sum(map(len, x_train))/len(x_train)))\n",
    "      \n",
    "plt.hist([len(s) for s in x_train], bins=50)\n",
    "plt.xlabel(\"length of samples\")\n",
    "plt.ylabel(\"number of samples\")\n",
    "plt.show()"
   ]
  },
  {
   "cell_type": "code",
   "execution_count": 51,
   "id": "champion-webcam",
   "metadata": {
    "ExecuteTime": {
     "end_time": "2021-04-23T01:19:10.239133Z",
     "start_time": "2021-04-23T01:19:09.914885Z"
    }
   },
   "outputs": [
    {
     "name": "stdout",
     "output_type": "stream",
     "text": [
      "테스트용 뉴스의 최대 길이: 1032\n",
      "테스트용 뉴스의 평균 길이: 147.66117542297417\n"
     ]
    },
    {
     "data": {
      "image/png": "[encoded data removed]",
      "text/plain": [
       "<Figure size 432x288 with 1 Axes>"
      ]
     },
     "metadata": {
      "needs_background": "light"
     },
     "output_type": "display_data"
    }
   ],
   "source": [
    "print(\"테스트용 뉴스의 최대 길이: {}\".format(max(len(l) for l in x_test)))\n",
    "print(\"테스트용 뉴스의 평균 길이: {}\".format(sum(map(len, x_test))/len(x_test)))\n",
    "      \n",
    "plt.hist([len(s) for s in x_test], bins=50)\n",
    "plt.xlabel(\"length of samples\")\n",
    "plt.ylabel(\"number of samples\")\n",
    "plt.show()"
   ]
  },
  {
   "cell_type": "markdown",
   "id": "charged-interpretation",
   "metadata": {},
   "source": [
    "- __훈련용과 테스트용 데이터릐 길이가 다르므로 동일하게 처리__"
   ]
  },
  {
   "cell_type": "markdown",
   "id": "romantic-tractor",
   "metadata": {},
   "source": [
    "## 데이터 처리"
   ]
  },
  {
   "cell_type": "code",
   "execution_count": 53,
   "id": "dirty-evaluation",
   "metadata": {
    "ExecuteTime": {
     "end_time": "2021-04-23T01:22:29.297265Z",
     "start_time": "2021-04-23T01:22:29.258818Z"
    }
   },
   "outputs": [],
   "source": [
    "# padding\n",
    "maxlen = 100\n",
    "x_train = keras.preprocessing.sequence.pad_sequences(x_train, \n",
    "                                                     padding='pre', \n",
    "                                                     maxlen=maxlen)\n",
    "x_test = keras.preprocessing.sequence.pad_sequences(x_test, \n",
    "                                                    padding='pre', \n",
    "                                                    maxlen=maxlen)"
   ]
  },
  {
   "cell_type": "code",
   "execution_count": 56,
   "id": "spiritual-corps",
   "metadata": {
    "ExecuteTime": {
     "end_time": "2021-04-23T01:24:30.428110Z",
     "start_time": "2021-04-23T01:24:30.422318Z"
    }
   },
   "outputs": [
    {
     "name": "stdout",
     "output_type": "stream",
     "text": [
      "[   0    0    0    0    0    0    0    0    0    0    0    0    0    0\n",
      "    0    0    0    0    0    0    0    0    0    0    0    0    0    0\n",
      "    0    0    0    0    0    0    0    0    0    0    0    0    0    0\n",
      "    0    0    0    0    0    0    0    0    0    0    0    0    0    0\n",
      "    0    0    0    0    0    0    0    0    0    0    0    0    0    1\n",
      "  245  273  207  156   53   74  160   26   14   46  296   26   39   74\n",
      " 2979 3554   14   46 4689 4329   86   61 3499 4795   14   61  451 4329\n",
      "   17   12]\n",
      "[   0    0    0    0    0    0    0    0    0    0    0    0    0    0\n",
      "    0    0    0    0    0    0    0    1  361  372    8   77   62  325\n",
      " 4105  336    5 1605   37  412  453 1187  229  334   13    4  867   76\n",
      "    4   76 1726    6  264 2337   18   82   95   97 2220    4 1004  649\n",
      "   18   82  554  136    4  143  334  290  126    5    4 2820  777    2\n",
      " 1386   13  954    7    4  314  912  224    4 2370 1128   54  429    2\n",
      "   18   82    5  496 1187  229   57   85  385  593    6    4  867   76\n",
      "   17   12]\n"
     ]
    }
   ],
   "source": [
    "print(x_train[10])\n",
    "print(x_test[10])"
   ]
  },
  {
   "cell_type": "code",
   "execution_count": 57,
   "id": "dynamic-criticism",
   "metadata": {
    "ExecuteTime": {
     "end_time": "2021-04-23T01:25:30.806630Z",
     "start_time": "2021-04-23T01:25:30.804259Z"
    }
   },
   "outputs": [],
   "source": [
    "# 레이블 데이터 원-핫 인코딩\n",
    "y_train = to_categorical(y_train)\n",
    "y_test = to_categorical(y_test)"
   ]
  },
  {
   "cell_type": "code",
   "execution_count": 58,
   "id": "impressed-refund",
   "metadata": {
    "ExecuteTime": {
     "end_time": "2021-04-23T01:25:53.549836Z",
     "start_time": "2021-04-23T01:25:53.546521Z"
    }
   },
   "outputs": [
    {
     "name": "stdout",
     "output_type": "stream",
     "text": [
      "[0. 0. 0. 1. 0. 0. 0. 0. 0. 0. 0. 0. 0. 0. 0. 0. 0. 0. 0. 0. 0. 0. 0. 0.\n",
      " 0. 0. 0. 0. 0. 0. 0. 0. 0. 0. 0. 0. 0. 0. 0. 0. 0. 0. 0. 0. 0. 0.]\n",
      "[0. 0. 0. 0. 0. 1. 0. 0. 0. 0. 0. 0. 0. 0. 0. 0. 0. 0. 0. 0. 0. 0. 0. 0.\n",
      " 0. 0. 0. 0. 0. 0. 0. 0. 0. 0. 0. 0. 0. 0. 0. 0. 0. 0. 0. 0. 0. 0.]\n"
     ]
    }
   ],
   "source": [
    "print(y_train[10])\n",
    "print(y_test[10])"
   ]
  },
  {
   "cell_type": "code",
   "execution_count": 59,
   "id": "handed-pasta",
   "metadata": {
    "ExecuteTime": {
     "end_time": "2021-04-23T01:26:19.613805Z",
     "start_time": "2021-04-23T01:26:19.608981Z"
    }
   },
   "outputs": [
    {
     "name": "stdout",
     "output_type": "stream",
     "text": [
      "(8982, 46) (2246, 46)\n"
     ]
    }
   ],
   "source": [
    "print(y_train.shape, y_test.shape)"
   ]
  },
  {
   "cell_type": "markdown",
   "id": "educated-saturday",
   "metadata": {},
   "source": [
    "## 모델 구성 : LSTM"
   ]
  },
  {
   "cell_type": "code",
   "execution_count": 60,
   "id": "quick-reynolds",
   "metadata": {
    "ExecuteTime": {
     "end_time": "2021-04-23T01:28:47.009856Z",
     "start_time": "2021-04-23T01:28:46.794046Z"
    }
   },
   "outputs": [
    {
     "name": "stdout",
     "output_type": "stream",
     "text": [
      "Model: \"sequential_4\"\n",
      "_________________________________________________________________\n",
      "Layer (type)                 Output Shape              Param #   \n",
      "=================================================================\n",
      "embedding_4 (Embedding)      (None, None, 100)         1000000   \n",
      "_________________________________________________________________\n",
      "lstm_4 (LSTM)                (None, 128)               117248    \n",
      "_________________________________________________________________\n",
      "dense_8 (Dense)              (None, 64)                8256      \n",
      "_________________________________________________________________\n",
      "dense_9 (Dense)              (None, 46)                2990      \n",
      "=================================================================\n",
      "Total params: 1,128,494\n",
      "Trainable params: 1,128,494\n",
      "Non-trainable params: 0\n",
      "_________________________________________________________________\n"
     ]
    }
   ],
   "source": [
    "vocab_size = 10000    # 어휘 사전의 크기(10,000개의 단어)\n",
    "word_vector_dim = 100  # 워드 벡터의 차원수 (변경가능한 하이퍼파라미터)\n",
    "\n",
    "# RNNmodel 설계 \n",
    "model = keras.Sequential()\n",
    "model.add(keras.layers.Embedding(vocab_size, word_vector_dim, input_shape=(None,)))\n",
    "model.add(keras.layers.LSTM(128))\n",
    "model.add(keras.layers.Dense(64, activation='relu'))\n",
    "model.add(keras.layers.Dense(46, activation='softmax'))\n",
    "\n",
    "model.summary()"
   ]
  },
  {
   "cell_type": "markdown",
   "id": "medium-police",
   "metadata": {},
   "source": [
    "## 평가 지표 함수 생성"
   ]
  },
  {
   "cell_type": "code",
   "execution_count": 61,
   "id": "abroad-stick",
   "metadata": {
    "ExecuteTime": {
     "end_time": "2021-04-23T01:31:18.377679Z",
     "start_time": "2021-04-23T01:31:18.370499Z"
    }
   },
   "outputs": [],
   "source": [
    "from tensorflow.keras import backend as K\n",
    "\n",
    "def recall(y_target, y_pred):\n",
    "    y_target_yn = K.round(K.clip(y_target, 0, 1)) \n",
    "    y_pred_yn = K.round(K.clip(y_pred, 0, 1)) \n",
    "    count_true_positive = K.sum(y_target_yn * y_pred_yn) \n",
    "    count_true_positive_false_negative = K.sum(y_target_yn)\n",
    "    recall = count_true_positive / (count_true_positive_false_negative + K.epsilon())\n",
    "    return recall\n",
    "\n",
    "def precision(y_target, y_pred):\n",
    "    y_pred_yn = K.round(K.clip(y_pred, 0, 1))\n",
    "    y_target_yn = K.round(K.clip(y_target, 0, 1)) \n",
    "    count_true_positive = K.sum(y_target_yn * y_pred_yn) \n",
    "    count_true_positive_false_positive = K.sum(y_pred_yn)\n",
    "    precision = count_true_positive / (count_true_positive_false_positive + K.epsilon())\n",
    "    return precision\n",
    "\n",
    "def f1score(y_target, y_pred):\n",
    "    _recall = recall(y_target, y_pred)\n",
    "    _precision = precision(y_target, y_pred)\n",
    "    _f1score = ( 2 * _recall * _precision) / (_recall + _precision+ K.epsilon())\n",
    "    return _f1score"
   ]
  },
  {
   "cell_type": "markdown",
   "id": "unauthorized-engineering",
   "metadata": {},
   "source": [
    "## 모델 학습"
   ]
  },
  {
   "cell_type": "code",
   "execution_count": 62,
   "id": "competent-repository",
   "metadata": {
    "ExecuteTime": {
     "end_time": "2021-04-23T01:33:53.543924Z",
     "start_time": "2021-04-23T01:33:53.541916Z"
    }
   },
   "outputs": [],
   "source": [
    "# EarlyStop\n",
    "es = EarlyStopping(monitor='val_loss', \n",
    "                   mode='min', \n",
    "                   verbose=1, \n",
    "                   patience=4)"
   ]
  },
  {
   "cell_type": "code",
   "execution_count": 63,
   "id": "supposed-australia",
   "metadata": {
    "ExecuteTime": {
     "end_time": "2021-04-23T01:34:24.696241Z",
     "start_time": "2021-04-23T01:34:24.673053Z"
    }
   },
   "outputs": [],
   "source": [
    "model.compile(loss='categorical_crossentropy', \n",
    "              optimizer='adam', \n",
    "              metrics=['accuracy', precision, recall, f1score])"
   ]
  },
  {
   "cell_type": "code",
   "execution_count": 73,
   "id": "norwegian-completion",
   "metadata": {
    "ExecuteTime": {
     "end_time": "2021-04-23T01:56:42.181524Z",
     "start_time": "2021-04-23T01:56:36.672341Z"
    },
    "scrolled": true
   },
   "outputs": [
    {
     "name": "stdout",
     "output_type": "stream",
     "text": [
      "Epoch 1/20\n",
      "57/57 [==============================] - 1s 20ms/step - loss: 0.0789 - accuracy: 0.9628 - precision: 0.9688 - recall: 0.9592 - f1score: 0.9639 - val_loss: 3.3034 - val_accuracy: 0.6366 - val_precision: 0.6819 - val_recall: 0.6372 - val_f1score: 0.6586\n",
      "Epoch 2/20\n",
      "57/57 [==============================] - 1s 19ms/step - loss: 0.0725 - accuracy: 0.9666 - precision: 0.9732 - recall: 0.9631 - f1score: 0.9681 - val_loss: 3.3566 - val_accuracy: 0.6149 - val_precision: 0.6766 - val_recall: 0.6226 - val_f1score: 0.6481\n",
      "Epoch 3/20\n",
      "57/57 [==============================] - 1s 19ms/step - loss: 0.0760 - accuracy: 0.9638 - precision: 0.9699 - recall: 0.9595 - f1score: 0.9646 - val_loss: 3.3771 - val_accuracy: 0.6394 - val_precision: 0.6801 - val_recall: 0.6419 - val_f1score: 0.6603\n",
      "Epoch 4/20\n",
      "57/57 [==============================] - 1s 19ms/step - loss: 0.0737 - accuracy: 0.9646 - precision: 0.9706 - recall: 0.9605 - f1score: 0.9655 - val_loss: 3.4088 - val_accuracy: 0.6327 - val_precision: 0.6683 - val_recall: 0.6239 - val_f1score: 0.6449\n",
      "Epoch 5/20\n",
      "57/57 [==============================] - 1s 20ms/step - loss: 0.0707 - accuracy: 0.9640 - precision: 0.9691 - recall: 0.9600 - f1score: 0.9645 - val_loss: 3.3321 - val_accuracy: 0.6427 - val_precision: 0.6723 - val_recall: 0.6322 - val_f1score: 0.6515\n",
      "Epoch 00005: early stopping\n"
     ]
    }
   ],
   "source": [
    "\n",
    "history = model.fit(x_train, y_train, \n",
    "                    batch_size=128, \n",
    "                    epochs=20, \n",
    "                    callbacks=[es], \n",
    "                    validation_split=0.2)"
   ]
  },
  {
   "cell_type": "markdown",
   "id": "varied-gardening",
   "metadata": {},
   "source": [
    "## 모델 평가"
   ]
  },
  {
   "cell_type": "code",
   "execution_count": 74,
   "id": "according-merchant",
   "metadata": {
    "ExecuteTime": {
     "end_time": "2021-04-23T01:56:45.156452Z",
     "start_time": "2021-04-23T01:56:44.860699Z"
    }
   },
   "outputs": [
    {
     "name": "stdout",
     "output_type": "stream",
     "text": [
      "71/71 [==============================] - 0s 4ms/step - loss: 3.5545 - accuracy: 0.6336 - precision: 0.6622 - recall: 0.6246 - f1score: 0.6426\n"
     ]
    }
   ],
   "source": [
    "_loss, _precision, _accuracy, _recall, _f1score = model.evaluate(x_test, y_test)"
   ]
  },
  {
   "cell_type": "markdown",
   "id": "expired-senegal",
   "metadata": {},
   "source": [
    "---"
   ]
  },
  {
   "cell_type": "markdown",
   "id": "powerful-configuration",
   "metadata": {},
   "source": [
    "## 최종 정리"
   ]
  },
  {
   "cell_type": "markdown",
   "id": "apparent-filter",
   "metadata": {},
   "source": [
    "- __머신 러닝 모델별 accuracy__(모든 단어 / 5,000개 / 1,000개)\n",
    "    - 나이브 베이즈 :          0.60 / 0.67 / __0.69__\n",
    "    - CNB :                 0.76 / __0.77__ / 0.73\n",
    "    - 로지스틱 회귀 :          __0.81__ / 0.81 / 0.78\n",
    "    - 서포트 벡터 머신 :        __0.79__ / 0.77 / 0.72\n",
    "    - 결정 트리 :             __0.62__ / 0.62 / 0.62\n",
    "    - 랜덤 포레스트 :          0.65 / __0.70__ / 0.71\n",
    "    - 그래디언트 부스팅 트리 :   __0.77__ / 0.77 / 0.75\n",
    "    - 보팅 :                 __0.82__ / 0.82 / 0.78\n",
    "\n",
    "\n",
    "- __머신 러닝 모델별 f1-score__(모든 단어 / 5,000개 / 1,000개)\n",
    "    - 나이브 베이즈 :          0.60 / 0.50 / __0.64__\n",
    "    - CNB :                 __0.75__ / 0.73 / 0.70\n",
    "    - 로지스틱 회귀 :          0.80 / __0.81__ / 0.77\n",
    "    - 서포트 벡터 머신 :        0.76 / __0.78__ / 0.72\n",
    "    - 결정 트리 :             0.57 / __0.58__ / 0.55\n",
    "    - 랜덤 포레스트 :          __0.68__ / 0.62 / __0.68__\n",
    "    - 그래디언트 부스팅 트리 :   __0.77__ / 0.76 / 0.74\n",
    "    - 보팅 :                 __0.81__ / __0.81__ / 0.78\n",
    "\n",
    "- __딥러닝 모델(LSTM) accuracy / f1-score__\n",
    "    - accuracy : 0.63 / f1score : 0.64"
   ]
  },
  {
   "cell_type": "markdown",
   "id": "competent-pendant",
   "metadata": {},
   "source": [
    "- __머신 러닝 모델들과 딥러닝 모델의 비교 결과 딥러닝 모델은 머신 러닝 모델들의 중간보다 조금 못 미치는 성능이 도출됐다.__\n",
    "- __그러나 딥러닝 모델을 변경하거나 하이퍼파라미터 조절에 따라 성능 결과는 변동 가능성이 있다.__"
   ]
  },
  {
   "cell_type": "markdown",
   "id": "played-aluminum",
   "metadata": {},
   "source": [
    "---"
   ]
  },
  {
   "cell_type": "markdown",
   "id": "received-hudson",
   "metadata": {},
   "source": [
    "# 루브릭"
   ]
  },
  {
   "cell_type": "markdown",
   "id": "spiritual-redhead",
   "metadata": {},
   "source": [
    "__1. 분류 모델의 accuracy가 기준 이상 높게 나왔는가?__  \n",
    "_(3가지 단어 개수에 대해 8가지 머신러닝 기법을 적용하여 그중 최적의 솔루션을 도출하였다.)_"
   ]
  },
  {
   "cell_type": "markdown",
   "id": "improving-county",
   "metadata": {},
   "source": [
    "- Vocabulary Size와 분류 모델에 따라 결과를 비교했을 때, 모든 단어를 사용하여 보팅으로 학습 했을 때 정확도가 가장 좋은 결과가 도출되었다."
   ]
  },
  {
   "cell_type": "markdown",
   "id": "smaller-batman",
   "metadata": {},
   "source": [
    "__2. 분류 모델의 F1 score가 기준 이상 높게 나왔는가?__  \n",
    "_(Vocabulary size에 따른 각 머신러닝 모델의 성능변화 추이를 살피고, 해당 머신러닝 알고리즘의 특성에 근거해 원인을 분석하였다.)_"
   ]
  },
  {
   "cell_type": "markdown",
   "id": "oriental-irish",
   "metadata": {},
   "source": [
    "- Vocabulary Size와 분류 모델에 따라 결과를 비교했을 때, 모든 단어를 사용하여 보팅으로 학습 했을 때 F1-score가 가장 좋은 결과가 도출되었다."
   ]
  },
  {
   "cell_type": "markdown",
   "id": "governmental-market",
   "metadata": {},
   "source": [
    "__3. 생성모델의 metric(BLEU 등) 기준 이상 높은 성능이 확인되었는가?__\n",
    "_(동일한 데이터셋과 전처리 조건으로 딥러닝 모델의 성능과 비교하여 결과에 따른 원인을 분석하였다.)_"
   ]
  },
  {
   "cell_type": "markdown",
   "id": "rotary-arthur",
   "metadata": {},
   "source": [
    "- 동일한 데이터셋과 전처리 조건으로 딥러닝 모델의 성능과 비교해 보았다."
   ]
  },
  {
   "cell_type": "markdown",
   "id": "smoking-wellington",
   "metadata": {},
   "source": [
    "---"
   ]
  },
  {
   "cell_type": "markdown",
   "id": "previous-memorial",
   "metadata": {},
   "source": [
    "# 회고"
   ]
  },
  {
   "cell_type": "markdown",
   "id": "differential-jenny",
   "metadata": {},
   "source": [
    "- 다양한 머신러닝 모델에 대하서 알 수 있었고, 딥러닝과 비교해 볼 수 있어서 흥미로웠다.\n",
    "- 개념이나 코드를 알았다고 해도 정확히 이해하지 못했는지 응용을 한다거나 시간이 지난 후 다시 사용했을 때 매번 새로움을 느낀다. 익숙하게 사용할 수 있도록 체득할 시간이 필요한 것 같다."
   ]
  }
 ],
 "metadata": {
  "kernelspec": {
   "display_name": "aiffel",
   "language": "python",
   "name": "aiffel"
  },
  "language_info": {
   "codemirror_mode": {
    "name": "ipython",
    "version": 3
   },
   "file_extension": ".py",
   "mimetype": "text/x-python",
   "name": "python",
   "nbconvert_exporter": "python",
   "pygments_lexer": "ipython3",
   "version": "3.7.9"
  },
  "toc": {
   "base_numbering": 1,
   "nav_menu": {},
   "number_sections": true,
   "sideBar": true,
   "skip_h1_title": false,
   "title_cell": "Table of Contents",
   "title_sidebar": "Contents",
   "toc_cell": false,
   "toc_position": {
    "height": "calc(100% - 180px)",
    "left": "10px",
    "top": "150px",
    "width": "183.594px"
   },
   "toc_section_display": true,
   "toc_window_display": false
  },
  "varInspector": {
   "cols": {
    "lenName": 16,
    "lenType": 16,
    "lenVar": 40
   },
   "kernels_config": {
    "python": {
     "delete_cmd_postfix": "",
     "delete_cmd_prefix": "del ",
     "library": "var_list.py",
     "varRefreshCmd": "print(var_dic_list())"
    },
    "r": {
     "delete_cmd_postfix": ") ",
     "delete_cmd_prefix": "rm(",
     "library": "var_list.r",
     "varRefreshCmd": "cat(var_dic_list()) "
    }
   },
   "types_to_exclude": [
    "module",
    "function",
    "builtin_function_or_method",
    "instance",
    "_Feature"
   ],
   "window_display": false
  }
 },
 "nbformat": 4,
 "nbformat_minor": 5
}
