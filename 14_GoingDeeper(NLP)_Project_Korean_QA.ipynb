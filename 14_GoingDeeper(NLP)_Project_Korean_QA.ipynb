{
 "cells": [
  {
   "cell_type": "markdown",
   "id": "renewable-rating",
   "metadata": {},
   "source": [
    "아래의 데이터셋은 bAbI 데이터셋을 저자가 한국어로 변환한 한국어 버전의 bAbI 데이터셋입니다."
   ]
  },
  {
   "cell_type": "markdown",
   "id": "exterior-phrase",
   "metadata": {},
   "source": [
    "# 데이터 다운로드(로컬 유저용)"
   ]
  },
  {
   "cell_type": "markdown",
   "id": "immediate-turkish",
   "metadata": {},
   "source": [
    "[e-28-korean.zip](https://aiffelstaticprd.blob.core.windows.net/media/documents/e-28-korean.zip)"
   ]
  },
  {
   "cell_type": "markdown",
   "id": "lasting-carry",
   "metadata": {},
   "source": [
    "압축을 해제해서 사용해주세요."
   ]
  },
  {
   "cell_type": "markdown",
   "id": "integral-democracy",
   "metadata": {},
   "source": [
    "##### [데이터셋 소개]"
   ]
  },
  {
   "cell_type": "markdown",
   "id": "trying-announcement",
   "metadata": {},
   "source": [
    "데이터셋의 형태는 아래와 같이 영어 데이터셋과 동일합니다."
   ]
  },
  {
   "cell_type": "markdown",
   "id": "opening-trinity",
   "metadata": {},
   "source": [
    "``` python\n",
    "1 은경이는 복도로 가버렸습니다.\n",
    "2 필웅이는 화장실로 뛰어갔습니다.\n",
    "3 은경이는 어디야?     복도  1\n",
    "4 수종이는 화장실로 복귀했습니다.\n",
    "5 은경이는 침실로 갔습니다.\n",
    "6 필웅이는 어디야?     화장실 2\n",
    "7 은경이는 복도로 이동했습니다.\n",
    "8 경임이는 부엌으로 뛰어갔습니다.\n",
    "9 경임이는 어디야?     부엌  8\n",
    "10 경임이는 복도로 가버렸습니다.\n",
    "11 은경이는 정원으로 이동했습니다.\n",
    "12 경임이는 어디야?     복도  10\n",
    "13 경임이는 화장실로 복귀했습니다.\n",
    "14 경임이는 부엌으로 갔습니다.\n",
    "15 경임이는 어디야?     부엌  14\n",
    "```"
   ]
  },
  {
   "cell_type": "markdown",
   "id": "bronze-dispatch",
   "metadata": {},
   "source": [
    "이번 프로젝트에서는 위 한국어 버전의 데이터셋에 대해서 동작하는 QA 모델을 만들어보겠습니다."
   ]
  },
  {
   "cell_type": "markdown",
   "id": "timely-reggae",
   "metadata": {},
   "source": [
    ">___주의❗___  \n",
    "_기존 케라스 공식 문서의 babi_rnn, babi_memn 구현은 파이썬 3.6을 기준으로 하고 있으며, 파이썬 3.7에서는 정상동작 하지 않을 수 있습니다. 실습 시 참고하세요!_"
   ]
  },
  {
   "cell_type": "markdown",
   "id": "medieval-divorce",
   "metadata": {},
   "source": [
    "## 라이브러리 임포트"
   ]
  },
  {
   "cell_type": "code",
   "execution_count": 1,
   "id": "julian-postcard",
   "metadata": {
    "ExecuteTime": {
     "end_time": "2021-05-11T10:09:35.159682Z",
     "start_time": "2021-05-11T10:09:32.565160Z"
    }
   },
   "outputs": [],
   "source": [
    "from tensorflow.keras.utils import get_file\n",
    "from tensorflow.keras.preprocessing.sequence import pad_sequences\n",
    "from tensorflow.keras.utils import to_categorical\n",
    "import numpy as np\n",
    "import tarfile\n",
    "from nltk import FreqDist\n",
    "from functools import reduce\n",
    "import os\n",
    "import re"
   ]
  },
  {
   "cell_type": "markdown",
   "id": "offshore-period",
   "metadata": {},
   "source": [
    "## 데이터 로드"
   ]
  },
  {
   "cell_type": "code",
   "execution_count": 2,
   "id": "polyphonic-resident",
   "metadata": {
    "ExecuteTime": {
     "end_time": "2021-05-11T10:12:34.175802Z",
     "start_time": "2021-05-11T10:12:34.172949Z"
    }
   },
   "outputs": [],
   "source": [
    "home_dir = os.getenv('HOME')+'/aiffel/babi_memory_net'\n",
    "DATA_DIR = home_dir + '/e-28-korean'\n",
    "TRAIN_FILE = os.path.join(DATA_DIR, \"qa1_single-supporting-fact_train_kor.txt\")\n",
    "TEST_FILE = os.path.join(DATA_DIR, \"qa1_single-supporting-fact_test_kor.txt\")"
   ]
  },
  {
   "cell_type": "markdown",
   "id": "specified-moisture",
   "metadata": {},
   "source": [
    "## 데이터 확인"
   ]
  },
  {
   "cell_type": "code",
   "execution_count": 4,
   "id": "regulation-influence",
   "metadata": {
    "ExecuteTime": {
     "end_time": "2021-05-11T10:13:21.787646Z",
     "start_time": "2021-05-11T10:13:21.776181Z"
    }
   },
   "outputs": [
    {
     "name": "stdout",
     "output_type": "stream",
     "text": [
      "1 필웅이는 화장실로 갔습니다.\n",
      "2 은경이는 복도로 이동했습니다.\n",
      "3 필웅이는 어디야? \t화장실\t1\n",
      "4 수종이는 복도로 복귀했습니다.\n",
      "5 경임이는 정원으로 갔습니다.\n",
      "6 수종이는 어디야? \t복도\t4\n",
      "7 은경이는 사무실로 갔습니다.\n",
      "8 경임이는 화장실로 뛰어갔습니다.\n",
      "9 수종이는 어디야? \t복도\t4\n",
      "10 필웅이는 복도로 갔습니다.\n",
      "11 수종이는 사무실로 가버렸습니다.\n",
      "12 수종이는 어디야? \t사무실\t11\n",
      "13 은경이는 정원으로 복귀했습니다.\n",
      "14 은경이는 침실로 갔습니다.\n",
      "15 경임이는 어디야? \t화장실\t8\n",
      "1 경임이는 사무실로 가버렸습니다.\n",
      "2 경임이는 화장실로 이동했습니다.\n",
      "3 경임이는 어디야? \t화장실\t2\n",
      "4 필웅이는 침실로 이동했습니다.\n",
      "5 수종이는 복도로 갔습니다.\n"
     ]
    }
   ],
   "source": [
    "# 훈련 데이터 20 문장 출력\n",
    "i = 0\n",
    "lines = open(TRAIN_FILE , \"rb\")\n",
    "for line in lines:\n",
    "    line = line.decode(\"utf-8\").strip()\n",
    "    # lno, text = line.split(\" \", 1) # ID와 TEXT 분리\n",
    "    i = i + 1\n",
    "    print(line)\n",
    "    if i == 20:\n",
    "        break"
   ]
  },
  {
   "cell_type": "markdown",
   "id": "finnish-confusion",
   "metadata": {},
   "source": [
    "---"
   ]
  },
  {
   "cell_type": "markdown",
   "id": "directed-persian",
   "metadata": {},
   "source": [
    "# Step 1. 토크나이저 변경하기 (매우 중요!!!)"
   ]
  },
  {
   "cell_type": "markdown",
   "id": "duplicate-surface",
   "metadata": {},
   "source": [
    "영어권 언어는 띄어쓰기만해도 단어들이 잘 분리되지만, 한국어는 그렇지 않다고 앞에서 몇 차례 언급했었죠? 한국어 데이터를 사용하여 모델을 구현하는 것만큼 이번에는 형태소 분석기를 사용해서 단어 토큰화를 해보겠습니다.\n",
    "\n",
    "그런데 형태소 분석기를 사용할 때, 이런 상황에 봉착한다면 어떻게 해야할까요?"
   ]
  },
  {
   "cell_type": "markdown",
   "id": "necessary-commission",
   "metadata": {},
   "source": [
    "``` python\n",
    "형태소 분석 입력 : '은경이는 사무실로 갔습니다.'\n",
    "형태소 분석 결과 : ['은', '경이', '는', '사무실', '로', '갔습니다', '.']\n",
    "```"
   ]
  },
  {
   "cell_type": "markdown",
   "id": "revised-wallace",
   "metadata": {},
   "source": [
    "사실 위 문장에서 '은경이'는 사람 이름이므로 제대로 된 결과를 얻기 위해서는 '은', '경이'와 같이 글자가 분리되는 것이 아니라 '은경이' 또는 최소한 '은경'이라는 단어 토큰을 얻어야만 합니다.\n",
    "\n",
    "이런 경우에는 형태소 분석기에 사용자 사전을 추가해줄 수 있습니다.\n",
    "\n",
    "'은경이'는 하나의 단어이기 때문에 분리하지말라고 형태소 분석기에 알려주는 것이죠.\n",
    "\n",
    "사용자 사전을 추가하는 방법은 형태소 분석기마다 다소 다른데, 생각보다 복잡한 경우도 많습니다. 이번 실습에서는 Customized Konlpy라는 사용자 사전 추가가 매우 쉬운 패키지를 사용합니다."
   ]
  },
  {
   "cell_type": "markdown",
   "id": "derived-witness",
   "metadata": {},
   "source": [
    "##### Customized Konlpy 설치 방법"
   ]
  },
  {
   "cell_type": "markdown",
   "id": "independent-inside",
   "metadata": {},
   "source": [
    "###### 로컬유저용"
   ]
  },
  {
   "cell_type": "markdown",
   "id": "hourly-amazon",
   "metadata": {},
   "source": [
    "설치 방법과 사용 방법에 대한 자세한 설명은 아래의 링크를 참고하세요!"
   ]
  },
  {
   "cell_type": "markdown",
   "id": "junior-suite",
   "metadata": {},
   "source": [
    "- [Customized Konlpy 사용하기](https://inspiringpeople.github.io/data%20analysis/ckonlpy/)"
   ]
  },
  {
   "cell_type": "markdown",
   "id": "indie-isolation",
   "metadata": {},
   "source": [
    "가령, 트위터라는 형태소 분석기를 사용한다고 하였을 때, '은경이'라는 단어를 사용자 사전에 추가하고 나서 문장을 형태소 분석하려면 어떻게 해야 할까요?"
   ]
  },
  {
   "cell_type": "markdown",
   "id": "supposed-democracy",
   "metadata": {},
   "source": [
    "``` python\n",
    "# 예시 코드\n",
    "from ckonlpy.tag import Twitter\n",
    "twitter = Twitter()\n",
    "twitter.add_dictionary('은경이', 'Noun')\n",
    "twitter.morphs('은경이는 사무실로 갔습니다.')\n",
    "```"
   ]
  },
  {
   "cell_type": "markdown",
   "id": "commercial-elizabeth",
   "metadata": {},
   "source": [
    "## 데이터 전처리 (1) 기본 전처리"
   ]
  },
  {
   "cell_type": "markdown",
   "id": "bearing-westminster",
   "metadata": {},
   "source": [
    "- 데이터를 스토리, 질문, 답변으로 각각 분리해서 저장\n",
    "- supporting fact(실제 정답이 몇번째 문장에 있었는지를 알려주는 인덱스 힌트정보)는 저장하지 않음"
   ]
  },
  {
   "cell_type": "code",
   "execution_count": 5,
   "id": "lesser-means",
   "metadata": {
    "ExecuteTime": {
     "end_time": "2021-05-11T10:18:38.820908Z",
     "start_time": "2021-05-11T10:18:38.805015Z"
    }
   },
   "outputs": [],
   "source": [
    "def read_data(dir):\n",
    "    stories, questions, answers = [], [], [] # 각각 스토리, 질문, 답변을 저장할 예정\n",
    "    story_temp = [] # 현재 시점의 스토리 임시 저장\n",
    "    lines = open(dir, \"rb\")\n",
    "\n",
    "    for line in lines:\n",
    "        line = line.decode(\"utf-8\") # b' 제거\n",
    "        line = line.strip() # '\\n' 제거\n",
    "        idx, text = line.split(\" \", 1) # 맨 앞에 있는 id number 분리\n",
    "        # 여기까지는 모든 줄에 적용되는 전처리\n",
    "\n",
    "        if int(idx) == 1:\n",
    "            story_temp = []\n",
    "        \n",
    "        if \"\\t\" in text: # 현재 읽는 줄이 질문 (tab) 답변 (tab)인 경우\n",
    "            question, answer, _ = text.split(\"\\t\") # 질문과 답변을 각각 저장\n",
    "            stories.append([x for x in story_temp if x]) # 지금까지의 누적 스토리를 스토리에 저장\n",
    "            questions.append(question)\n",
    "            answers.append(answer)\n",
    "\n",
    "        else: # 현재 읽는 줄이 스토리인 경우\n",
    "            story_temp.append(text) # 임시 저장\n",
    "\n",
    "    lines.close()\n",
    "    return stories, questions, answers"
   ]
  },
  {
   "cell_type": "code",
   "execution_count": 6,
   "id": "macro-certification",
   "metadata": {
    "ExecuteTime": {
     "end_time": "2021-05-11T10:19:15.025976Z",
     "start_time": "2021-05-11T10:19:14.983393Z"
    }
   },
   "outputs": [],
   "source": [
    "train_data = read_data(TRAIN_FILE)\n",
    "test_data = read_data(TEST_FILE)"
   ]
  },
  {
   "cell_type": "code",
   "execution_count": 7,
   "id": "hawaiian-manual",
   "metadata": {
    "ExecuteTime": {
     "end_time": "2021-05-11T10:19:31.753160Z",
     "start_time": "2021-05-11T10:19:31.697215Z"
    }
   },
   "outputs": [],
   "source": [
    "train_stories, train_questions, train_answers = read_data(TRAIN_FILE)\n",
    "test_stories, test_questions, test_answers = read_data(TEST_FILE)"
   ]
  },
  {
   "cell_type": "code",
   "execution_count": 8,
   "id": "magnetic-adelaide",
   "metadata": {
    "ExecuteTime": {
     "end_time": "2021-05-11T10:19:36.816859Z",
     "start_time": "2021-05-11T10:19:36.811678Z"
    }
   },
   "outputs": [
    {
     "name": "stdout",
     "output_type": "stream",
     "text": [
      "train 스토리 개수: 10000\n",
      "train 질문 개수: 10000\n",
      "train 답변 개수: 10000\n",
      "test 스토리 개수: 1000\n",
      "test 질문 개수: 1000\n",
      "test 답변 개수: 1000\n"
     ]
    }
   ],
   "source": [
    "# 각각의 샘플 개수 출력\n",
    "print(\"train 스토리 개수:\", len(train_stories))\n",
    "print(\"train 질문 개수:\", len(train_questions))\n",
    "print(\"train 답변 개수:\", len(train_answers))\n",
    "print(\"test 스토리 개수:\", len(test_stories))\n",
    "print(\"test 질문 개수:\", len(test_questions))\n",
    "print(\"test 답변 개수:\", len(test_answers))"
   ]
  },
  {
   "cell_type": "code",
   "execution_count": 9,
   "id": "heated-turner",
   "metadata": {
    "ExecuteTime": {
     "end_time": "2021-05-11T10:20:09.024635Z",
     "start_time": "2021-05-11T10:20:09.015808Z"
    }
   },
   "outputs": [
    {
     "data": {
      "text/plain": [
       "['수종이는 화장실로 뛰어갔습니다.',\n",
       " '경임이는 사무실로 갔습니다.',\n",
       " '은경이는 부엌으로 이동했습니다.',\n",
       " '경임이는 화장실로 갔습니다.',\n",
       " '수종이는 복도로 갔습니다.',\n",
       " '필웅이는 부엌으로 가버렸습니다.',\n",
       " '수종이는 부엌으로 이동했습니다.',\n",
       " '수종이는 화장실로 가버렸습니다.']"
      ]
     },
     "execution_count": 9,
     "metadata": {},
     "output_type": "execute_result"
    }
   ],
   "source": [
    "# 임의로 3,879번째 스토리 출력\n",
    "train_stories[3878]"
   ]
  },
  {
   "cell_type": "code",
   "execution_count": 10,
   "id": "generous-dragon",
   "metadata": {
    "ExecuteTime": {
     "end_time": "2021-05-11T10:20:13.292024Z",
     "start_time": "2021-05-11T10:20:13.288541Z"
    }
   },
   "outputs": [
    {
     "data": {
      "text/plain": [
       "['필웅이는 어디야? ', '수종이는 어디야? ', '수종이는 어디야? ', '수종이는 어디야? ', '경임이는 어디야? ']"
      ]
     },
     "execution_count": 10,
     "metadata": {},
     "output_type": "execute_result"
    }
   ],
   "source": [
    "# 상위 5개의 질문 출력\n",
    "train_questions[:5]"
   ]
  },
  {
   "cell_type": "code",
   "execution_count": 12,
   "id": "noticed-toronto",
   "metadata": {
    "ExecuteTime": {
     "end_time": "2021-05-11T10:20:23.582691Z",
     "start_time": "2021-05-11T10:20:23.579494Z"
    }
   },
   "outputs": [
    {
     "data": {
      "text/plain": [
       "['화장실', '복도', '복도', '사무실', '화장실']"
      ]
     },
     "execution_count": 12,
     "metadata": {},
     "output_type": "execute_result"
    }
   ],
   "source": [
    "#상위 5개의 답변 출력\n",
    "train_answers[:5]"
   ]
  },
  {
   "cell_type": "markdown",
   "id": "republican-occasion",
   "metadata": {},
   "source": [
    "## Tokenize"
   ]
  },
  {
   "cell_type": "code",
   "execution_count": 13,
   "id": "injured-climate",
   "metadata": {
    "ExecuteTime": {
     "end_time": "2021-05-11T12:51:46.212240Z",
     "start_time": "2021-05-11T12:51:45.573782Z"
    }
   },
   "outputs": [
    {
     "name": "stderr",
     "output_type": "stream",
     "text": [
      "/home/aiffel-dj24/anaconda3/envs/aiffel/lib/python3.7/site-packages/konlpy/tag/_okt.py:16: UserWarning: \"Twitter\" has changed to \"Okt\" since KoNLPy v0.4.5.\n",
      "  warn('\"Twitter\" has changed to \"Okt\" since KoNLPy v0.4.5.')\n"
     ]
    }
   ],
   "source": [
    "from ckonlpy.tag import Twitter\n",
    "twitter = Twitter()\n",
    "twitter.add_dictionary('은경이', 'Noun')\n",
    "twitter.add_dictionary('필웅이', 'Noun')\n",
    "twitter.add_dictionary('수종이', 'Noun')\n",
    "twitter.add_dictionary('경임이', 'Noun')"
   ]
  },
  {
   "cell_type": "code",
   "execution_count": 14,
   "id": "korean-performance",
   "metadata": {
    "ExecuteTime": {
     "end_time": "2021-05-11T12:53:15.252280Z",
     "start_time": "2021-05-11T12:53:15.246535Z"
    }
   },
   "outputs": [],
   "source": [
    "def tokenize(sent):\n",
    "    return twitter.morphs(sent)"
   ]
  },
  {
   "cell_type": "code",
   "execution_count": 15,
   "id": "organized-singles",
   "metadata": {
    "ExecuteTime": {
     "end_time": "2021-05-11T12:53:28.537767Z",
     "start_time": "2021-05-11T12:53:28.517716Z"
    }
   },
   "outputs": [],
   "source": [
    "# 전처리 함수\n",
    "def preprocess_data(train_data, test_data):\n",
    "    counter = FreqDist()\n",
    "    \n",
    "    # 두 문장의 story를 하나의 문장으로 통합하는 함수\n",
    "    flatten = lambda data: reduce(lambda x, y: x + y, data)\n",
    "\n",
    "    # 각 샘플의 길이를 저장하는 리스트\n",
    "    story_len = []\n",
    "    question_len = []\n",
    "    \n",
    "    for stories, questions, answers in [train_data, test_data]:\n",
    "        for story in stories:\n",
    "            stories = tokenize(flatten(story)) # 스토리의 문장들을 펼친 후 토큰화\n",
    "            story_len.append(len(stories)) # 각 story의 길이 저장\n",
    "            for word in stories: # 단어 집합에 단어 추가\n",
    "                counter[word] += 1\n",
    "        for question in questions:\n",
    "            question = tokenize(question)\n",
    "            question_len.append(len(question))\n",
    "            for word in question:\n",
    "                counter[word] += 1\n",
    "        for answer in answers:\n",
    "            answer = tokenize(answer)\n",
    "            for word in answer:\n",
    "                counter[word] += 1\n",
    "\n",
    "    # 단어장 생성\n",
    "    word2idx = {word : (idx + 1) for idx, (word, _) in enumerate(counter.most_common())}\n",
    "    idx2word = {idx : word for word, idx in word2idx.items()}\n",
    "\n",
    "    # 가장 긴 샘플의 길이\n",
    "    story_max_len = np.max(story_len)\n",
    "    question_max_len = np.max(question_len)\n",
    "\n",
    "    return word2idx, idx2word, story_max_len, question_max_len"
   ]
  },
  {
   "cell_type": "code",
   "execution_count": 16,
   "id": "everyday-yahoo",
   "metadata": {
    "ExecuteTime": {
     "end_time": "2021-05-11T12:56:25.736186Z",
     "start_time": "2021-05-11T12:55:10.564299Z"
    }
   },
   "outputs": [],
   "source": [
    "# 전처리 함수를 사용하여 단어장과 가장 긴 샘플의 길이를 리턴\n",
    "word2idx, idx2word, story_max_len, question_max_len = preprocess_data(train_data, test_data)"
   ]
  },
  {
   "cell_type": "code",
   "execution_count": 17,
   "id": "conservative-booth",
   "metadata": {
    "ExecuteTime": {
     "end_time": "2021-05-11T12:56:27.062682Z",
     "start_time": "2021-05-11T12:56:27.060160Z"
    }
   },
   "outputs": [
    {
     "name": "stdout",
     "output_type": "stream",
     "text": [
      "{'는': 1, '.': 2, '로': 3, '했습니다': 4, '으로': 5, '경임이': 6, '은경이': 7, '수종이': 8, '필웅이': 9, '이동': 10, '가버렸습니다': 11, '뛰어갔습니다': 12, '복귀': 13, '화장실': 14, '정원': 15, '복도': 16, '갔습니다': 17, '사무실': 18, '부엌': 19, '침실': 20, '어디': 21, '야': 22, '?': 23}\n"
     ]
    }
   ],
   "source": [
    "# 단어장 출력\n",
    "print(word2idx)"
   ]
  },
  {
   "cell_type": "code",
   "execution_count": 18,
   "id": "reduced-recognition",
   "metadata": {
    "ExecuteTime": {
     "end_time": "2021-05-11T12:57:03.358372Z",
     "start_time": "2021-05-11T12:57:03.353191Z"
    }
   },
   "outputs": [],
   "source": [
    "# 실제 변수로 사용할 단어장의 크기는 패딩을 고려하여 +1\n",
    "vocab_size = len(word2idx) + 1"
   ]
  },
  {
   "cell_type": "code",
   "execution_count": 19,
   "id": "dedicated-municipality",
   "metadata": {
    "ExecuteTime": {
     "end_time": "2021-05-11T12:57:12.576796Z",
     "start_time": "2021-05-11T12:57:12.573997Z"
    }
   },
   "outputs": [
    {
     "name": "stdout",
     "output_type": "stream",
     "text": [
      "스토리의 최대 길이 : 70\n",
      "질문의 최대 길이 : 5\n"
     ]
    }
   ],
   "source": [
    "print('스토리의 최대 길이 :',story_max_len)\n",
    "print('질문의 최대 길이 :',question_max_len)"
   ]
  },
  {
   "cell_type": "markdown",
   "id": "chief-infrastructure",
   "metadata": {},
   "source": [
    "---"
   ]
  },
  {
   "cell_type": "markdown",
   "id": "meaning-lincoln",
   "metadata": {},
   "source": [
    "# Step 2. 형태소 분석 후 불용어 처리하기"
   ]
  },
  {
   "cell_type": "markdown",
   "id": "vertical-combat",
   "metadata": {},
   "source": [
    "형태소 분석기로 문자를 분석해보면 '는', '으로' 등 분석에 크게 도움이 되지 않을 것 같은 토큰들이 나올 거에요. 처음에는 이 토큰들도 그대로 사용해서 모델을 구현해보고, 두 번째 구현에서는 이 토큰들을 전처리 과정에서 불용어 처리하여 제외해 봅시다."
   ]
  },
  {
   "cell_type": "markdown",
   "id": "familiar-dominican",
   "metadata": {},
   "source": [
    "## 데이터 전처리 (2) 패딩, 정수 인코딩, 벡터화"
   ]
  },
  {
   "cell_type": "markdown",
   "id": "retained-repair",
   "metadata": {},
   "source": [
    "1. 현재 각 데이터는 전부 텍스트 데이터입니다. 이를 단어와 맵핑되는 정수로 인코딩해줍니다. 이 과정은 앞서 만들어놓은 word2idx를 활용합니다.\n",
    "2. 스토리와 질문 데이터에 대해서 각각의 최대 길이로 패딩(padding)합니다. 이 과정은 앞서 계산해놓은 story_max_len과 question_max_len을 사용합니다.\n",
    "3. 레이블에 해당되는 정답 데이터를 원-핫 인코딩합니다."
   ]
  },
  {
   "cell_type": "code",
   "execution_count": 20,
   "id": "secondary-involvement",
   "metadata": {
    "ExecuteTime": {
     "end_time": "2021-05-11T13:00:26.251134Z",
     "start_time": "2021-05-11T13:00:26.246289Z"
    }
   },
   "outputs": [],
   "source": [
    "def vectorize(data, word2idx, story_maxlen, question_maxlen):\n",
    "    Xs, Xq, Y = [], [], []\n",
    "    flatten = lambda data: reduce(lambda x, y: x + y, data)\n",
    "\n",
    "    stories, questions, answers = data\n",
    "    for story, question, answer in zip(stories, questions, answers):\n",
    "        xs = [word2idx[w] for w in tokenize(flatten(story))]\n",
    "        xq = [word2idx[w] for w in tokenize(question)]\n",
    "        Xs.append(xs)\n",
    "        Xq.append(xq)\n",
    "        Y.append(word2idx[answer])\n",
    "\n",
    "    # 스토리와 질문은 각각의 최대 길이로 패딩\n",
    "    # 정답은 원-핫 인코딩\n",
    "    return pad_sequences(Xs, maxlen=story_maxlen),\\\n",
    "           pad_sequences(Xq, maxlen=question_maxlen),\\\n",
    "           to_categorical(Y, num_classes=len(word2idx) + 1)"
   ]
  },
  {
   "cell_type": "code",
   "execution_count": 21,
   "id": "regional-rescue",
   "metadata": {
    "ExecuteTime": {
     "end_time": "2021-05-11T13:02:33.036170Z",
     "start_time": "2021-05-11T13:00:53.033820Z"
    }
   },
   "outputs": [],
   "source": [
    "Xstrain, Xqtrain, Ytrain = vectorize(train_data, word2idx, story_max_len, question_max_len)\n",
    "Xstest, Xqtest, Ytest = vectorize(test_data, word2idx, story_max_len, question_max_len)"
   ]
  },
  {
   "cell_type": "code",
   "execution_count": 22,
   "id": "mysterious-semiconductor",
   "metadata": {
    "ExecuteTime": {
     "end_time": "2021-05-11T13:02:36.452924Z",
     "start_time": "2021-05-11T13:02:36.447032Z"
    }
   },
   "outputs": [
    {
     "name": "stdout",
     "output_type": "stream",
     "text": [
      "(10000, 70) (10000, 5) (10000, 24) (1000, 70) (1000, 5) (1000, 24)\n"
     ]
    }
   ],
   "source": [
    "# 반환된 결과의 크기(shape)를 확인\n",
    "print(Xstrain.shape, Xqtrain.shape, Ytrain.shape, Xstest.shape, Xqtest.shape, Ytest.shape)"
   ]
  },
  {
   "cell_type": "markdown",
   "id": "outdoor-pastor",
   "metadata": {},
   "source": [
    "## 메모리 네트워크 구현"
   ]
  },
  {
   "cell_type": "code",
   "execution_count": 23,
   "id": "stopped-metadata",
   "metadata": {
    "ExecuteTime": {
     "end_time": "2021-05-11T13:03:23.927778Z",
     "start_time": "2021-05-11T13:03:23.756079Z"
    }
   },
   "outputs": [],
   "source": [
    "from tensorflow.keras.models import Sequential, Model\n",
    "from tensorflow.keras.layers import Embedding\n",
    "from tensorflow.keras.layers import Permute, dot, add, concatenate\n",
    "from tensorflow.keras.layers import LSTM, Dense, Dropout, Input, Activation\n",
    "import matplotlib.pyplot as plt"
   ]
  },
  {
   "cell_type": "code",
   "execution_count": 36,
   "id": "female-retrieval",
   "metadata": {
    "ExecuteTime": {
     "end_time": "2021-05-11T13:19:24.376504Z",
     "start_time": "2021-05-11T13:19:24.372863Z"
    }
   },
   "outputs": [],
   "source": [
    "# 에포크 횟수\n",
    "train_epochs = 150\n",
    "# 배치 크기\n",
    "batch_size = 32\n",
    "# 임베딩 크기\n",
    "embed_size = 50\n",
    "# LSTM의 크기\n",
    "lstm_size = 64\n",
    "# 과적합 방지 기법인 드롭아웃 적용 비율\n",
    "dropout_rate = 0.20"
   ]
  },
  {
   "cell_type": "code",
   "execution_count": 37,
   "id": "soviet-pricing",
   "metadata": {
    "ExecuteTime": {
     "end_time": "2021-05-11T13:19:24.392379Z",
     "start_time": "2021-05-11T13:19:24.380350Z"
    }
   },
   "outputs": [
    {
     "name": "stdout",
     "output_type": "stream",
     "text": [
      "Stories : KerasTensor(type_spec=TensorSpec(shape=(None, 70), dtype=tf.float32, name='input_3'), name='input_3', description=\"created by layer 'input_3'\")\n",
      "Question: KerasTensor(type_spec=TensorSpec(shape=(None, 5), dtype=tf.float32, name='input_4'), name='input_4', description=\"created by layer 'input_4'\")\n"
     ]
    }
   ],
   "source": [
    "# 입력을 담아두는 변수들을 정의\n",
    "input_sequence = Input((story_max_len,))\n",
    "question = Input((question_max_len,))\n",
    " \n",
    "print('Stories :', input_sequence)\n",
    "print('Question:', question)"
   ]
  },
  {
   "cell_type": "code",
   "execution_count": 38,
   "id": "upper-cheat",
   "metadata": {
    "ExecuteTime": {
     "end_time": "2021-05-11T13:19:24.414728Z",
     "start_time": "2021-05-11T13:19:24.393675Z"
    }
   },
   "outputs": [],
   "source": [
    "# 스토리를 위한 첫번째 임베딩. 그림에서의 Embedding A\n",
    "input_encoder_m = Sequential()\n",
    "input_encoder_m.add(Embedding(input_dim=vocab_size,\n",
    "                              output_dim=embed_size))\n",
    "input_encoder_m.add(Dropout(dropout_rate))\n",
    "# 결과 : (samples, story_max_len, embed_size) / 샘플의 수, 문장의 최대 길이, 임베딩 벡터의 차원\n",
    " \n",
    "# 스토리를 위한 두번째 임베딩. 그림에서의 Embedding C\n",
    "# 임베딩 벡터의 차원을 question_max_len(질문의 최대 길이)로 한다.\n",
    "input_encoder_c = Sequential()\n",
    "input_encoder_c.add(Embedding(input_dim=vocab_size,\n",
    "                              output_dim=question_max_len))\n",
    "input_encoder_c.add(Dropout(dropout_rate))\n",
    "# 결과 : (samples, story_max_len, question_max_len) / 샘플의 수, 문장의 최대 길이, 질문의 최대 길이(임베딩 벡터의 차원)"
   ]
  },
  {
   "cell_type": "code",
   "execution_count": 39,
   "id": "structural-water",
   "metadata": {
    "ExecuteTime": {
     "end_time": "2021-05-11T13:19:24.429009Z",
     "start_time": "2021-05-11T13:19:24.416178Z"
    }
   },
   "outputs": [],
   "source": [
    "# 질문을 위한 임베딩. 그림에서의 Embedding B\n",
    "question_encoder = Sequential()\n",
    "question_encoder.add(Embedding(input_dim=vocab_size,\n",
    "                               output_dim=embed_size,\n",
    "                               input_length=question_max_len))\n",
    "question_encoder.add(Dropout(dropout_rate))\n",
    "# 결과 : (samples, question_max_len, embed_size) / 샘플의 수, 질문의 최대 길이, 임베딩 벡터의 차원"
   ]
  },
  {
   "cell_type": "code",
   "execution_count": 40,
   "id": "straight-kenya",
   "metadata": {
    "ExecuteTime": {
     "end_time": "2021-05-11T13:19:24.444952Z",
     "start_time": "2021-05-11T13:19:24.430529Z"
    }
   },
   "outputs": [
    {
     "name": "stdout",
     "output_type": "stream",
     "text": [
      "Input encoded m KerasTensor(type_spec=TensorSpec(shape=(None, 70, 50), dtype=tf.float32, name=None), name='sequential_3/dropout_4/Identity:0', description=\"created by layer 'sequential_3'\")\n",
      "Input encoded c KerasTensor(type_spec=TensorSpec(shape=(None, 70, 5), dtype=tf.float32, name=None), name='sequential_4/dropout_5/Identity:0', description=\"created by layer 'sequential_4'\")\n",
      "Question encoded KerasTensor(type_spec=TensorSpec(shape=(None, 5, 50), dtype=tf.float32, name=None), name='sequential_5/dropout_6/Identity:0', description=\"created by layer 'sequential_5'\")\n"
     ]
    }
   ],
   "source": [
    "# 실질적인 임베딩 과정\n",
    "input_encoded_m = input_encoder_m(input_sequence)\n",
    "input_encoded_c = input_encoder_c(input_sequence)\n",
    "question_encoded = question_encoder(question)\n",
    "\n",
    "print('Input encoded m', input_encoded_m)\n",
    "print('Input encoded c', input_encoded_c)\n",
    "print('Question encoded', question_encoded)"
   ]
  },
  {
   "cell_type": "code",
   "execution_count": 41,
   "id": "official-shower",
   "metadata": {
    "ExecuteTime": {
     "end_time": "2021-05-11T13:19:24.457323Z",
     "start_time": "2021-05-11T13:19:24.446092Z"
    }
   },
   "outputs": [
    {
     "name": "stdout",
     "output_type": "stream",
     "text": [
      "Match shape KerasTensor(type_spec=TensorSpec(shape=(None, 70, 5), dtype=tf.float32, name=None), name='activation_2/truediv:0', description=\"created by layer 'activation_2'\")\n"
     ]
    }
   ],
   "source": [
    "# 스토리 단어들과 질문 단어들 간의 유사도를 구하는 과정\n",
    "# 유사도는 내적을 사용한다.\n",
    "match = dot([input_encoded_m, question_encoded], axes=-1, normalize=False)\n",
    "match = Activation('softmax')(match)\n",
    "print('Match shape', match)\n",
    "# 결과 : (samples, story_max_len, question_max_len) / 샘플의 수, 문장의 최대 길이, 질문의 최대 길이"
   ]
  },
  {
   "cell_type": "code",
   "execution_count": 42,
   "id": "active-camera",
   "metadata": {
    "ExecuteTime": {
     "end_time": "2021-05-11T13:19:24.465284Z",
     "start_time": "2021-05-11T13:19:24.458380Z"
    }
   },
   "outputs": [
    {
     "name": "stdout",
     "output_type": "stream",
     "text": [
      "Response shape KerasTensor(type_spec=TensorSpec(shape=(None, 5, 70), dtype=tf.float32, name=None), name='permute_1/transpose:0', description=\"created by layer 'permute_1'\")\n"
     ]
    }
   ],
   "source": [
    "# 매칭 유사도 행렬과 질문에 대한 임베딩을 더한다.\n",
    "response = add([match, input_encoded_c])  # (samples, story_maxlen, question_max_len)\n",
    "response = Permute((2, 1))(response)  # (samples, question_max_len, story_maxlen)\n",
    "print('Response shape', response)"
   ]
  },
  {
   "cell_type": "code",
   "execution_count": 43,
   "id": "global-alloy",
   "metadata": {
    "ExecuteTime": {
     "end_time": "2021-05-11T13:19:24.654788Z",
     "start_time": "2021-05-11T13:19:24.466283Z"
    }
   },
   "outputs": [
    {
     "name": "stdout",
     "output_type": "stream",
     "text": [
      "Answer shape KerasTensor(type_spec=TensorSpec(shape=(None, 5, 120), dtype=tf.float32, name=None), name='concatenate_1/concat:0', description=\"created by layer 'concatenate_1'\")\n"
     ]
    }
   ],
   "source": [
    "# concatenate the response vector with the question vector sequence\n",
    "answer = concatenate([response, question_encoded])\n",
    "print('Answer shape', answer)\n",
    " \n",
    "answer = LSTM(lstm_size)(answer)  # Generate tensors of shape 32\n",
    "answer = Dropout(dropout_rate)(answer)\n",
    "answer = Dense(vocab_size)(answer)  # (samples, vocab_size)\n",
    "# we output a probability distribution over the vocabulary\n",
    "answer = Activation('softmax')(answer)"
   ]
  },
  {
   "cell_type": "markdown",
   "id": "random-scientist",
   "metadata": {},
   "source": [
    "---"
   ]
  },
  {
   "cell_type": "markdown",
   "id": "sitting-duncan",
   "metadata": {},
   "source": [
    "# Step 3. 한국어에서의 모델 정확도 확인해보기"
   ]
  },
  {
   "cell_type": "markdown",
   "id": "architectural-geology",
   "metadata": {},
   "source": [
    "앞서 만든 메모리 네트워크는 영어권 데이터에서는 보편적으로 약 96% 이상의 높은 성능을 보입니다. 하이퍼파라미터를 잘 조정하면 이보다 더 높은 정확도가 나오기도 합니다. 그렇다면 메모리 네트워크가 한국어에서도 영어만큼 잘 동작할까요? 직접 확인해 봅시다."
   ]
  },
  {
   "cell_type": "markdown",
   "id": "oriental-cooling",
   "metadata": {},
   "source": [
    "## 모델 학습"
   ]
  },
  {
   "cell_type": "code",
   "execution_count": 44,
   "id": "familiar-backing",
   "metadata": {
    "ExecuteTime": {
     "end_time": "2021-05-11T13:22:11.942566Z",
     "start_time": "2021-05-11T13:19:24.656546Z"
    }
   },
   "outputs": [
    {
     "name": "stdout",
     "output_type": "stream",
     "text": [
      "Epoch 1/150\n",
      "313/313 [==============================] - 4s 6ms/step - loss: 2.0013 - acc: 0.1734 - val_loss: 1.7936 - val_acc: 0.1540\n",
      "Epoch 2/150\n",
      "313/313 [==============================] - 1s 4ms/step - loss: 1.7525 - acc: 0.2199 - val_loss: 1.6143 - val_acc: 0.3070\n",
      "Epoch 3/150\n",
      "313/313 [==============================] - 1s 4ms/step - loss: 1.5876 - acc: 0.3286 - val_loss: 1.5499 - val_acc: 0.3680\n",
      "Epoch 4/150\n",
      "313/313 [==============================] - 1s 4ms/step - loss: 1.4901 - acc: 0.3864 - val_loss: 1.4357 - val_acc: 0.4340\n",
      "Epoch 5/150\n",
      "313/313 [==============================] - 1s 4ms/step - loss: 1.4387 - acc: 0.4216 - val_loss: 1.4025 - val_acc: 0.4710\n",
      "Epoch 6/150\n",
      "313/313 [==============================] - 1s 3ms/step - loss: 1.3810 - acc: 0.4565 - val_loss: 1.3551 - val_acc: 0.4710\n",
      "Epoch 7/150\n",
      "313/313 [==============================] - 1s 3ms/step - loss: 1.3228 - acc: 0.4937 - val_loss: 1.3198 - val_acc: 0.4930\n",
      "Epoch 8/150\n",
      "313/313 [==============================] - 1s 3ms/step - loss: 1.2654 - acc: 0.5169 - val_loss: 1.2695 - val_acc: 0.5020\n",
      "Epoch 9/150\n",
      "313/313 [==============================] - 1s 4ms/step - loss: 1.2452 - acc: 0.4995 - val_loss: 1.2877 - val_acc: 0.4870\n",
      "Epoch 10/150\n",
      "313/313 [==============================] - 1s 3ms/step - loss: 1.2231 - acc: 0.5184 - val_loss: 1.2229 - val_acc: 0.5190\n",
      "Epoch 11/150\n",
      "313/313 [==============================] - 1s 4ms/step - loss: 1.1748 - acc: 0.5313 - val_loss: 1.1987 - val_acc: 0.5200\n",
      "Epoch 12/150\n",
      "313/313 [==============================] - 1s 4ms/step - loss: 1.1798 - acc: 0.5216 - val_loss: 1.2020 - val_acc: 0.5200\n",
      "Epoch 13/150\n",
      "313/313 [==============================] - 1s 4ms/step - loss: 1.1646 - acc: 0.5363 - val_loss: 1.2166 - val_acc: 0.5200\n",
      "Epoch 14/150\n",
      "313/313 [==============================] - 1s 4ms/step - loss: 1.1277 - acc: 0.5362 - val_loss: 1.2003 - val_acc: 0.5120\n",
      "Epoch 15/150\n",
      "313/313 [==============================] - 1s 3ms/step - loss: 1.1188 - acc: 0.5410 - val_loss: 1.1852 - val_acc: 0.5110\n",
      "Epoch 16/150\n",
      "313/313 [==============================] - 1s 4ms/step - loss: 1.1063 - acc: 0.5408 - val_loss: 1.1743 - val_acc: 0.5240\n",
      "Epoch 17/150\n",
      "313/313 [==============================] - 1s 4ms/step - loss: 1.1022 - acc: 0.5505 - val_loss: 1.1939 - val_acc: 0.5120\n",
      "Epoch 18/150\n",
      "313/313 [==============================] - 1s 4ms/step - loss: 1.0993 - acc: 0.5465 - val_loss: 1.1545 - val_acc: 0.5390\n",
      "Epoch 19/150\n",
      "313/313 [==============================] - 1s 4ms/step - loss: 1.0686 - acc: 0.5644 - val_loss: 1.1550 - val_acc: 0.5170\n",
      "Epoch 20/150\n",
      "313/313 [==============================] - 1s 4ms/step - loss: 1.0736 - acc: 0.5513 - val_loss: 1.1854 - val_acc: 0.5120\n",
      "Epoch 21/150\n",
      "313/313 [==============================] - 1s 4ms/step - loss: 1.0608 - acc: 0.5508 - val_loss: 1.1839 - val_acc: 0.5090\n",
      "Epoch 22/150\n",
      "313/313 [==============================] - 1s 3ms/step - loss: 1.0480 - acc: 0.5622 - val_loss: 1.1505 - val_acc: 0.5310\n",
      "Epoch 23/150\n",
      "313/313 [==============================] - 1s 3ms/step - loss: 1.0490 - acc: 0.5581 - val_loss: 1.1567 - val_acc: 0.5290\n",
      "Epoch 24/150\n",
      "313/313 [==============================] - 1s 3ms/step - loss: 1.0267 - acc: 0.5722 - val_loss: 1.1635 - val_acc: 0.5190\n",
      "Epoch 25/150\n",
      "313/313 [==============================] - 1s 3ms/step - loss: 1.0265 - acc: 0.5618 - val_loss: 1.1561 - val_acc: 0.5100\n",
      "Epoch 26/150\n",
      "313/313 [==============================] - 1s 3ms/step - loss: 1.0101 - acc: 0.5645 - val_loss: 1.1849 - val_acc: 0.5160\n",
      "Epoch 27/150\n",
      "313/313 [==============================] - 1s 3ms/step - loss: 1.0137 - acc: 0.5609 - val_loss: 1.2149 - val_acc: 0.5120\n",
      "Epoch 28/150\n",
      "313/313 [==============================] - 1s 4ms/step - loss: 0.9845 - acc: 0.5845 - val_loss: 1.1533 - val_acc: 0.5140\n",
      "Epoch 29/150\n",
      "313/313 [==============================] - 1s 3ms/step - loss: 0.9791 - acc: 0.5898 - val_loss: 1.1953 - val_acc: 0.4990\n",
      "Epoch 30/150\n",
      "313/313 [==============================] - 1s 4ms/step - loss: 0.9726 - acc: 0.5935 - val_loss: 1.1917 - val_acc: 0.5010\n",
      "Epoch 31/150\n",
      "313/313 [==============================] - 1s 4ms/step - loss: 0.9659 - acc: 0.5934 - val_loss: 1.1873 - val_acc: 0.5110\n",
      "Epoch 32/150\n",
      "313/313 [==============================] - 1s 4ms/step - loss: 0.9487 - acc: 0.5975 - val_loss: 1.2005 - val_acc: 0.5020\n",
      "Epoch 33/150\n",
      "313/313 [==============================] - 1s 3ms/step - loss: 0.9466 - acc: 0.5994 - val_loss: 1.1910 - val_acc: 0.5070\n",
      "Epoch 34/150\n",
      "313/313 [==============================] - 1s 3ms/step - loss: 0.9279 - acc: 0.6082 - val_loss: 1.2164 - val_acc: 0.4980\n",
      "Epoch 35/150\n",
      "313/313 [==============================] - 1s 4ms/step - loss: 0.9060 - acc: 0.6185 - val_loss: 1.1752 - val_acc: 0.5270\n",
      "Epoch 36/150\n",
      "313/313 [==============================] - 1s 4ms/step - loss: 0.8863 - acc: 0.6369 - val_loss: 1.1527 - val_acc: 0.5490\n",
      "Epoch 37/150\n",
      "313/313 [==============================] - 1s 4ms/step - loss: 0.8169 - acc: 0.6640 - val_loss: 0.9908 - val_acc: 0.6130\n",
      "Epoch 38/150\n",
      "313/313 [==============================] - 1s 4ms/step - loss: 0.7038 - acc: 0.7392 - val_loss: 0.8453 - val_acc: 0.6990\n",
      "Epoch 39/150\n",
      "313/313 [==============================] - 1s 4ms/step - loss: 0.5699 - acc: 0.7940 - val_loss: 0.7668 - val_acc: 0.7230\n",
      "Epoch 40/150\n",
      "313/313 [==============================] - 1s 4ms/step - loss: 0.5126 - acc: 0.8123 - val_loss: 0.7545 - val_acc: 0.7240\n",
      "Epoch 41/150\n",
      "313/313 [==============================] - 1s 3ms/step - loss: 0.4876 - acc: 0.8163 - val_loss: 0.7310 - val_acc: 0.7360\n",
      "Epoch 42/150\n",
      "313/313 [==============================] - 1s 4ms/step - loss: 0.4506 - acc: 0.8326 - val_loss: 0.6953 - val_acc: 0.7400\n",
      "Epoch 43/150\n",
      "313/313 [==============================] - 1s 3ms/step - loss: 0.4223 - acc: 0.8428 - val_loss: 0.6796 - val_acc: 0.7430\n",
      "Epoch 44/150\n",
      "313/313 [==============================] - 1s 3ms/step - loss: 0.3959 - acc: 0.8498 - val_loss: 0.6630 - val_acc: 0.7570\n",
      "Epoch 45/150\n",
      "313/313 [==============================] - 1s 3ms/step - loss: 0.3843 - acc: 0.8605 - val_loss: 0.6154 - val_acc: 0.7780\n",
      "Epoch 46/150\n",
      "313/313 [==============================] - 1s 3ms/step - loss: 0.3398 - acc: 0.8741 - val_loss: 0.5864 - val_acc: 0.7910\n",
      "Epoch 47/150\n",
      "313/313 [==============================] - 1s 3ms/step - loss: 0.2956 - acc: 0.8968 - val_loss: 0.5271 - val_acc: 0.8060\n",
      "Epoch 48/150\n",
      "313/313 [==============================] - 1s 3ms/step - loss: 0.2753 - acc: 0.9024 - val_loss: 0.5139 - val_acc: 0.8170\n",
      "Epoch 49/150\n",
      "313/313 [==============================] - 1s 3ms/step - loss: 0.2623 - acc: 0.9026 - val_loss: 0.5420 - val_acc: 0.8110\n",
      "Epoch 50/150\n",
      "313/313 [==============================] - 1s 3ms/step - loss: 0.2340 - acc: 0.9159 - val_loss: 0.4832 - val_acc: 0.8380\n",
      "Epoch 51/150\n",
      "313/313 [==============================] - 1s 3ms/step - loss: 0.2265 - acc: 0.9192 - val_loss: 0.4771 - val_acc: 0.8400\n",
      "Epoch 52/150\n",
      "313/313 [==============================] - 1s 3ms/step - loss: 0.2035 - acc: 0.9206 - val_loss: 0.4837 - val_acc: 0.8350\n",
      "Epoch 53/150\n",
      "313/313 [==============================] - 1s 3ms/step - loss: 0.1864 - acc: 0.9316 - val_loss: 0.4969 - val_acc: 0.8350\n",
      "Epoch 54/150\n",
      "313/313 [==============================] - 1s 3ms/step - loss: 0.1680 - acc: 0.9420 - val_loss: 0.4694 - val_acc: 0.8460\n",
      "Epoch 55/150\n",
      "313/313 [==============================] - 1s 4ms/step - loss: 0.1585 - acc: 0.9443 - val_loss: 0.4728 - val_acc: 0.8500\n",
      "Epoch 56/150\n",
      "313/313 [==============================] - 1s 3ms/step - loss: 0.1562 - acc: 0.9464 - val_loss: 0.4533 - val_acc: 0.8580\n",
      "Epoch 57/150\n",
      "313/313 [==============================] - 1s 3ms/step - loss: 0.1346 - acc: 0.9515 - val_loss: 0.4474 - val_acc: 0.8590\n",
      "Epoch 58/150\n",
      "313/313 [==============================] - 1s 3ms/step - loss: 0.1283 - acc: 0.9546 - val_loss: 0.4325 - val_acc: 0.8680\n",
      "Epoch 59/150\n",
      "313/313 [==============================] - 1s 4ms/step - loss: 0.1309 - acc: 0.9540 - val_loss: 0.4384 - val_acc: 0.8780\n",
      "Epoch 60/150\n",
      "313/313 [==============================] - 1s 3ms/step - loss: 0.1068 - acc: 0.9622 - val_loss: 0.4014 - val_acc: 0.8810\n",
      "Epoch 61/150\n",
      "313/313 [==============================] - 1s 3ms/step - loss: 0.1027 - acc: 0.9649 - val_loss: 0.4228 - val_acc: 0.8760\n",
      "Epoch 62/150\n"
     ]
    },
    {
     "name": "stdout",
     "output_type": "stream",
     "text": [
      "313/313 [==============================] - 1s 3ms/step - loss: 0.0905 - acc: 0.9689 - val_loss: 0.4156 - val_acc: 0.8890\n",
      "Epoch 63/150\n",
      "313/313 [==============================] - 1s 3ms/step - loss: 0.0950 - acc: 0.9690 - val_loss: 0.4111 - val_acc: 0.8890\n",
      "Epoch 64/150\n",
      "313/313 [==============================] - 1s 3ms/step - loss: 0.0810 - acc: 0.9734 - val_loss: 0.3981 - val_acc: 0.8860\n",
      "Epoch 65/150\n",
      "313/313 [==============================] - 1s 3ms/step - loss: 0.0706 - acc: 0.9760 - val_loss: 0.3975 - val_acc: 0.8950\n",
      "Epoch 66/150\n",
      "313/313 [==============================] - 1s 4ms/step - loss: 0.0711 - acc: 0.9778 - val_loss: 0.4026 - val_acc: 0.8990\n",
      "Epoch 67/150\n",
      "313/313 [==============================] - 1s 3ms/step - loss: 0.0654 - acc: 0.9806 - val_loss: 0.3798 - val_acc: 0.9020\n",
      "Epoch 68/150\n",
      "313/313 [==============================] - 1s 3ms/step - loss: 0.0669 - acc: 0.9771 - val_loss: 0.3643 - val_acc: 0.9000\n",
      "Epoch 69/150\n",
      "313/313 [==============================] - 1s 3ms/step - loss: 0.0491 - acc: 0.9852 - val_loss: 0.3652 - val_acc: 0.9050\n",
      "Epoch 70/150\n",
      "313/313 [==============================] - 1s 3ms/step - loss: 0.0535 - acc: 0.9839 - val_loss: 0.3671 - val_acc: 0.9040\n",
      "Epoch 71/150\n",
      "313/313 [==============================] - 1s 3ms/step - loss: 0.0506 - acc: 0.9838 - val_loss: 0.3744 - val_acc: 0.9070\n",
      "Epoch 72/150\n",
      "313/313 [==============================] - 1s 3ms/step - loss: 0.0506 - acc: 0.9833 - val_loss: 0.3549 - val_acc: 0.9100\n",
      "Epoch 73/150\n",
      "313/313 [==============================] - 1s 3ms/step - loss: 0.0419 - acc: 0.9866 - val_loss: 0.3747 - val_acc: 0.9120\n",
      "Epoch 74/150\n",
      "313/313 [==============================] - 1s 3ms/step - loss: 0.0391 - acc: 0.9884 - val_loss: 0.3764 - val_acc: 0.9170\n",
      "Epoch 75/150\n",
      "313/313 [==============================] - 1s 3ms/step - loss: 0.0307 - acc: 0.9896 - val_loss: 0.4950 - val_acc: 0.8970\n",
      "Epoch 76/150\n",
      "313/313 [==============================] - 1s 3ms/step - loss: 0.0326 - acc: 0.9898 - val_loss: 0.3471 - val_acc: 0.9140\n",
      "Epoch 77/150\n",
      "313/313 [==============================] - 1s 3ms/step - loss: 0.0397 - acc: 0.9874 - val_loss: 0.3375 - val_acc: 0.9160\n",
      "Epoch 78/150\n",
      "313/313 [==============================] - 1s 3ms/step - loss: 0.0292 - acc: 0.9916 - val_loss: 0.3349 - val_acc: 0.9250\n",
      "Epoch 79/150\n",
      "313/313 [==============================] - 1s 3ms/step - loss: 0.0328 - acc: 0.9898 - val_loss: 0.3344 - val_acc: 0.9270\n",
      "Epoch 80/150\n",
      "313/313 [==============================] - 1s 3ms/step - loss: 0.0335 - acc: 0.9924 - val_loss: 0.3673 - val_acc: 0.9170\n",
      "Epoch 81/150\n",
      "313/313 [==============================] - 1s 4ms/step - loss: 0.0345 - acc: 0.9860 - val_loss: 0.3734 - val_acc: 0.9190\n",
      "Epoch 82/150\n",
      "313/313 [==============================] - 1s 3ms/step - loss: 0.0264 - acc: 0.9900 - val_loss: 0.3909 - val_acc: 0.9210\n",
      "Epoch 83/150\n",
      "313/313 [==============================] - 1s 3ms/step - loss: 0.0257 - acc: 0.9925 - val_loss: 0.3505 - val_acc: 0.9210\n",
      "Epoch 84/150\n",
      "313/313 [==============================] - 1s 3ms/step - loss: 0.0256 - acc: 0.9913 - val_loss: 0.4007 - val_acc: 0.9210\n",
      "Epoch 85/150\n",
      "313/313 [==============================] - 1s 4ms/step - loss: 0.0218 - acc: 0.9938 - val_loss: 0.3742 - val_acc: 0.9270\n",
      "Epoch 86/150\n",
      "313/313 [==============================] - 1s 3ms/step - loss: 0.0273 - acc: 0.9917 - val_loss: 0.3970 - val_acc: 0.9240\n",
      "Epoch 87/150\n",
      "313/313 [==============================] - 1s 3ms/step - loss: 0.0241 - acc: 0.9918 - val_loss: 0.3812 - val_acc: 0.9290\n",
      "Epoch 88/150\n",
      "313/313 [==============================] - 1s 3ms/step - loss: 0.0235 - acc: 0.9927 - val_loss: 0.3767 - val_acc: 0.9310\n",
      "Epoch 89/150\n",
      "313/313 [==============================] - 1s 3ms/step - loss: 0.0200 - acc: 0.9939 - val_loss: 0.3814 - val_acc: 0.9290\n",
      "Epoch 90/150\n",
      "313/313 [==============================] - 1s 3ms/step - loss: 0.0177 - acc: 0.9942 - val_loss: 0.4066 - val_acc: 0.9220\n",
      "Epoch 91/150\n",
      "313/313 [==============================] - 1s 3ms/step - loss: 0.0240 - acc: 0.9934 - val_loss: 0.3821 - val_acc: 0.9240\n",
      "Epoch 92/150\n",
      "313/313 [==============================] - 1s 3ms/step - loss: 0.0222 - acc: 0.9933 - val_loss: 0.3667 - val_acc: 0.9270\n",
      "Epoch 93/150\n",
      "313/313 [==============================] - 1s 3ms/step - loss: 0.0165 - acc: 0.9943 - val_loss: 0.4143 - val_acc: 0.9220\n",
      "Epoch 94/150\n",
      "313/313 [==============================] - 1s 3ms/step - loss: 0.0189 - acc: 0.9944 - val_loss: 0.3445 - val_acc: 0.9360\n",
      "Epoch 95/150\n",
      "313/313 [==============================] - 1s 3ms/step - loss: 0.0198 - acc: 0.9941 - val_loss: 0.3783 - val_acc: 0.9350\n",
      "Epoch 96/150\n",
      "313/313 [==============================] - 1s 3ms/step - loss: 0.0202 - acc: 0.9928 - val_loss: 0.3987 - val_acc: 0.9300\n",
      "Epoch 97/150\n",
      "313/313 [==============================] - 1s 3ms/step - loss: 0.0167 - acc: 0.9954 - val_loss: 0.3606 - val_acc: 0.9360\n",
      "Epoch 98/150\n",
      "313/313 [==============================] - 1s 3ms/step - loss: 0.0160 - acc: 0.9951 - val_loss: 0.3604 - val_acc: 0.9330\n",
      "Epoch 99/150\n",
      "313/313 [==============================] - 1s 3ms/step - loss: 0.0125 - acc: 0.9959 - val_loss: 0.3919 - val_acc: 0.9310\n",
      "Epoch 100/150\n",
      "313/313 [==============================] - 1s 3ms/step - loss: 0.0174 - acc: 0.9949 - val_loss: 0.3493 - val_acc: 0.9350\n",
      "Epoch 101/150\n",
      "313/313 [==============================] - 1s 3ms/step - loss: 0.0117 - acc: 0.9966 - val_loss: 0.3259 - val_acc: 0.9330\n",
      "Epoch 102/150\n",
      "313/313 [==============================] - 1s 3ms/step - loss: 0.0130 - acc: 0.9965 - val_loss: 0.3395 - val_acc: 0.9370\n",
      "Epoch 103/150\n",
      "313/313 [==============================] - 1s 3ms/step - loss: 0.0170 - acc: 0.9943 - val_loss: 0.3467 - val_acc: 0.9370\n",
      "Epoch 104/150\n",
      "313/313 [==============================] - 1s 3ms/step - loss: 0.0094 - acc: 0.9973 - val_loss: 0.3675 - val_acc: 0.9320\n",
      "Epoch 105/150\n",
      "313/313 [==============================] - 1s 3ms/step - loss: 0.0142 - acc: 0.9949 - val_loss: 0.3924 - val_acc: 0.9370\n",
      "Epoch 106/150\n",
      "313/313 [==============================] - 1s 3ms/step - loss: 0.0142 - acc: 0.9943 - val_loss: 0.3561 - val_acc: 0.9400\n",
      "Epoch 107/150\n",
      "313/313 [==============================] - 1s 3ms/step - loss: 0.0122 - acc: 0.9962 - val_loss: 0.3634 - val_acc: 0.9340\n",
      "Epoch 108/150\n",
      "313/313 [==============================] - 1s 3ms/step - loss: 0.0086 - acc: 0.9967 - val_loss: 0.3523 - val_acc: 0.9380\n",
      "Epoch 109/150\n",
      "313/313 [==============================] - 1s 4ms/step - loss: 0.0080 - acc: 0.9982 - val_loss: 0.3531 - val_acc: 0.9420\n",
      "Epoch 110/150\n",
      "313/313 [==============================] - 1s 3ms/step - loss: 0.0071 - acc: 0.9981 - val_loss: 0.3916 - val_acc: 0.9290\n",
      "Epoch 111/150\n",
      "313/313 [==============================] - 1s 4ms/step - loss: 0.0113 - acc: 0.9951 - val_loss: 0.3704 - val_acc: 0.9350\n",
      "Epoch 112/150\n",
      "313/313 [==============================] - 1s 3ms/step - loss: 0.0178 - acc: 0.9964 - val_loss: 0.3940 - val_acc: 0.9370\n",
      "Epoch 113/150\n",
      "313/313 [==============================] - 1s 3ms/step - loss: 0.0103 - acc: 0.9967 - val_loss: 0.3641 - val_acc: 0.9430\n",
      "Epoch 114/150\n",
      "313/313 [==============================] - 1s 3ms/step - loss: 0.0094 - acc: 0.9968 - val_loss: 0.4162 - val_acc: 0.9280\n",
      "Epoch 115/150\n",
      "313/313 [==============================] - 1s 3ms/step - loss: 0.0136 - acc: 0.9952 - val_loss: 0.3481 - val_acc: 0.9380\n",
      "Epoch 116/150\n",
      "313/313 [==============================] - 1s 3ms/step - loss: 0.0074 - acc: 0.9979 - val_loss: 0.3545 - val_acc: 0.9410\n",
      "Epoch 117/150\n",
      "313/313 [==============================] - 1s 3ms/step - loss: 0.0205 - acc: 0.9948 - val_loss: 0.3857 - val_acc: 0.9350\n",
      "Epoch 118/150\n",
      "313/313 [==============================] - 1s 3ms/step - loss: 0.0112 - acc: 0.9963 - val_loss: 0.3544 - val_acc: 0.9380\n",
      "Epoch 119/150\n",
      "313/313 [==============================] - 1s 3ms/step - loss: 0.0084 - acc: 0.9979 - val_loss: 0.3480 - val_acc: 0.9350\n",
      "Epoch 120/150\n",
      "313/313 [==============================] - 1s 3ms/step - loss: 0.0069 - acc: 0.9978 - val_loss: 0.3578 - val_acc: 0.9370\n",
      "Epoch 121/150\n",
      "313/313 [==============================] - 1s 3ms/step - loss: 0.0091 - acc: 0.9973 - val_loss: 0.3700 - val_acc: 0.9420\n",
      "Epoch 122/150\n",
      "313/313 [==============================] - 1s 3ms/step - loss: 0.0136 - acc: 0.9972 - val_loss: 0.3727 - val_acc: 0.9380\n",
      "Epoch 123/150\n"
     ]
    },
    {
     "name": "stdout",
     "output_type": "stream",
     "text": [
      "313/313 [==============================] - 1s 3ms/step - loss: 0.0206 - acc: 0.9942 - val_loss: 0.3498 - val_acc: 0.9330\n",
      "Epoch 124/150\n",
      "313/313 [==============================] - 1s 3ms/step - loss: 0.0085 - acc: 0.9972 - val_loss: 0.3265 - val_acc: 0.9440\n",
      "Epoch 125/150\n",
      "313/313 [==============================] - 1s 3ms/step - loss: 0.0135 - acc: 0.9962 - val_loss: 0.3296 - val_acc: 0.9420\n",
      "Epoch 126/150\n",
      "313/313 [==============================] - 1s 3ms/step - loss: 0.0070 - acc: 0.9978 - val_loss: 0.3434 - val_acc: 0.9440\n",
      "Epoch 127/150\n",
      "313/313 [==============================] - 1s 3ms/step - loss: 0.0083 - acc: 0.9980 - val_loss: 0.3785 - val_acc: 0.9410\n",
      "Epoch 128/150\n",
      "313/313 [==============================] - 1s 3ms/step - loss: 0.0107 - acc: 0.9971 - val_loss: 0.3653 - val_acc: 0.9460\n",
      "Epoch 129/150\n",
      "313/313 [==============================] - 1s 3ms/step - loss: 0.0063 - acc: 0.9983 - val_loss: 0.3645 - val_acc: 0.9390\n",
      "Epoch 130/150\n",
      "313/313 [==============================] - 1s 3ms/step - loss: 0.0110 - acc: 0.9957 - val_loss: 0.4226 - val_acc: 0.9380\n",
      "Epoch 131/150\n",
      "313/313 [==============================] - 1s 3ms/step - loss: 0.0072 - acc: 0.9981 - val_loss: 0.3852 - val_acc: 0.9450\n",
      "Epoch 132/150\n",
      "313/313 [==============================] - 1s 3ms/step - loss: 0.0086 - acc: 0.9972 - val_loss: 0.3661 - val_acc: 0.9450\n",
      "Epoch 133/150\n",
      "313/313 [==============================] - 1s 3ms/step - loss: 0.0246 - acc: 0.9958 - val_loss: 0.3854 - val_acc: 0.9470\n",
      "Epoch 134/150\n",
      "313/313 [==============================] - 1s 3ms/step - loss: 0.0080 - acc: 0.9974 - val_loss: 0.4359 - val_acc: 0.9420\n",
      "Epoch 135/150\n",
      "313/313 [==============================] - 1s 4ms/step - loss: 0.0087 - acc: 0.9974 - val_loss: 0.3830 - val_acc: 0.9410\n",
      "Epoch 136/150\n",
      "313/313 [==============================] - 1s 3ms/step - loss: 0.0075 - acc: 0.9970 - val_loss: 0.3835 - val_acc: 0.9450\n",
      "Epoch 137/150\n",
      "313/313 [==============================] - 1s 3ms/step - loss: 0.0070 - acc: 0.9970 - val_loss: 0.3561 - val_acc: 0.9480\n",
      "Epoch 138/150\n",
      "313/313 [==============================] - 1s 3ms/step - loss: 0.0096 - acc: 0.9967 - val_loss: 0.3733 - val_acc: 0.9430\n",
      "Epoch 139/150\n",
      "313/313 [==============================] - 1s 4ms/step - loss: 0.0049 - acc: 0.9985 - val_loss: 0.3756 - val_acc: 0.9430\n",
      "Epoch 140/150\n",
      "313/313 [==============================] - 1s 3ms/step - loss: 0.0078 - acc: 0.9980 - val_loss: 0.3926 - val_acc: 0.9400\n",
      "Epoch 141/150\n",
      "313/313 [==============================] - 1s 3ms/step - loss: 0.0124 - acc: 0.9976 - val_loss: 0.3954 - val_acc: 0.9390\n",
      "Epoch 142/150\n",
      "313/313 [==============================] - 1s 3ms/step - loss: 0.0074 - acc: 0.9976 - val_loss: 0.3685 - val_acc: 0.9470\n",
      "Epoch 143/150\n",
      "313/313 [==============================] - 1s 3ms/step - loss: 0.0063 - acc: 0.9976 - val_loss: 0.3527 - val_acc: 0.9490\n",
      "Epoch 144/150\n",
      "313/313 [==============================] - 1s 3ms/step - loss: 0.0060 - acc: 0.9981 - val_loss: 0.3592 - val_acc: 0.9460\n",
      "Epoch 145/150\n",
      "313/313 [==============================] - 1s 3ms/step - loss: 0.0055 - acc: 0.9986 - val_loss: 0.3904 - val_acc: 0.9410\n",
      "Epoch 146/150\n",
      "313/313 [==============================] - 1s 3ms/step - loss: 0.0043 - acc: 0.9991 - val_loss: 0.3969 - val_acc: 0.9440\n",
      "Epoch 147/150\n",
      "313/313 [==============================] - 1s 3ms/step - loss: 0.0090 - acc: 0.9975 - val_loss: 0.3813 - val_acc: 0.9420\n",
      "Epoch 148/150\n",
      "313/313 [==============================] - 1s 4ms/step - loss: 0.0040 - acc: 0.9991 - val_loss: 0.3859 - val_acc: 0.9410\n",
      "Epoch 149/150\n",
      "313/313 [==============================] - 1s 3ms/step - loss: 0.0050 - acc: 0.9989 - val_loss: 0.3795 - val_acc: 0.9450\n",
      "Epoch 150/150\n",
      "313/313 [==============================] - 1s 3ms/step - loss: 0.0039 - acc: 0.9985 - val_loss: 0.3963 - val_acc: 0.9440\n"
     ]
    }
   ],
   "source": [
    "# 모델 컴파일\n",
    "model = Model([input_sequence, question], answer)\n",
    "model.compile(optimizer='rmsprop', loss='categorical_crossentropy',\n",
    "              metrics=['acc'])\n",
    " \n",
    "# 테스트 데이터를 검증 데이터로 사용하면서 모델 훈련 시작\n",
    "history = model.fit([Xstrain, Xqtrain],\n",
    "         Ytrain, batch_size, train_epochs,\n",
    "         validation_data=([Xstest, Xqtest], Ytest))\n",
    " \n",
    "# 훈련 후에는 모델 저장\n",
    "model_path = os.getenv('HOME')+'/aiffel/babi_memory_net/model_ko.h5'\n",
    "model.save(model_path)"
   ]
  },
  {
   "cell_type": "code",
   "execution_count": 45,
   "id": "approximate-fault",
   "metadata": {
    "ExecuteTime": {
     "end_time": "2021-05-11T13:22:12.056120Z",
     "start_time": "2021-05-11T13:22:11.944506Z"
    }
   },
   "outputs": [
    {
     "name": "stdout",
     "output_type": "stream",
     "text": [
      "32/32 [==============================] - 0s 2ms/step - loss: 0.3963 - acc: 0.9440\n",
      "\n",
      " 테스트 정확도: 0.9440\n"
     ]
    }
   ],
   "source": [
    "# 테스트 정확도 출력\n",
    "print(\"\\n 테스트 정확도: %.4f\" % (model.evaluate([Xstest, Xqtest], Ytest)[1]))"
   ]
  },
  {
   "cell_type": "markdown",
   "id": "active-panel",
   "metadata": {},
   "source": [
    "## 시각화"
   ]
  },
  {
   "cell_type": "code",
   "execution_count": 46,
   "id": "distant-february",
   "metadata": {
    "ExecuteTime": {
     "end_time": "2021-05-11T13:22:12.614632Z",
     "start_time": "2021-05-11T13:22:12.057787Z"
    }
   },
   "outputs": [
    {
     "data": {
      "image/png": "[encoded data removed]",
      "text/plain": [
       "<Figure size 432x288 with 2 Axes>"
      ]
     },
     "metadata": {
      "needs_background": "light"
     },
     "output_type": "display_data"
    }
   ],
   "source": [
    "# plot accuracy and loss plot\n",
    "plt.subplot(211)\n",
    "plt.title(\"Accuracy\")\n",
    "plt.plot(history.history[\"acc\"], color=\"g\", label=\"train\")\n",
    "plt.plot(history.history[\"val_acc\"], color=\"b\", label=\"validation\")\n",
    "plt.legend(loc=\"best\")\n",
    "\n",
    "plt.subplot(212)\n",
    "plt.title(\"Loss\")\n",
    "plt.plot(history.history[\"loss\"], color=\"g\", label=\"train\")\n",
    "plt.plot(history.history[\"val_loss\"], color=\"b\", label=\"validation\")\n",
    "plt.legend(loc=\"best\")\n",
    "\n",
    "plt.tight_layout()\n",
    "plt.show()\n",
    "\n",
    "# labels\n",
    "ytest = np.argmax(Ytest, axis=1)\n",
    "\n",
    "# get predictions\n",
    "Ytest_ = model.predict([Xstest, Xqtest])\n",
    "ytest_ = np.argmax(Ytest_, axis=1)"
   ]
  },
  {
   "cell_type": "code",
   "execution_count": 47,
   "id": "protected-kingston",
   "metadata": {
    "ExecuteTime": {
     "end_time": "2021-05-11T13:22:12.622853Z",
     "start_time": "2021-05-11T13:22:12.615856Z"
    }
   },
   "outputs": [
    {
     "name": "stdout",
     "output_type": "stream",
     "text": [
      "질문                  |실제값    |예측값\n",
      "---------------------------------------\n",
      "은경이 는 어디 야 ?        : 복도       복도\n",
      "필웅이 는 어디 야 ?        : 화장실      화장실\n",
      "경임이 는 어디 야 ?        : 부엌       부엌\n",
      "경임이 는 어디 야 ?        : 복도       복도\n",
      "경임이 는 어디 야 ?        : 부엌       부엌\n",
      "경임이 는 어디 야 ?        : 복도       복도\n",
      "경임이 는 어디 야 ?        : 정원       정원\n",
      "수종이 는 어디 야 ?        : 복도       복도\n",
      "경임이 는 어디 야 ?        : 사무실      사무실\n",
      "수종이 는 어디 야 ?        : 사무실      정원\n",
      "필웅이 는 어디 야 ?        : 부엌       부엌\n",
      "필웅이 는 어디 야 ?        : 정원       정원\n",
      "수종이 는 어디 야 ?        : 사무실      사무실\n",
      "필웅이 는 어디 야 ?        : 침실       침실\n",
      "필웅이 는 어디 야 ?        : 침실       침실\n",
      "은경이 는 어디 야 ?        : 부엌       부엌\n",
      "은경이 는 어디 야 ?        : 정원       정원\n",
      "은경이 는 어디 야 ?        : 부엌       부엌\n",
      "수종이 는 어디 야 ?        : 사무실      사무실\n",
      "은경이 는 어디 야 ?        : 부엌       복도\n",
      "필웅이 는 어디 야 ?        : 복도       복도\n",
      "은경이 는 어디 야 ?        : 사무실      사무실\n",
      "은경이 는 어디 야 ?        : 사무실      사무실\n",
      "경임이 는 어디 야 ?        : 복도       복도\n",
      "수종이 는 어디 야 ?        : 침실       침실\n",
      "경임이 는 어디 야 ?        : 침실       침실\n",
      "필웅이 는 어디 야 ?        : 침실       침실\n",
      "수종이 는 어디 야 ?        : 부엌       부엌\n",
      "수종이 는 어디 야 ?        : 부엌       부엌\n",
      "수종이 는 어디 야 ?        : 부엌       정원\n"
     ]
    }
   ],
   "source": [
    "# 임의로 30개의 예측 결과 출력\n",
    "NUM_DISPLAY = 30\n",
    "\n",
    "print(\"{:20}|{:7}|{}\".format(\"질문\", \"실제값\", \"예측값\"))\n",
    "print(39 * \"-\")\n",
    "\n",
    "for i in range(NUM_DISPLAY):\n",
    "    question = \" \".join([idx2word[x] for x in Xqtest[i].tolist()])\n",
    "    label = idx2word[ytest[i]]\n",
    "    prediction = idx2word[ytest_[i]]\n",
    "    print(\"{:20}: {:8} {}\".format(question, label, prediction))"
   ]
  },
  {
   "cell_type": "markdown",
   "id": "characteristic-perfume",
   "metadata": {},
   "source": [
    "---"
   ]
  },
  {
   "cell_type": "markdown",
   "id": "fatal-stage",
   "metadata": {},
   "source": [
    "# 루브릭"
   ]
  },
  {
   "cell_type": "markdown",
   "id": "constant-spiritual",
   "metadata": {},
   "source": [
    "__1. 한국어의 특성에 알맞게 전처리가 진행되었다.__  "
   ]
  },
  {
   "cell_type": "markdown",
   "id": "powerful-underground",
   "metadata": {},
   "source": [
    "- 한국어 특성에 따른 토큰화, 임베딩을 거쳐 데이터셋이 적절히 구성되었다.\n",
    "- Customized Konlpy를 사용하여 사용자 사전 추가를 실행했다."
   ]
  },
  {
   "cell_type": "markdown",
   "id": "foster-screen",
   "metadata": {},
   "source": [
    "__2. 메모리 네트워크가 정상적으로 구현되어 학습이 안정적으로 진행되었다.__  "
   ]
  },
  {
   "cell_type": "markdown",
   "id": "false-category",
   "metadata": {},
   "source": [
    "- validation loss가 안정적으로 수렴하는 것을 확인하고 이를 시각화하였다."
   ]
  },
  {
   "cell_type": "markdown",
   "id": "inappropriate-strike",
   "metadata": {},
   "source": [
    "__3. 메모리 네트워크를 통해 한국어 bAbI 태스크의 높은 정확도를 달성하였다.__ "
   ]
  },
  {
   "cell_type": "markdown",
   "id": "powered-choir",
   "metadata": {},
   "source": [
    "- 추론 태스크의 테스트 정확도가 90% 이상 달성하였다. : 94% 달성\n",
    "- 임의로 출력한 30개의 예측 결과 중 오답은 1개였다."
   ]
  },
  {
   "cell_type": "markdown",
   "id": "competent-three",
   "metadata": {},
   "source": [
    "---"
   ]
  },
  {
   "cell_type": "markdown",
   "id": "breeding-designer",
   "metadata": {},
   "source": [
    "# 회고"
   ]
  },
  {
   "cell_type": "markdown",
   "id": "effective-interest",
   "metadata": {},
   "source": [
    "- 이번 노드는 그대로 따라서 진행하되 한국어로만 변경하면 되서 비교적 쉬웠다.\n",
    "- Customized Konlpy를 사용해 사전에 단어를 직접 추가하는 방법을 알 수 있었다.\n",
    "- 그러나 생각보다 정확도 90%가 나오지 않아 하이퍼파라미터를 몇 가지 변경해 가면서 시도해 보았고 그 과정에서 시각화를 통해 결과가 어떻게 변하는지 파악할 수 있었다."
   ]
  }
 ],
 "metadata": {
  "kernelspec": {
   "display_name": "aiffel",
   "language": "python",
   "name": "aiffel"
  },
  "language_info": {
   "codemirror_mode": {
    "name": "ipython",
    "version": 3
   },
   "file_extension": ".py",
   "mimetype": "text/x-python",
   "name": "python",
   "nbconvert_exporter": "python",
   "pygments_lexer": "ipython3",
   "version": "3.7.9"
  },
  "toc": {
   "base_numbering": 1,
   "nav_menu": {},
   "number_sections": true,
   "sideBar": true,
   "skip_h1_title": false,
   "title_cell": "Table of Contents",
   "title_sidebar": "Contents",
   "toc_cell": false,
   "toc_position": {},
   "toc_section_display": true,
   "toc_window_display": false
  },
  "varInspector": {
   "cols": {
    "lenName": 16,
    "lenType": 16,
    "lenVar": 40
   },
   "kernels_config": {
    "python": {
     "delete_cmd_postfix": "",
     "delete_cmd_prefix": "del ",
     "library": "var_list.py",
     "varRefreshCmd": "print(var_dic_list())"
    },
    "r": {
     "delete_cmd_postfix": ") ",
     "delete_cmd_prefix": "rm(",
     "library": "var_list.r",
     "varRefreshCmd": "cat(var_dic_list()) "
    }
   },
   "types_to_exclude": [
    "module",
    "function",
    "builtin_function_or_method",
    "instance",
    "_Feature"
   ],
   "window_display": false
  }
 },
 "nbformat": 4,
 "nbformat_minor": 5
}
